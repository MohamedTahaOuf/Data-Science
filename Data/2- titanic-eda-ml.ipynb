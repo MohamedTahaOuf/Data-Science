{
 "cells": [
  {
   "cell_type": "markdown",
   "id": "d0eb3506",
   "metadata": {
    "papermill": {
     "duration": 0.012755,
     "end_time": "2023-03-11T15:06:05.134009",
     "exception": false,
     "start_time": "2023-03-11T15:06:05.121254",
     "status": "completed"
    },
    "tags": []
   },
   "source": [
    "\n",
    "\n",
    "# Titanic - Machine Learning from Disaster\n",
    "\n",
    "## Table of Contents\n",
    "<ul>\n",
    "<li><a href=\"#intro\">Introduction</a></li>\n",
    "<li><a href=\"#wrangling\">Data Wrangling</a></li>\n",
    "<li><a href=\"#eda\">Exploratory Data Analysis</a></li>\n",
    "<li><a href=\"#ML\">ML - classification</a></li>\n",
    "<li><a href=\"#conclusions\">Conclusions</a></li>\n",
    "</ul>"
   ]
  },
  {
   "cell_type": "markdown",
   "id": "eee6e0ab",
   "metadata": {
    "papermill": {
     "duration": 0.011803,
     "end_time": "2023-03-11T15:06:05.159590",
     "exception": false,
     "start_time": "2023-03-11T15:06:05.147787",
     "status": "completed"
    },
    "tags": []
   },
   "source": [
    "<a id='intro'></a>\n",
    "## Introduction\n",
    "\n",
    ">In this project we will answer some questions on the disaster of Titanic ship this data containing around 890 info about the passengers of Titanic from this data,We will figure out the reason of death for each case using EDA and ML, So lets get started.\n",
    "\n",
    "Step one EDA\n",
    "We will provide some questions such as:\n",
    "<ul>\n",
    "<li><a href=\"#Q1\">1- How many people dead and how many survived ?</a></li>\n",
    "<li><a href=\"#Q2\">2- Is the class of each passenger effected on their death ?</a></li>\n",
    "<li><a href=\"#Q3\">3- What is the range age of the people on the ship ?</a></li>\n",
    "<li><a href=\"#Q4\">4- How many male and female dead ?</a></li>\n",
    "</ul>\n",
    "\n",
    "            \n",
    "Step two Machine learning\n",
    "<ul>\n",
    "<li><a href=\"#ML1\">1- LogisticRegression.</a></li>\n",
    "<li><a href=\"#ML2\">2- SVC.</a></li>\n",
    "<li><a href=\"#ML3\">3- DecisionTreeClassifier.</a></li>\n",
    "<li><a href=\"#ML4\">4- KNeighborsClassifier.</a></li>\n",
    "<li><a href=\"#ML5\">5- MultinomialNB.</a></li>\n",
    "<li><a href=\"#ML6\">6- RandomForestClassifier.</a></li>\n",
    "<li><a href=\"#ML7\">7- GridSearchCV.</a></li>\n",
    "</ul>"
   ]
  },
  {
   "cell_type": "markdown",
   "id": "1e71bdc7",
   "metadata": {
    "papermill": {
     "duration": 0.011165,
     "end_time": "2023-03-11T15:06:05.184026",
     "exception": false,
     "start_time": "2023-03-11T15:06:05.172861",
     "status": "completed"
    },
    "tags": []
   },
   "source": [
    "* First thing first we will import some important functions"
   ]
  },
  {
   "cell_type": "code",
   "execution_count": 1,
   "id": "50e27d8e",
   "metadata": {
    "execution": {
     "iopub.execute_input": "2023-03-11T15:06:05.208854Z",
     "iopub.status.busy": "2023-03-11T15:06:05.207939Z",
     "iopub.status.idle": "2023-03-11T15:06:06.238241Z",
     "shell.execute_reply": "2023-03-11T15:06:06.236997Z"
    },
    "papermill": {
     "duration": 1.046008,
     "end_time": "2023-03-11T15:06:06.241049",
     "exception": false,
     "start_time": "2023-03-11T15:06:05.195041",
     "status": "completed"
    },
    "tags": []
   },
   "outputs": [],
   "source": [
    "import pandas as pd\n",
    "import numpy as np\n",
    "import matplotlib.pyplot as plt\n",
    "import seaborn as sns"
   ]
  },
  {
   "cell_type": "markdown",
   "id": "17507a33",
   "metadata": {
    "papermill": {
     "duration": 0.01069,
     "end_time": "2023-03-11T15:06:06.263226",
     "exception": false,
     "start_time": "2023-03-11T15:06:06.252536",
     "status": "completed"
    },
    "tags": []
   },
   "source": [
    "<a id='wrangling'></a>\n",
    "## Data Wrangling\n",
    "\n",
    "\n",
    "> In this section we will clear the unused data to can analyze it and answer the questions easily.\n",
    "\n",
    "### General Properties"
   ]
  },
  {
   "cell_type": "code",
   "execution_count": 2,
   "id": "dd4f3948",
   "metadata": {
    "execution": {
     "iopub.execute_input": "2023-03-11T15:06:06.286992Z",
     "iopub.status.busy": "2023-03-11T15:06:06.286565Z",
     "iopub.status.idle": "2023-03-11T15:06:06.330938Z",
     "shell.execute_reply": "2023-03-11T15:06:06.329775Z"
    },
    "papermill": {
     "duration": 0.059474,
     "end_time": "2023-03-11T15:06:06.333608",
     "exception": false,
     "start_time": "2023-03-11T15:06:06.274134",
     "status": "completed"
    },
    "tags": []
   },
   "outputs": [
    {
     "data": {
      "text/html": [
       "<div>\n",
       "<style scoped>\n",
       "    .dataframe tbody tr th:only-of-type {\n",
       "        vertical-align: middle;\n",
       "    }\n",
       "\n",
       "    .dataframe tbody tr th {\n",
       "        vertical-align: top;\n",
       "    }\n",
       "\n",
       "    .dataframe thead th {\n",
       "        text-align: right;\n",
       "    }\n",
       "</style>\n",
       "<table border=\"1\" class=\"dataframe\">\n",
       "  <thead>\n",
       "    <tr style=\"text-align: right;\">\n",
       "      <th></th>\n",
       "      <th>PassengerId</th>\n",
       "      <th>Survived</th>\n",
       "      <th>Pclass</th>\n",
       "      <th>Name</th>\n",
       "      <th>Sex</th>\n",
       "      <th>Age</th>\n",
       "      <th>SibSp</th>\n",
       "      <th>Parch</th>\n",
       "      <th>Ticket</th>\n",
       "      <th>Fare</th>\n",
       "      <th>Cabin</th>\n",
       "      <th>Embarked</th>\n",
       "    </tr>\n",
       "  </thead>\n",
       "  <tbody>\n",
       "    <tr>\n",
       "      <th>0</th>\n",
       "      <td>1</td>\n",
       "      <td>0</td>\n",
       "      <td>3</td>\n",
       "      <td>Braund, Mr. Owen Harris</td>\n",
       "      <td>male</td>\n",
       "      <td>22.0</td>\n",
       "      <td>1</td>\n",
       "      <td>0</td>\n",
       "      <td>A/5 21171</td>\n",
       "      <td>7.2500</td>\n",
       "      <td>NaN</td>\n",
       "      <td>S</td>\n",
       "    </tr>\n",
       "    <tr>\n",
       "      <th>1</th>\n",
       "      <td>2</td>\n",
       "      <td>1</td>\n",
       "      <td>1</td>\n",
       "      <td>Cumings, Mrs. John Bradley (Florence Briggs Th...</td>\n",
       "      <td>female</td>\n",
       "      <td>38.0</td>\n",
       "      <td>1</td>\n",
       "      <td>0</td>\n",
       "      <td>PC 17599</td>\n",
       "      <td>71.2833</td>\n",
       "      <td>C85</td>\n",
       "      <td>C</td>\n",
       "    </tr>\n",
       "    <tr>\n",
       "      <th>2</th>\n",
       "      <td>3</td>\n",
       "      <td>1</td>\n",
       "      <td>3</td>\n",
       "      <td>Heikkinen, Miss. Laina</td>\n",
       "      <td>female</td>\n",
       "      <td>26.0</td>\n",
       "      <td>0</td>\n",
       "      <td>0</td>\n",
       "      <td>STON/O2. 3101282</td>\n",
       "      <td>7.9250</td>\n",
       "      <td>NaN</td>\n",
       "      <td>S</td>\n",
       "    </tr>\n",
       "    <tr>\n",
       "      <th>3</th>\n",
       "      <td>4</td>\n",
       "      <td>1</td>\n",
       "      <td>1</td>\n",
       "      <td>Futrelle, Mrs. Jacques Heath (Lily May Peel)</td>\n",
       "      <td>female</td>\n",
       "      <td>35.0</td>\n",
       "      <td>1</td>\n",
       "      <td>0</td>\n",
       "      <td>113803</td>\n",
       "      <td>53.1000</td>\n",
       "      <td>C123</td>\n",
       "      <td>S</td>\n",
       "    </tr>\n",
       "    <tr>\n",
       "      <th>4</th>\n",
       "      <td>5</td>\n",
       "      <td>0</td>\n",
       "      <td>3</td>\n",
       "      <td>Allen, Mr. William Henry</td>\n",
       "      <td>male</td>\n",
       "      <td>35.0</td>\n",
       "      <td>0</td>\n",
       "      <td>0</td>\n",
       "      <td>373450</td>\n",
       "      <td>8.0500</td>\n",
       "      <td>NaN</td>\n",
       "      <td>S</td>\n",
       "    </tr>\n",
       "  </tbody>\n",
       "</table>\n",
       "</div>"
      ],
      "text/plain": [
       "   PassengerId  Survived  Pclass  \\\n",
       "0            1         0       3   \n",
       "1            2         1       1   \n",
       "2            3         1       3   \n",
       "3            4         1       1   \n",
       "4            5         0       3   \n",
       "\n",
       "                                                Name     Sex   Age  SibSp  \\\n",
       "0                            Braund, Mr. Owen Harris    male  22.0      1   \n",
       "1  Cumings, Mrs. John Bradley (Florence Briggs Th...  female  38.0      1   \n",
       "2                             Heikkinen, Miss. Laina  female  26.0      0   \n",
       "3       Futrelle, Mrs. Jacques Heath (Lily May Peel)  female  35.0      1   \n",
       "4                           Allen, Mr. William Henry    male  35.0      0   \n",
       "\n",
       "   Parch            Ticket     Fare Cabin Embarked  \n",
       "0      0         A/5 21171   7.2500   NaN        S  \n",
       "1      0          PC 17599  71.2833   C85        C  \n",
       "2      0  STON/O2. 3101282   7.9250   NaN        S  \n",
       "3      0            113803  53.1000  C123        S  \n",
       "4      0            373450   8.0500   NaN        S  "
      ]
     },
     "execution_count": 2,
     "metadata": {},
     "output_type": "execute_result"
    }
   ],
   "source": [
    "#Here we will load the data and print out a few lines. Perform operations to inspect data\n",
    "df=pd.read_csv('/kaggle/input/titanic/train.csv')\n",
    "df.head()"
   ]
  },
  {
   "cell_type": "code",
   "execution_count": 3,
   "id": "eb4f5d72",
   "metadata": {
    "execution": {
     "iopub.execute_input": "2023-03-11T15:06:06.362041Z",
     "iopub.status.busy": "2023-03-11T15:06:06.361634Z",
     "iopub.status.idle": "2023-03-11T15:06:06.369909Z",
     "shell.execute_reply": "2023-03-11T15:06:06.368871Z"
    },
    "papermill": {
     "duration": 0.023735,
     "end_time": "2023-03-11T15:06:06.372343",
     "exception": false,
     "start_time": "2023-03-11T15:06:06.348608",
     "status": "completed"
    },
    "scrolled": true,
    "tags": []
   },
   "outputs": [],
   "source": [
    "#Here we remove some unused data to the project\n",
    "df.drop(['PassengerId','Ticket','Name','Cabin'],axis=1,inplace=True)"
   ]
  },
  {
   "cell_type": "code",
   "execution_count": 4,
   "id": "e83134a5",
   "metadata": {
    "execution": {
     "iopub.execute_input": "2023-03-11T15:06:06.397213Z",
     "iopub.status.busy": "2023-03-11T15:06:06.396834Z",
     "iopub.status.idle": "2023-03-11T15:06:06.418382Z",
     "shell.execute_reply": "2023-03-11T15:06:06.417625Z"
    },
    "papermill": {
     "duration": 0.036921,
     "end_time": "2023-03-11T15:06:06.420941",
     "exception": false,
     "start_time": "2023-03-11T15:06:06.384020",
     "status": "completed"
    },
    "tags": []
   },
   "outputs": [
    {
     "name": "stdout",
     "output_type": "stream",
     "text": [
      "<class 'pandas.core.frame.DataFrame'>\n",
      "RangeIndex: 891 entries, 0 to 890\n",
      "Data columns (total 8 columns):\n",
      " #   Column    Non-Null Count  Dtype  \n",
      "---  ------    --------------  -----  \n",
      " 0   Survived  891 non-null    int64  \n",
      " 1   Pclass    891 non-null    int64  \n",
      " 2   Sex       891 non-null    object \n",
      " 3   Age       714 non-null    float64\n",
      " 4   SibSp     891 non-null    int64  \n",
      " 5   Parch     891 non-null    int64  \n",
      " 6   Fare      891 non-null    float64\n",
      " 7   Embarked  889 non-null    object \n",
      "dtypes: float64(2), int64(4), object(2)\n",
      "memory usage: 55.8+ KB\n"
     ]
    }
   ],
   "source": [
    "#check the info of the data\n",
    "df.info()"
   ]
  },
  {
   "cell_type": "code",
   "execution_count": 5,
   "id": "2883cc39",
   "metadata": {
    "execution": {
     "iopub.execute_input": "2023-03-11T15:06:06.446983Z",
     "iopub.status.busy": "2023-03-11T15:06:06.446297Z",
     "iopub.status.idle": "2023-03-11T15:06:06.477207Z",
     "shell.execute_reply": "2023-03-11T15:06:06.475993Z"
    },
    "papermill": {
     "duration": 0.047244,
     "end_time": "2023-03-11T15:06:06.479692",
     "exception": false,
     "start_time": "2023-03-11T15:06:06.432448",
     "status": "completed"
    },
    "tags": []
   },
   "outputs": [
    {
     "data": {
      "text/html": [
       "<div>\n",
       "<style scoped>\n",
       "    .dataframe tbody tr th:only-of-type {\n",
       "        vertical-align: middle;\n",
       "    }\n",
       "\n",
       "    .dataframe tbody tr th {\n",
       "        vertical-align: top;\n",
       "    }\n",
       "\n",
       "    .dataframe thead th {\n",
       "        text-align: right;\n",
       "    }\n",
       "</style>\n",
       "<table border=\"1\" class=\"dataframe\">\n",
       "  <thead>\n",
       "    <tr style=\"text-align: right;\">\n",
       "      <th></th>\n",
       "      <th>Survived</th>\n",
       "      <th>Pclass</th>\n",
       "      <th>Age</th>\n",
       "      <th>SibSp</th>\n",
       "      <th>Parch</th>\n",
       "      <th>Fare</th>\n",
       "    </tr>\n",
       "  </thead>\n",
       "  <tbody>\n",
       "    <tr>\n",
       "      <th>count</th>\n",
       "      <td>891.000000</td>\n",
       "      <td>891.000000</td>\n",
       "      <td>714.000000</td>\n",
       "      <td>891.000000</td>\n",
       "      <td>891.000000</td>\n",
       "      <td>891.000000</td>\n",
       "    </tr>\n",
       "    <tr>\n",
       "      <th>mean</th>\n",
       "      <td>0.383838</td>\n",
       "      <td>2.308642</td>\n",
       "      <td>29.699118</td>\n",
       "      <td>0.523008</td>\n",
       "      <td>0.381594</td>\n",
       "      <td>32.204208</td>\n",
       "    </tr>\n",
       "    <tr>\n",
       "      <th>std</th>\n",
       "      <td>0.486592</td>\n",
       "      <td>0.836071</td>\n",
       "      <td>14.526497</td>\n",
       "      <td>1.102743</td>\n",
       "      <td>0.806057</td>\n",
       "      <td>49.693429</td>\n",
       "    </tr>\n",
       "    <tr>\n",
       "      <th>min</th>\n",
       "      <td>0.000000</td>\n",
       "      <td>1.000000</td>\n",
       "      <td>0.420000</td>\n",
       "      <td>0.000000</td>\n",
       "      <td>0.000000</td>\n",
       "      <td>0.000000</td>\n",
       "    </tr>\n",
       "    <tr>\n",
       "      <th>25%</th>\n",
       "      <td>0.000000</td>\n",
       "      <td>2.000000</td>\n",
       "      <td>20.125000</td>\n",
       "      <td>0.000000</td>\n",
       "      <td>0.000000</td>\n",
       "      <td>7.910400</td>\n",
       "    </tr>\n",
       "    <tr>\n",
       "      <th>50%</th>\n",
       "      <td>0.000000</td>\n",
       "      <td>3.000000</td>\n",
       "      <td>28.000000</td>\n",
       "      <td>0.000000</td>\n",
       "      <td>0.000000</td>\n",
       "      <td>14.454200</td>\n",
       "    </tr>\n",
       "    <tr>\n",
       "      <th>75%</th>\n",
       "      <td>1.000000</td>\n",
       "      <td>3.000000</td>\n",
       "      <td>38.000000</td>\n",
       "      <td>1.000000</td>\n",
       "      <td>0.000000</td>\n",
       "      <td>31.000000</td>\n",
       "    </tr>\n",
       "    <tr>\n",
       "      <th>max</th>\n",
       "      <td>1.000000</td>\n",
       "      <td>3.000000</td>\n",
       "      <td>80.000000</td>\n",
       "      <td>8.000000</td>\n",
       "      <td>6.000000</td>\n",
       "      <td>512.329200</td>\n",
       "    </tr>\n",
       "  </tbody>\n",
       "</table>\n",
       "</div>"
      ],
      "text/plain": [
       "         Survived      Pclass         Age       SibSp       Parch        Fare\n",
       "count  891.000000  891.000000  714.000000  891.000000  891.000000  891.000000\n",
       "mean     0.383838    2.308642   29.699118    0.523008    0.381594   32.204208\n",
       "std      0.486592    0.836071   14.526497    1.102743    0.806057   49.693429\n",
       "min      0.000000    1.000000    0.420000    0.000000    0.000000    0.000000\n",
       "25%      0.000000    2.000000   20.125000    0.000000    0.000000    7.910400\n",
       "50%      0.000000    3.000000   28.000000    0.000000    0.000000   14.454200\n",
       "75%      1.000000    3.000000   38.000000    1.000000    0.000000   31.000000\n",
       "max      1.000000    3.000000   80.000000    8.000000    6.000000  512.329200"
      ]
     },
     "execution_count": 5,
     "metadata": {},
     "output_type": "execute_result"
    }
   ],
   "source": [
    "#explore the describe of the data.\n",
    "df.describe()"
   ]
  },
  {
   "cell_type": "code",
   "execution_count": 6,
   "id": "8e2cbca4",
   "metadata": {
    "execution": {
     "iopub.execute_input": "2023-03-11T15:06:06.505618Z",
     "iopub.status.busy": "2023-03-11T15:06:06.504887Z",
     "iopub.status.idle": "2023-03-11T15:06:06.520069Z",
     "shell.execute_reply": "2023-03-11T15:06:06.518972Z"
    },
    "papermill": {
     "duration": 0.030857,
     "end_time": "2023-03-11T15:06:06.522472",
     "exception": false,
     "start_time": "2023-03-11T15:06:06.491615",
     "status": "completed"
    },
    "tags": []
   },
   "outputs": [
    {
     "data": {
      "text/html": [
       "<div>\n",
       "<style scoped>\n",
       "    .dataframe tbody tr th:only-of-type {\n",
       "        vertical-align: middle;\n",
       "    }\n",
       "\n",
       "    .dataframe tbody tr th {\n",
       "        vertical-align: top;\n",
       "    }\n",
       "\n",
       "    .dataframe thead th {\n",
       "        text-align: right;\n",
       "    }\n",
       "</style>\n",
       "<table border=\"1\" class=\"dataframe\">\n",
       "  <thead>\n",
       "    <tr style=\"text-align: right;\">\n",
       "      <th></th>\n",
       "      <th>Sex</th>\n",
       "      <th>Embarked</th>\n",
       "    </tr>\n",
       "  </thead>\n",
       "  <tbody>\n",
       "    <tr>\n",
       "      <th>count</th>\n",
       "      <td>891</td>\n",
       "      <td>889</td>\n",
       "    </tr>\n",
       "    <tr>\n",
       "      <th>unique</th>\n",
       "      <td>2</td>\n",
       "      <td>3</td>\n",
       "    </tr>\n",
       "    <tr>\n",
       "      <th>top</th>\n",
       "      <td>male</td>\n",
       "      <td>S</td>\n",
       "    </tr>\n",
       "    <tr>\n",
       "      <th>freq</th>\n",
       "      <td>577</td>\n",
       "      <td>644</td>\n",
       "    </tr>\n",
       "  </tbody>\n",
       "</table>\n",
       "</div>"
      ],
      "text/plain": [
       "         Sex Embarked\n",
       "count    891      889\n",
       "unique     2        3\n",
       "top     male        S\n",
       "freq     577      644"
      ]
     },
     "execution_count": 6,
     "metadata": {},
     "output_type": "execute_result"
    }
   ],
   "source": [
    "df.describe(include=\"O\")"
   ]
  },
  {
   "cell_type": "markdown",
   "id": "29e2b317",
   "metadata": {
    "papermill": {
     "duration": 0.011826,
     "end_time": "2023-03-11T15:06:06.546145",
     "exception": false,
     "start_time": "2023-03-11T15:06:06.534319",
     "status": "completed"
    },
    "tags": []
   },
   "source": [
    "> * After wrangling the data we will move to the next step to cleanig the data.\n",
    "\n",
    "\n",
    "### Data Cleaning (Remove the unused data to make it more readable)"
   ]
  },
  {
   "cell_type": "code",
   "execution_count": 7,
   "id": "0509bcd1",
   "metadata": {
    "execution": {
     "iopub.execute_input": "2023-03-11T15:06:06.572863Z",
     "iopub.status.busy": "2023-03-11T15:06:06.572421Z",
     "iopub.status.idle": "2023-03-11T15:06:06.578694Z",
     "shell.execute_reply": "2023-03-11T15:06:06.577583Z"
    },
    "papermill": {
     "duration": 0.022405,
     "end_time": "2023-03-11T15:06:06.581065",
     "exception": false,
     "start_time": "2023-03-11T15:06:06.558660",
     "status": "completed"
    },
    "tags": []
   },
   "outputs": [],
   "source": [
    "df['Age'].fillna(df['Age'].median(),inplace=True)"
   ]
  },
  {
   "cell_type": "code",
   "execution_count": 8,
   "id": "d0640304",
   "metadata": {
    "execution": {
     "iopub.execute_input": "2023-03-11T15:06:06.607304Z",
     "iopub.status.busy": "2023-03-11T15:06:06.606875Z",
     "iopub.status.idle": "2023-03-11T15:06:06.612890Z",
     "shell.execute_reply": "2023-03-11T15:06:06.612028Z"
    },
    "papermill": {
     "duration": 0.021669,
     "end_time": "2023-03-11T15:06:06.614908",
     "exception": false,
     "start_time": "2023-03-11T15:06:06.593239",
     "status": "completed"
    },
    "tags": []
   },
   "outputs": [],
   "source": [
    "df['Embarked'].fillna(df['Embarked'].value_counts().index[0],inplace=True)"
   ]
  },
  {
   "cell_type": "code",
   "execution_count": 9,
   "id": "9b0d9a32",
   "metadata": {
    "execution": {
     "iopub.execute_input": "2023-03-11T15:06:06.641379Z",
     "iopub.status.busy": "2023-03-11T15:06:06.640585Z",
     "iopub.status.idle": "2023-03-11T15:06:06.653692Z",
     "shell.execute_reply": "2023-03-11T15:06:06.652234Z"
    },
    "papermill": {
     "duration": 0.028881,
     "end_time": "2023-03-11T15:06:06.655941",
     "exception": false,
     "start_time": "2023-03-11T15:06:06.627060",
     "status": "completed"
    },
    "tags": []
   },
   "outputs": [
    {
     "name": "stdout",
     "output_type": "stream",
     "text": [
      "<class 'pandas.core.frame.DataFrame'>\n",
      "RangeIndex: 891 entries, 0 to 890\n",
      "Data columns (total 8 columns):\n",
      " #   Column    Non-Null Count  Dtype  \n",
      "---  ------    --------------  -----  \n",
      " 0   Survived  891 non-null    int64  \n",
      " 1   Pclass    891 non-null    int64  \n",
      " 2   Sex       891 non-null    object \n",
      " 3   Age       891 non-null    float64\n",
      " 4   SibSp     891 non-null    int64  \n",
      " 5   Parch     891 non-null    int64  \n",
      " 6   Fare      891 non-null    float64\n",
      " 7   Embarked  891 non-null    object \n",
      "dtypes: float64(2), int64(4), object(2)\n",
      "memory usage: 55.8+ KB\n"
     ]
    }
   ],
   "source": [
    "#Now review\n",
    "df.info()"
   ]
  },
  {
   "cell_type": "markdown",
   "id": "9a2f314c",
   "metadata": {
    "papermill": {
     "duration": 0.011751,
     "end_time": "2023-03-11T15:06:06.679873",
     "exception": false,
     "start_time": "2023-03-11T15:06:06.668122",
     "status": "completed"
    },
    "tags": []
   },
   "source": [
    "<a id='eda'></a>\n",
    "## Exploratory Data Analysis\n",
    "\n",
    "> * After the wrangling and cleaning the data we need to move on the next section (Explore the data) , Here we will visualize the data and compute statistics and go through on each column and explore how this feature effect on their death."
   ]
  },
  {
   "cell_type": "markdown",
   "id": "50f4c473",
   "metadata": {
    "papermill": {
     "duration": 0.011728,
     "end_time": "2023-03-11T15:06:06.703597",
     "exception": false,
     "start_time": "2023-03-11T15:06:06.691869",
     "status": "completed"
    },
    "tags": []
   },
   "source": [
    "<a id='Q1'></a>\n",
    "\n",
    "### Research Question 1 : How many people dead and how many survived ??"
   ]
  },
  {
   "cell_type": "code",
   "execution_count": 10,
   "id": "8b526871",
   "metadata": {
    "execution": {
     "iopub.execute_input": "2023-03-11T15:06:06.728978Z",
     "iopub.status.busy": "2023-03-11T15:06:06.728579Z",
     "iopub.status.idle": "2023-03-11T15:06:06.737314Z",
     "shell.execute_reply": "2023-03-11T15:06:06.736041Z"
    },
    "papermill": {
     "duration": 0.024585,
     "end_time": "2023-03-11T15:06:06.739784",
     "exception": false,
     "start_time": "2023-03-11T15:06:06.715199",
     "status": "completed"
    },
    "tags": []
   },
   "outputs": [
    {
     "name": "stdout",
     "output_type": "stream",
     "text": [
      "Total dead people are : 549\n",
      "Total survived people are : 342\n"
     ]
    }
   ],
   "source": [
    "print(\"Total dead people are :\",df[df[\"Survived\"]==0][\"Survived\"].count())\n",
    "print(\"Total survived people are :\",df[df[\"Survived\"]==1][\"Survived\"].count())"
   ]
  },
  {
   "cell_type": "code",
   "execution_count": 11,
   "id": "7f571550",
   "metadata": {
    "execution": {
     "iopub.execute_input": "2023-03-11T15:06:06.765390Z",
     "iopub.status.busy": "2023-03-11T15:06:06.765032Z",
     "iopub.status.idle": "2023-03-11T15:06:06.979033Z",
     "shell.execute_reply": "2023-03-11T15:06:06.977927Z"
    },
    "papermill": {
     "duration": 0.229765,
     "end_time": "2023-03-11T15:06:06.981553",
     "exception": false,
     "start_time": "2023-03-11T15:06:06.751788",
     "status": "completed"
    },
    "tags": []
   },
   "outputs": [
    {
     "data": {
      "text/plain": [
       "<AxesSubplot:xlabel='Survived', ylabel='count'>"
      ]
     },
     "execution_count": 11,
     "metadata": {},
     "output_type": "execute_result"
    },
    {
     "data": {
      "image/png": "[encoded data removed]",
      "text/plain": [
       "<Figure size 640x480 with 1 Axes>"
      ]
     },
     "metadata": {},
     "output_type": "display_data"
    }
   ],
   "source": [
    "sns.countplot(x=\"Survived\",data=df)"
   ]
  },
  {
   "cell_type": "markdown",
   "id": "a52d1a87",
   "metadata": {
    "papermill": {
     "duration": 0.011919,
     "end_time": "2023-03-11T15:06:07.005969",
     "exception": false,
     "start_time": "2023-03-11T15:06:06.994050",
     "status": "completed"
    },
    "tags": []
   },
   "source": [
    "<a id='Q2'></a>\n",
    "\n",
    "### Research Question  2- Is the class of each passenger effected on their death ?"
   ]
  },
  {
   "cell_type": "code",
   "execution_count": 12,
   "id": "581e06f5",
   "metadata": {
    "execution": {
     "iopub.execute_input": "2023-03-11T15:06:07.032754Z",
     "iopub.status.busy": "2023-03-11T15:06:07.031577Z",
     "iopub.status.idle": "2023-03-11T15:06:07.046120Z",
     "shell.execute_reply": "2023-03-11T15:06:07.044968Z"
    },
    "papermill": {
     "duration": 0.030317,
     "end_time": "2023-03-11T15:06:07.048320",
     "exception": false,
     "start_time": "2023-03-11T15:06:07.018003",
     "status": "completed"
    },
    "tags": []
   },
   "outputs": [
    {
     "data": {
      "text/html": [
       "<div>\n",
       "<style scoped>\n",
       "    .dataframe tbody tr th:only-of-type {\n",
       "        vertical-align: middle;\n",
       "    }\n",
       "\n",
       "    .dataframe tbody tr th {\n",
       "        vertical-align: top;\n",
       "    }\n",
       "\n",
       "    .dataframe thead th {\n",
       "        text-align: right;\n",
       "    }\n",
       "</style>\n",
       "<table border=\"1\" class=\"dataframe\">\n",
       "  <thead>\n",
       "    <tr style=\"text-align: right;\">\n",
       "      <th></th>\n",
       "      <th></th>\n",
       "      <th>Survived</th>\n",
       "    </tr>\n",
       "    <tr>\n",
       "      <th>Pclass</th>\n",
       "      <th>Survived</th>\n",
       "      <th></th>\n",
       "    </tr>\n",
       "  </thead>\n",
       "  <tbody>\n",
       "    <tr>\n",
       "      <th rowspan=\"2\" valign=\"top\">1</th>\n",
       "      <th>0</th>\n",
       "      <td>80</td>\n",
       "    </tr>\n",
       "    <tr>\n",
       "      <th>1</th>\n",
       "      <td>136</td>\n",
       "    </tr>\n",
       "    <tr>\n",
       "      <th rowspan=\"2\" valign=\"top\">2</th>\n",
       "      <th>0</th>\n",
       "      <td>97</td>\n",
       "    </tr>\n",
       "    <tr>\n",
       "      <th>1</th>\n",
       "      <td>87</td>\n",
       "    </tr>\n",
       "    <tr>\n",
       "      <th rowspan=\"2\" valign=\"top\">3</th>\n",
       "      <th>0</th>\n",
       "      <td>372</td>\n",
       "    </tr>\n",
       "    <tr>\n",
       "      <th>1</th>\n",
       "      <td>119</td>\n",
       "    </tr>\n",
       "  </tbody>\n",
       "</table>\n",
       "</div>"
      ],
      "text/plain": [
       "                 Survived\n",
       "Pclass Survived          \n",
       "1      0               80\n",
       "       1              136\n",
       "2      0               97\n",
       "       1               87\n",
       "3      0              372\n",
       "       1              119"
      ]
     },
     "execution_count": 12,
     "metadata": {},
     "output_type": "execute_result"
    }
   ],
   "source": [
    "pd.DataFrame(df.groupby([\"Pclass\",\"Survived\"])[\"Survived\"].count())"
   ]
  },
  {
   "cell_type": "code",
   "execution_count": 13,
   "id": "656e08b5",
   "metadata": {
    "execution": {
     "iopub.execute_input": "2023-03-11T15:06:07.075324Z",
     "iopub.status.busy": "2023-03-11T15:06:07.074895Z",
     "iopub.status.idle": "2023-03-11T15:06:07.314144Z",
     "shell.execute_reply": "2023-03-11T15:06:07.313048Z"
    },
    "papermill": {
     "duration": 0.255728,
     "end_time": "2023-03-11T15:06:07.316671",
     "exception": false,
     "start_time": "2023-03-11T15:06:07.060943",
     "status": "completed"
    },
    "tags": []
   },
   "outputs": [
    {
     "data": {
      "image/png": "[encoded data removed]",
      "text/plain": [
       "<Figure size 640x480 with 1 Axes>"
      ]
     },
     "metadata": {},
     "output_type": "display_data"
    }
   ],
   "source": [
    "sns.countplot(x=\"Pclass\",hue=\"Survived\",data=df);"
   ]
  },
  {
   "cell_type": "markdown",
   "id": "11779a00",
   "metadata": {
    "papermill": {
     "duration": 0.012343,
     "end_time": "2023-03-11T15:06:07.342057",
     "exception": false,
     "start_time": "2023-03-11T15:06:07.329714",
     "status": "completed"
    },
    "tags": []
   },
   "source": [
    "As we see above around 68% of the total dead people from class 3 and only 21.7% is alive"
   ]
  },
  {
   "cell_type": "markdown",
   "id": "4cd3ac92",
   "metadata": {
    "papermill": {
     "duration": 0.012694,
     "end_time": "2023-03-11T15:06:07.367515",
     "exception": false,
     "start_time": "2023-03-11T15:06:07.354821",
     "status": "completed"
    },
    "tags": []
   },
   "source": [
    "<a id='Q3'></a>\n",
    "\n",
    "### Research Question  3- What is the range age of the people on the ship ?"
   ]
  },
  {
   "cell_type": "code",
   "execution_count": 14,
   "id": "136d35b4",
   "metadata": {
    "execution": {
     "iopub.execute_input": "2023-03-11T15:06:07.395579Z",
     "iopub.status.busy": "2023-03-11T15:06:07.394884Z",
     "iopub.status.idle": "2023-03-11T15:06:07.677795Z",
     "shell.execute_reply": "2023-03-11T15:06:07.676566Z"
    },
    "papermill": {
     "duration": 0.299762,
     "end_time": "2023-03-11T15:06:07.680249",
     "exception": false,
     "start_time": "2023-03-11T15:06:07.380487",
     "status": "completed"
    },
    "tags": []
   },
   "outputs": [
    {
     "name": "stderr",
     "output_type": "stream",
     "text": [
      "/opt/conda/lib/python3.7/site-packages/ipykernel_launcher.py:1: UserWarning: \n",
      "\n",
      "`distplot` is a deprecated function and will be removed in seaborn v0.14.0.\n",
      "\n",
      "Please adapt your code to use either `displot` (a figure-level function with\n",
      "similar flexibility) or `histplot` (an axes-level function for histograms).\n",
      "\n",
      "For a guide to updating your code to use the new functions, please see\n",
      "https://gist.github.com/mwaskom/de44147ed2974457ad6372750bbe5751\n",
      "\n",
      "  \"\"\"Entry point for launching an IPython kernel.\n"
     ]
    },
    {
     "data": {
      "image/png": "[encoded data removed]",
      "text/plain": [
       "<Figure size 640x480 with 1 Axes>"
      ]
     },
     "metadata": {},
     "output_type": "display_data"
    }
   ],
   "source": [
    "sns.distplot(df[\"Age\"],bins=20,kde=True);"
   ]
  },
  {
   "cell_type": "markdown",
   "id": "c7e7d770",
   "metadata": {
    "papermill": {
     "duration": 0.013403,
     "end_time": "2023-03-11T15:06:07.707477",
     "exception": false,
     "start_time": "2023-03-11T15:06:07.694074",
     "status": "completed"
    },
    "tags": []
   },
   "source": [
    "Almost of the passengers are on age from 21 and 35"
   ]
  },
  {
   "cell_type": "markdown",
   "id": "9e3fcb00",
   "metadata": {
    "papermill": {
     "duration": 0.01304,
     "end_time": "2023-03-11T15:06:07.734066",
     "exception": false,
     "start_time": "2023-03-11T15:06:07.721026",
     "status": "completed"
    },
    "tags": []
   },
   "source": [
    "How many male and female dead"
   ]
  },
  {
   "cell_type": "markdown",
   "id": "853933bf",
   "metadata": {
    "papermill": {
     "duration": 0.013388,
     "end_time": "2023-03-11T15:06:07.761116",
     "exception": false,
     "start_time": "2023-03-11T15:06:07.747728",
     "status": "completed"
    },
    "tags": []
   },
   "source": [
    "First we should take in considration the number of the total male and female on titanic to make sure is there counts are balanced or not"
   ]
  },
  {
   "cell_type": "markdown",
   "id": "56c121db",
   "metadata": {
    "papermill": {
     "duration": 0.013211,
     "end_time": "2023-03-11T15:06:07.787749",
     "exception": false,
     "start_time": "2023-03-11T15:06:07.774538",
     "status": "completed"
    },
    "tags": []
   },
   "source": [
    "<a id='Q4'></a>\n",
    "\n",
    "### Research Question  4- How many male and female dead ?\n"
   ]
  },
  {
   "cell_type": "code",
   "execution_count": 15,
   "id": "6c6bd95e",
   "metadata": {
    "execution": {
     "iopub.execute_input": "2023-03-11T15:06:07.816629Z",
     "iopub.status.busy": "2023-03-11T15:06:07.815648Z",
     "iopub.status.idle": "2023-03-11T15:06:08.011287Z",
     "shell.execute_reply": "2023-03-11T15:06:08.009967Z"
    },
    "papermill": {
     "duration": 0.212719,
     "end_time": "2023-03-11T15:06:08.013775",
     "exception": false,
     "start_time": "2023-03-11T15:06:07.801056",
     "status": "completed"
    },
    "tags": []
   },
   "outputs": [
    {
     "data": {
      "text/plain": [
       "<AxesSubplot:xlabel='Sex', ylabel='count'>"
      ]
     },
     "execution_count": 15,
     "metadata": {},
     "output_type": "execute_result"
    },
    {
     "data": {
      "image/png": "[encoded data removed]",
      "text/plain": [
       "<Figure size 640x480 with 1 Axes>"
      ]
     },
     "metadata": {},
     "output_type": "display_data"
    }
   ],
   "source": [
    "sns.countplot(data=df,x=\"Sex\")"
   ]
  },
  {
   "cell_type": "markdown",
   "id": "45d0b031",
   "metadata": {
    "papermill": {
     "duration": 0.01311,
     "end_time": "2023-03-11T15:06:08.040811",
     "exception": false,
     "start_time": "2023-03-11T15:06:08.027701",
     "status": "completed"
    },
    "tags": []
   },
   "source": [
    "as above the number of the male passengers are the double number of female so i suggest to normalize it."
   ]
  },
  {
   "cell_type": "code",
   "execution_count": 16,
   "id": "104251df",
   "metadata": {
    "execution": {
     "iopub.execute_input": "2023-03-11T15:06:08.069651Z",
     "iopub.status.busy": "2023-03-11T15:06:08.068822Z",
     "iopub.status.idle": "2023-03-11T15:06:08.085520Z",
     "shell.execute_reply": "2023-03-11T15:06:08.084395Z"
    },
    "papermill": {
     "duration": 0.033593,
     "end_time": "2023-03-11T15:06:08.087689",
     "exception": false,
     "start_time": "2023-03-11T15:06:08.054096",
     "status": "completed"
    },
    "tags": []
   },
   "outputs": [
    {
     "data": {
      "text/html": [
       "<div>\n",
       "<style scoped>\n",
       "    .dataframe tbody tr th:only-of-type {\n",
       "        vertical-align: middle;\n",
       "    }\n",
       "\n",
       "    .dataframe tbody tr th {\n",
       "        vertical-align: top;\n",
       "    }\n",
       "\n",
       "    .dataframe thead th {\n",
       "        text-align: right;\n",
       "    }\n",
       "</style>\n",
       "<table border=\"1\" class=\"dataframe\">\n",
       "  <thead>\n",
       "    <tr style=\"text-align: right;\">\n",
       "      <th></th>\n",
       "      <th>Sex</th>\n",
       "      <th>Survived</th>\n",
       "      <th>Percentage</th>\n",
       "    </tr>\n",
       "  </thead>\n",
       "  <tbody>\n",
       "    <tr>\n",
       "      <th>0</th>\n",
       "      <td>female</td>\n",
       "      <td>1</td>\n",
       "      <td>0.742038</td>\n",
       "    </tr>\n",
       "    <tr>\n",
       "      <th>1</th>\n",
       "      <td>female</td>\n",
       "      <td>0</td>\n",
       "      <td>0.257962</td>\n",
       "    </tr>\n",
       "    <tr>\n",
       "      <th>2</th>\n",
       "      <td>male</td>\n",
       "      <td>0</td>\n",
       "      <td>0.811092</td>\n",
       "    </tr>\n",
       "    <tr>\n",
       "      <th>3</th>\n",
       "      <td>male</td>\n",
       "      <td>1</td>\n",
       "      <td>0.188908</td>\n",
       "    </tr>\n",
       "  </tbody>\n",
       "</table>\n",
       "</div>"
      ],
      "text/plain": [
       "      Sex  Survived  Percentage\n",
       "0  female         1    0.742038\n",
       "1  female         0    0.257962\n",
       "2    male         0    0.811092\n",
       "3    male         1    0.188908"
      ]
     },
     "execution_count": 16,
     "metadata": {},
     "output_type": "execute_result"
    }
   ],
   "source": [
    "group=df.groupby(\"Sex\")[\"Survived\"].value_counts(normalize=True).rename(\"Percentage\").reset_index()\n",
    "group"
   ]
  },
  {
   "cell_type": "code",
   "execution_count": 17,
   "id": "dcdafa5d",
   "metadata": {
    "execution": {
     "iopub.execute_input": "2023-03-11T15:06:08.117375Z",
     "iopub.status.busy": "2023-03-11T15:06:08.116562Z",
     "iopub.status.idle": "2023-03-11T15:06:08.354443Z",
     "shell.execute_reply": "2023-03-11T15:06:08.353319Z"
    },
    "papermill": {
     "duration": 0.255109,
     "end_time": "2023-03-11T15:06:08.356622",
     "exception": false,
     "start_time": "2023-03-11T15:06:08.101513",
     "status": "completed"
    },
    "tags": []
   },
   "outputs": [
    {
     "data": {
      "image/png": "[encoded data removed]",
      "text/plain": [
       "<Figure size 1000x500 with 1 Axes>"
      ]
     },
     "metadata": {},
     "output_type": "display_data"
    }
   ],
   "source": [
    "# Get the counts of survivors and non-survivors for each gender\n",
    "plt.figure(figsize=(10,5))\n",
    "counts = df.groupby(\"Sex\")[\"Survived\"].value_counts(normalize=True).rename(\"proportion\").reset_index()\n",
    "\n",
    "# Create a stacked bar chart using seaborn\n",
    "sns.barplot(x=\"Sex\", y=\"proportion\", hue=\"Survived\", data=counts, palette={0: \"blue\", 1: \"black\"})\n",
    "\n",
    "# Set the axis labels and legend\n",
    "plt.xlabel(\"Sex\")\n",
    "plt.ylabel(\"Proportion\")\n",
    "    \n",
    "plt.show()"
   ]
  },
  {
   "cell_type": "markdown",
   "id": "5ba40d4f",
   "metadata": {
    "papermill": {
     "duration": 0.013966,
     "end_time": "2023-03-11T15:06:08.384925",
     "exception": false,
     "start_time": "2023-03-11T15:06:08.370959",
     "status": "completed"
    },
    "tags": []
   },
   "source": [
    "As we see on the above plot around 80% of male in the ship die and around 75% of women are lives."
   ]
  },
  {
   "cell_type": "markdown",
   "id": "ee26dd5c",
   "metadata": {
    "papermill": {
     "duration": 0.01397,
     "end_time": "2023-03-11T15:06:08.413189",
     "exception": false,
     "start_time": "2023-03-11T15:06:08.399219",
     "status": "completed"
    },
    "tags": []
   },
   "source": [
    "<a id='ML'></a>\n",
    "\n",
    "# Step Two ML"
   ]
  },
  {
   "cell_type": "markdown",
   "id": "1d97e250",
   "metadata": {
    "papermill": {
     "duration": 0.013616,
     "end_time": "2023-03-11T15:06:08.441228",
     "exception": false,
     "start_time": "2023-03-11T15:06:08.427612",
     "status": "completed"
    },
    "tags": []
   },
   "source": [
    "1st we will convert all the data to be numeric by using get dummies in pandas"
   ]
  },
  {
   "cell_type": "code",
   "execution_count": 18,
   "id": "fa04e9e0",
   "metadata": {
    "execution": {
     "iopub.execute_input": "2023-03-11T15:06:08.471335Z",
     "iopub.status.busy": "2023-03-11T15:06:08.470920Z",
     "iopub.status.idle": "2023-03-11T15:06:08.490211Z",
     "shell.execute_reply": "2023-03-11T15:06:08.488912Z"
    },
    "papermill": {
     "duration": 0.037177,
     "end_time": "2023-03-11T15:06:08.492397",
     "exception": false,
     "start_time": "2023-03-11T15:06:08.455220",
     "status": "completed"
    },
    "tags": []
   },
   "outputs": [
    {
     "name": "stdout",
     "output_type": "stream",
     "text": [
      "<class 'pandas.core.frame.DataFrame'>\n",
      "RangeIndex: 891 entries, 0 to 890\n",
      "Data columns (total 9 columns):\n",
      " #   Column      Non-Null Count  Dtype  \n",
      "---  ------      --------------  -----  \n",
      " 0   Survived    891 non-null    int64  \n",
      " 1   Pclass      891 non-null    int64  \n",
      " 2   Age         891 non-null    float64\n",
      " 3   SibSp       891 non-null    int64  \n",
      " 4   Parch       891 non-null    int64  \n",
      " 5   Fare        891 non-null    float64\n",
      " 6   Embarked_Q  891 non-null    uint8  \n",
      " 7   Embarked_S  891 non-null    uint8  \n",
      " 8   Sex_male    891 non-null    uint8  \n",
      "dtypes: float64(2), int64(4), uint8(3)\n",
      "memory usage: 44.5 KB\n"
     ]
    }
   ],
   "source": [
    "data=pd.get_dummies(df,columns=['Embarked',\"Sex\"],drop_first=True)\n",
    "data.info()"
   ]
  },
  {
   "cell_type": "code",
   "execution_count": 19,
   "id": "1152f007",
   "metadata": {
    "execution": {
     "iopub.execute_input": "2023-03-11T15:06:08.522936Z",
     "iopub.status.busy": "2023-03-11T15:06:08.522393Z",
     "iopub.status.idle": "2023-03-11T15:06:08.530283Z",
     "shell.execute_reply": "2023-03-11T15:06:08.529140Z"
    },
    "papermill": {
     "duration": 0.02584,
     "end_time": "2023-03-11T15:06:08.532424",
     "exception": false,
     "start_time": "2023-03-11T15:06:08.506584",
     "status": "completed"
    },
    "tags": []
   },
   "outputs": [],
   "source": [
    "X= data.drop(\"Survived\",axis=1).values\n",
    "y= data[\"Survived\"].values"
   ]
  },
  {
   "cell_type": "code",
   "execution_count": 20,
   "id": "41394e16",
   "metadata": {
    "execution": {
     "iopub.execute_input": "2023-03-11T15:06:08.562845Z",
     "iopub.status.busy": "2023-03-11T15:06:08.562418Z",
     "iopub.status.idle": "2023-03-11T15:06:08.941392Z",
     "shell.execute_reply": "2023-03-11T15:06:08.940138Z"
    },
    "papermill": {
     "duration": 0.397361,
     "end_time": "2023-03-11T15:06:08.944148",
     "exception": false,
     "start_time": "2023-03-11T15:06:08.546787",
     "status": "completed"
    },
    "tags": []
   },
   "outputs": [],
   "source": [
    "from sklearn.model_selection import train_test_split\n",
    "from sklearn.linear_model import LogisticRegression\n",
    "from sklearn.tree import DecisionTreeClassifier\n",
    "from sklearn.neighbors import KNeighborsClassifier\n",
    "from sklearn.naive_bayes import MultinomialNB\n",
    "from sklearn.metrics import classification_report,confusion_matrix,accuracy_score"
   ]
  },
  {
   "cell_type": "code",
   "execution_count": 21,
   "id": "7529f261",
   "metadata": {
    "execution": {
     "iopub.execute_input": "2023-03-11T15:06:08.975239Z",
     "iopub.status.busy": "2023-03-11T15:06:08.974856Z",
     "iopub.status.idle": "2023-03-11T15:06:08.981768Z",
     "shell.execute_reply": "2023-03-11T15:06:08.980710Z"
    },
    "papermill": {
     "duration": 0.025038,
     "end_time": "2023-03-11T15:06:08.984022",
     "exception": false,
     "start_time": "2023-03-11T15:06:08.958984",
     "status": "completed"
    },
    "tags": []
   },
   "outputs": [],
   "source": [
    "x_train , x_test , y_train , y_test = train_test_split(X,y,test_size=.2,random_state=1)"
   ]
  },
  {
   "cell_type": "markdown",
   "id": "f61ed936",
   "metadata": {
    "papermill": {
     "duration": 0.013638,
     "end_time": "2023-03-11T15:06:09.011770",
     "exception": false,
     "start_time": "2023-03-11T15:06:08.998132",
     "status": "completed"
    },
    "tags": []
   },
   "source": [
    "<a id='ML1'></a>\n",
    "\n",
    "\n",
    "### LogisticRegression"
   ]
  },
  {
   "cell_type": "code",
   "execution_count": 22,
   "id": "209407a7",
   "metadata": {
    "execution": {
     "iopub.execute_input": "2023-03-11T15:06:09.040941Z",
     "iopub.status.busy": "2023-03-11T15:06:09.040560Z",
     "iopub.status.idle": "2023-03-11T15:06:09.087169Z",
     "shell.execute_reply": "2023-03-11T15:06:09.085577Z"
    },
    "papermill": {
     "duration": 0.064784,
     "end_time": "2023-03-11T15:06:09.090395",
     "exception": false,
     "start_time": "2023-03-11T15:06:09.025611",
     "status": "completed"
    },
    "tags": []
   },
   "outputs": [
    {
     "name": "stdout",
     "output_type": "stream",
     "text": [
      "linear Report for training : \n",
      "               precision    recall  f1-score   support\n",
      "\n",
      "           0       0.82      0.85      0.84       443\n",
      "           1       0.74      0.70      0.72       269\n",
      "\n",
      "    accuracy                           0.79       712\n",
      "   macro avg       0.78      0.78      0.78       712\n",
      "weighted avg       0.79      0.79      0.79       712\n",
      "\n",
      "**************************************************\n",
      "linear Report for testing : \n",
      "               precision    recall  f1-score   support\n",
      "\n",
      "           0       0.82      0.88      0.85       106\n",
      "           1       0.80      0.73      0.76        73\n",
      "\n",
      "    accuracy                           0.82       179\n",
      "   macro avg       0.81      0.80      0.81       179\n",
      "weighted avg       0.81      0.82      0.81       179\n",
      "\n"
     ]
    },
    {
     "name": "stderr",
     "output_type": "stream",
     "text": [
      "/opt/conda/lib/python3.7/site-packages/sklearn/linear_model/_logistic.py:818: ConvergenceWarning: lbfgs failed to converge (status=1):\n",
      "STOP: TOTAL NO. of ITERATIONS REACHED LIMIT.\n",
      "\n",
      "Increase the number of iterations (max_iter) or scale the data as shown in:\n",
      "    https://scikit-learn.org/stable/modules/preprocessing.html\n",
      "Please also refer to the documentation for alternative solver options:\n",
      "    https://scikit-learn.org/stable/modules/linear_model.html#logistic-regression\n",
      "  extra_warning_msg=_LOGISTIC_SOLVER_CONVERGENCE_MSG,\n"
     ]
    }
   ],
   "source": [
    "linear=LogisticRegression()\n",
    "linear.fit(x_train,y_train)\n",
    "\n",
    "y_train_pred=linear.predict(x_train)\n",
    "print(\"linear Report for training : \\n\",classification_report(y_train,y_train_pred))\n",
    "\n",
    "print(\"*\"*50)\n",
    "\n",
    "y_test_pred_LR=linear.predict(x_test)\n",
    "print(\"linear Report for testing : \\n\",classification_report(y_test,y_test_pred_LR))"
   ]
  },
  {
   "cell_type": "markdown",
   "id": "dfb37c61",
   "metadata": {
    "papermill": {
     "duration": 0.014113,
     "end_time": "2023-03-11T15:06:09.119195",
     "exception": false,
     "start_time": "2023-03-11T15:06:09.105082",
     "status": "completed"
    },
    "tags": []
   },
   "source": [
    "<a id='ML2'></a>\n",
    "\n",
    "\n",
    "### SVC"
   ]
  },
  {
   "cell_type": "code",
   "execution_count": 23,
   "id": "ad2d622f",
   "metadata": {
    "execution": {
     "iopub.execute_input": "2023-03-11T15:06:09.149972Z",
     "iopub.status.busy": "2023-03-11T15:06:09.149278Z",
     "iopub.status.idle": "2023-03-11T15:06:15.230888Z",
     "shell.execute_reply": "2023-03-11T15:06:15.229519Z"
    },
    "papermill": {
     "duration": 6.100091,
     "end_time": "2023-03-11T15:06:15.233490",
     "exception": false,
     "start_time": "2023-03-11T15:06:09.133399",
     "status": "completed"
    },
    "tags": []
   },
   "outputs": [
    {
     "name": "stdout",
     "output_type": "stream",
     "text": [
      "SVC Report for training : \n",
      "               precision    recall  f1-score   support\n",
      "\n",
      "           0       0.82      0.85      0.83       443\n",
      "           1       0.74      0.68      0.71       269\n",
      "\n",
      "    accuracy                           0.79       712\n",
      "   macro avg       0.78      0.77      0.77       712\n",
      "weighted avg       0.79      0.79      0.79       712\n",
      "\n",
      "**************************************************\n",
      "SVC Report for testing : \n",
      "               precision    recall  f1-score   support\n",
      "\n",
      "           0       0.79      0.85      0.82       106\n",
      "           1       0.75      0.67      0.71        73\n",
      "\n",
      "    accuracy                           0.78       179\n",
      "   macro avg       0.77      0.76      0.76       179\n",
      "weighted avg       0.77      0.78      0.77       179\n",
      "\n"
     ]
    }
   ],
   "source": [
    "from sklearn.svm import SVC\n",
    "SVC=SVC(kernel=\"linear\",gamma='auto')\n",
    "\n",
    "SVC.fit(x_train,y_train)\n",
    "\n",
    "y_train_pred=SVC.predict(x_train)\n",
    "print(\"SVC Report for training : \\n\",classification_report(y_train,y_train_pred))\n",
    "\n",
    "print(\"*\"*50)\n",
    "\n",
    "y_test_pred_SVC=SVC.predict(x_test)\n",
    "print(\"SVC Report for testing : \\n\",classification_report(y_test,y_test_pred_SVC))"
   ]
  },
  {
   "cell_type": "markdown",
   "id": "ee9c8f59",
   "metadata": {
    "papermill": {
     "duration": 0.014169,
     "end_time": "2023-03-11T15:06:15.262378",
     "exception": false,
     "start_time": "2023-03-11T15:06:15.248209",
     "status": "completed"
    },
    "tags": []
   },
   "source": [
    "<a id='ML3'></a>\n",
    "\n",
    "\n",
    "### DecisionTreeClassifier"
   ]
  },
  {
   "cell_type": "code",
   "execution_count": 24,
   "id": "52f6cbbc",
   "metadata": {
    "execution": {
     "iopub.execute_input": "2023-03-11T15:06:15.293783Z",
     "iopub.status.busy": "2023-03-11T15:06:15.293054Z",
     "iopub.status.idle": "2023-03-11T15:06:15.311206Z",
     "shell.execute_reply": "2023-03-11T15:06:15.309656Z"
    },
    "papermill": {
     "duration": 0.03662,
     "end_time": "2023-03-11T15:06:15.313693",
     "exception": false,
     "start_time": "2023-03-11T15:06:15.277073",
     "status": "completed"
    },
    "tags": []
   },
   "outputs": [
    {
     "name": "stdout",
     "output_type": "stream",
     "text": [
      "DecisionTreeClassifier Report for training : \n",
      "               precision    recall  f1-score   support\n",
      "\n",
      "           0       0.98      1.00      0.99       443\n",
      "           1       1.00      0.97      0.98       269\n",
      "\n",
      "    accuracy                           0.99       712\n",
      "   macro avg       0.99      0.98      0.99       712\n",
      "weighted avg       0.99      0.99      0.99       712\n",
      "\n",
      "**************************************************\n",
      "DecisionTreeClassifier Report for testing : \n",
      "               precision    recall  f1-score   support\n",
      "\n",
      "           0       0.77      0.87      0.81       106\n",
      "           1       0.76      0.62      0.68        73\n",
      "\n",
      "    accuracy                           0.77       179\n",
      "   macro avg       0.76      0.74      0.75       179\n",
      "weighted avg       0.77      0.77      0.76       179\n",
      "\n"
     ]
    }
   ],
   "source": [
    "DT=DecisionTreeClassifier()\n",
    "DT.fit(x_train,y_train)\n",
    "\n",
    "y_train_pred=DT.predict(x_train)\n",
    "print(\"DecisionTreeClassifier Report for training : \\n\",classification_report(y_train,y_train_pred))\n",
    "\n",
    "print(\"*\"*50)\n",
    "\n",
    "y_test_pred_DT=DT.predict(x_test)\n",
    "print(\"DecisionTreeClassifier Report for testing : \\n\",classification_report(y_test,y_test_pred_DT))"
   ]
  },
  {
   "cell_type": "markdown",
   "id": "42af5fd7",
   "metadata": {
    "papermill": {
     "duration": 0.015883,
     "end_time": "2023-03-11T15:06:15.344474",
     "exception": false,
     "start_time": "2023-03-11T15:06:15.328591",
     "status": "completed"
    },
    "tags": []
   },
   "source": [
    "<a id='ML4'></a>\n",
    "\n",
    "\n",
    "### KNN"
   ]
  },
  {
   "cell_type": "code",
   "execution_count": 25,
   "id": "db39954d",
   "metadata": {
    "execution": {
     "iopub.execute_input": "2023-03-11T15:06:15.381102Z",
     "iopub.status.busy": "2023-03-11T15:06:15.380572Z",
     "iopub.status.idle": "2023-03-11T15:06:15.442486Z",
     "shell.execute_reply": "2023-03-11T15:06:15.441189Z"
    },
    "papermill": {
     "duration": 0.08387,
     "end_time": "2023-03-11T15:06:15.445036",
     "exception": false,
     "start_time": "2023-03-11T15:06:15.361166",
     "status": "completed"
    },
    "tags": []
   },
   "outputs": [
    {
     "name": "stdout",
     "output_type": "stream",
     "text": [
      "KNN Report for training : \n",
      "               precision    recall  f1-score   support\n",
      "\n",
      "           0       0.81      0.89      0.85       443\n",
      "           1       0.79      0.66      0.72       269\n",
      "\n",
      "    accuracy                           0.81       712\n",
      "   macro avg       0.80      0.78      0.79       712\n",
      "weighted avg       0.80      0.81      0.80       712\n",
      "\n",
      "**************************************************\n",
      "KNN Report for testing : \n",
      "               precision    recall  f1-score   support\n",
      "\n",
      "           0       0.70      0.85      0.77       106\n",
      "           1       0.69      0.48      0.56        73\n",
      "\n",
      "    accuracy                           0.70       179\n",
      "   macro avg       0.69      0.66      0.67       179\n",
      "weighted avg       0.70      0.70      0.69       179\n",
      "\n"
     ]
    }
   ],
   "source": [
    "KNN=KNeighborsClassifier()\n",
    "KNN.fit(x_train,y_train)\n",
    "\n",
    "y_train_pred=KNN.predict(x_train)\n",
    "print(\"KNN Report for training : \\n\",classification_report(y_train,y_train_pred))\n",
    "\n",
    "print(\"*\"*50)\n",
    "\n",
    "y_test_pred_KNN=KNN.predict(x_test)\n",
    "print(\"KNN Report for testing : \\n\",classification_report(y_test,y_test_pred_KNN))"
   ]
  },
  {
   "cell_type": "markdown",
   "id": "ecc3d2da",
   "metadata": {
    "papermill": {
     "duration": 0.014716,
     "end_time": "2023-03-11T15:06:15.474586",
     "exception": false,
     "start_time": "2023-03-11T15:06:15.459870",
     "status": "completed"
    },
    "tags": []
   },
   "source": [
    "<a id='ML5'></a>\n",
    "\n",
    "\n",
    "### NaiveBayse"
   ]
  },
  {
   "cell_type": "code",
   "execution_count": 26,
   "id": "162d2559",
   "metadata": {
    "execution": {
     "iopub.execute_input": "2023-03-11T15:06:15.505995Z",
     "iopub.status.busy": "2023-03-11T15:06:15.505238Z",
     "iopub.status.idle": "2023-03-11T15:06:15.522399Z",
     "shell.execute_reply": "2023-03-11T15:06:15.521087Z"
    },
    "papermill": {
     "duration": 0.035719,
     "end_time": "2023-03-11T15:06:15.525288",
     "exception": false,
     "start_time": "2023-03-11T15:06:15.489569",
     "status": "completed"
    },
    "tags": []
   },
   "outputs": [
    {
     "name": "stdout",
     "output_type": "stream",
     "text": [
      "NaiveBayse Report for training : \n",
      "               precision    recall  f1-score   support\n",
      "\n",
      "           0       0.73      0.84      0.78       443\n",
      "           1       0.64      0.48      0.55       269\n",
      "\n",
      "    accuracy                           0.70       712\n",
      "   macro avg       0.68      0.66      0.66       712\n",
      "weighted avg       0.69      0.70      0.69       712\n",
      "\n",
      "**************************************************\n",
      "NaiveBayse Report for testing : \n",
      "               precision    recall  f1-score   support\n",
      "\n",
      "           0       0.66      0.80      0.73       106\n",
      "           1       0.59      0.41      0.48        73\n",
      "\n",
      "    accuracy                           0.64       179\n",
      "   macro avg       0.63      0.61      0.61       179\n",
      "weighted avg       0.63      0.64      0.63       179\n",
      "\n"
     ]
    }
   ],
   "source": [
    "NaiveBayse=MultinomialNB()\n",
    "NaiveBayse.fit(x_train,y_train)\n",
    "\n",
    "y_train_pred=NaiveBayse.predict(x_train)\n",
    "print(\"NaiveBayse Report for training : \\n\",classification_report(y_train,y_train_pred))\n",
    "\n",
    "print(\"*\"*50)\n",
    "\n",
    "y_test_pred_NB=NaiveBayse.predict(x_test)\n",
    "print(\"NaiveBayse Report for testing : \\n\",classification_report(y_test,y_test_pred_NB))"
   ]
  },
  {
   "cell_type": "code",
   "execution_count": 27,
   "id": "645e4482",
   "metadata": {
    "execution": {
     "iopub.execute_input": "2023-03-11T15:06:15.558746Z",
     "iopub.status.busy": "2023-03-11T15:06:15.558363Z",
     "iopub.status.idle": "2023-03-11T15:06:15.667936Z",
     "shell.execute_reply": "2023-03-11T15:06:15.666648Z"
    },
    "papermill": {
     "duration": 0.129823,
     "end_time": "2023-03-11T15:06:15.670826",
     "exception": false,
     "start_time": "2023-03-11T15:06:15.541003",
     "status": "completed"
    },
    "tags": []
   },
   "outputs": [],
   "source": [
    "from sklearn.ensemble import RandomForestClassifier\n",
    "from sklearn.model_selection import GridSearchCV"
   ]
  },
  {
   "cell_type": "markdown",
   "id": "04abc444",
   "metadata": {
    "papermill": {
     "duration": 0.014538,
     "end_time": "2023-03-11T15:06:15.700553",
     "exception": false,
     "start_time": "2023-03-11T15:06:15.686015",
     "status": "completed"
    },
    "tags": []
   },
   "source": [
    "<a id='ML6'></a>\n",
    "\n",
    "\n",
    "### RandomForestClassifier"
   ]
  },
  {
   "cell_type": "code",
   "execution_count": 28,
   "id": "7b9bb54f",
   "metadata": {
    "execution": {
     "iopub.execute_input": "2023-03-11T15:06:15.732371Z",
     "iopub.status.busy": "2023-03-11T15:06:15.731972Z",
     "iopub.status.idle": "2023-03-11T15:06:19.451023Z",
     "shell.execute_reply": "2023-03-11T15:06:19.449561Z"
    },
    "papermill": {
     "duration": 3.738191,
     "end_time": "2023-03-11T15:06:19.453677",
     "exception": false,
     "start_time": "2023-03-11T15:06:15.715486",
     "status": "completed"
    },
    "tags": []
   },
   "outputs": [
    {
     "name": "stdout",
     "output_type": "stream",
     "text": [
      "0.770949720670391\n",
      "0.7877094972067039\n",
      "0.7932960893854749\n",
      "0.7877094972067039\n",
      "0.7877094972067039\n",
      "0.7877094972067039\n"
     ]
    }
   ],
   "source": [
    "for i in [100,150,300,400,450,500]:\n",
    "    RF=RandomForestClassifier(n_estimators=i)\n",
    "    RF.fit(x_train,y_train)\n",
    "    y_test_pred_RF=RF.predict(x_test)\n",
    "    print(accuracy_score(y_test,y_test_pred_RF))"
   ]
  },
  {
   "cell_type": "markdown",
   "id": "614ba446",
   "metadata": {
    "papermill": {
     "duration": 0.014855,
     "end_time": "2023-03-11T15:06:19.483952",
     "exception": false,
     "start_time": "2023-03-11T15:06:19.469097",
     "status": "completed"
    },
    "tags": []
   },
   "source": [
    "<a id='ML7'></a>\n",
    "\n",
    "\n",
    "### GridSearchCV"
   ]
  },
  {
   "cell_type": "code",
   "execution_count": 29,
   "id": "9f320c01",
   "metadata": {
    "execution": {
     "iopub.execute_input": "2023-03-11T15:06:19.516137Z",
     "iopub.status.busy": "2023-03-11T15:06:19.515272Z",
     "iopub.status.idle": "2023-03-11T15:06:31.148065Z",
     "shell.execute_reply": "2023-03-11T15:06:31.146769Z"
    },
    "papermill": {
     "duration": 11.651268,
     "end_time": "2023-03-11T15:06:31.150370",
     "exception": false,
     "start_time": "2023-03-11T15:06:19.499102",
     "status": "completed"
    },
    "tags": []
   },
   "outputs": [
    {
     "data": {
      "text/plain": [
       "GridSearchCV(estimator=RandomForestClassifier(),\n",
       "             param_grid={'criterion': ['gini', 'entropy'],\n",
       "                         'n_estimators': [100, 200, 300]})"
      ]
     },
     "execution_count": 29,
     "metadata": {},
     "output_type": "execute_result"
    }
   ],
   "source": [
    "GS=GridSearchCV(estimator=RandomForestClassifier(),param_grid={\n",
    "    \"n_estimators\":[100,200,300],\n",
    "    \"criterion\":[\"gini\",\"entropy\"],\n",
    "})\n",
    "GS.fit(x_train,y_train)"
   ]
  },
  {
   "cell_type": "code",
   "execution_count": 30,
   "id": "3750024d",
   "metadata": {
    "execution": {
     "iopub.execute_input": "2023-03-11T15:06:31.183314Z",
     "iopub.status.busy": "2023-03-11T15:06:31.182948Z",
     "iopub.status.idle": "2023-03-11T15:06:31.189459Z",
     "shell.execute_reply": "2023-03-11T15:06:31.188354Z"
    },
    "papermill": {
     "duration": 0.025698,
     "end_time": "2023-03-11T15:06:31.191911",
     "exception": false,
     "start_time": "2023-03-11T15:06:31.166213",
     "status": "completed"
    },
    "tags": []
   },
   "outputs": [
    {
     "data": {
      "text/plain": [
       "{'criterion': 'entropy', 'n_estimators': 200}"
      ]
     },
     "execution_count": 30,
     "metadata": {},
     "output_type": "execute_result"
    }
   ],
   "source": [
    "best=GS.best_params_\n",
    "best"
   ]
  },
  {
   "cell_type": "code",
   "execution_count": 31,
   "id": "21ee8926",
   "metadata": {
    "execution": {
     "iopub.execute_input": "2023-03-11T15:06:31.224096Z",
     "iopub.status.busy": "2023-03-11T15:06:31.223429Z",
     "iopub.status.idle": "2023-03-11T15:06:32.867923Z",
     "shell.execute_reply": "2023-03-11T15:06:32.866548Z"
    },
    "papermill": {
     "duration": 1.663614,
     "end_time": "2023-03-11T15:06:32.870678",
     "exception": false,
     "start_time": "2023-03-11T15:06:31.207064",
     "status": "completed"
    },
    "scrolled": true,
    "tags": []
   },
   "outputs": [
    {
     "name": "stdout",
     "output_type": "stream",
     "text": [
      "RandomForestClassifier Report for training : \n",
      "               precision    recall  f1-score   support\n",
      "\n",
      "           0       0.99      0.99      0.99       443\n",
      "           1       0.99      0.98      0.98       269\n",
      "\n",
      "    accuracy                           0.99       712\n",
      "   macro avg       0.99      0.99      0.99       712\n",
      "weighted avg       0.99      0.99      0.99       712\n",
      "\n",
      "**************************************************\n",
      "RandomForestClassifier Report for testing : \n",
      "               precision    recall  f1-score   support\n",
      "\n",
      "           0       0.77      0.89      0.82       106\n",
      "           1       0.79      0.62      0.69        73\n",
      "\n",
      "    accuracy                           0.78       179\n",
      "   macro avg       0.78      0.75      0.76       179\n",
      "weighted avg       0.78      0.78      0.77       179\n",
      "\n"
     ]
    }
   ],
   "source": [
    "RF=RandomForestClassifier(n_estimators=i)\n",
    "RF.fit(x_train,y_train)\n",
    "y_test_pred=RF.predict(x_test)\n",
    "\n",
    "RF=RandomForestClassifier(n_estimators=300,criterion=\"entropy\")\n",
    "RF.fit(x_train,y_train)\n",
    "\n",
    "y_train_pred=RF.predict(x_train)\n",
    "print(\"RandomForestClassifier Report for training : \\n\",classification_report(y_train,y_train_pred))\n",
    "\n",
    "print(\"*\"*50)\n",
    "\n",
    "y_test_pred_RF_GS=RF.predict(x_test)\n",
    "print(\"RandomForestClassifier Report for testing : \\n\",classification_report(y_test,y_test_pred_RF_GS))"
   ]
  },
  {
   "cell_type": "markdown",
   "id": "778ea3f7",
   "metadata": {
    "papermill": {
     "duration": 0.015348,
     "end_time": "2023-03-11T15:06:32.902011",
     "exception": false,
     "start_time": "2023-03-11T15:06:32.886663",
     "status": "completed"
    },
    "tags": []
   },
   "source": [
    "<a id='conclusions'></a>\n",
    "\n",
    "# Conclusions"
   ]
  },
  {
   "cell_type": "code",
   "execution_count": 32,
   "id": "cf757981",
   "metadata": {
    "execution": {
     "iopub.execute_input": "2023-03-11T15:06:32.934121Z",
     "iopub.status.busy": "2023-03-11T15:06:32.933774Z",
     "iopub.status.idle": "2023-03-11T15:06:32.947372Z",
     "shell.execute_reply": "2023-03-11T15:06:32.946404Z"
    },
    "papermill": {
     "duration": 0.0322,
     "end_time": "2023-03-11T15:06:32.949401",
     "exception": false,
     "start_time": "2023-03-11T15:06:32.917201",
     "status": "completed"
    },
    "tags": []
   },
   "outputs": [
    {
     "data": {
      "text/html": [
       "<div>\n",
       "<style scoped>\n",
       "    .dataframe tbody tr th:only-of-type {\n",
       "        vertical-align: middle;\n",
       "    }\n",
       "\n",
       "    .dataframe tbody tr th {\n",
       "        vertical-align: top;\n",
       "    }\n",
       "\n",
       "    .dataframe thead th {\n",
       "        text-align: right;\n",
       "    }\n",
       "</style>\n",
       "<table border=\"1\" class=\"dataframe\">\n",
       "  <thead>\n",
       "    <tr style=\"text-align: right;\">\n",
       "      <th></th>\n",
       "      <th>Model name</th>\n",
       "      <th>Score</th>\n",
       "    </tr>\n",
       "  </thead>\n",
       "  <tbody>\n",
       "    <tr>\n",
       "      <th>0</th>\n",
       "      <td>LR</td>\n",
       "      <td>0.815642</td>\n",
       "    </tr>\n",
       "    <tr>\n",
       "      <th>1</th>\n",
       "      <td>SVC</td>\n",
       "      <td>0.776536</td>\n",
       "    </tr>\n",
       "    <tr>\n",
       "      <th>2</th>\n",
       "      <td>DT</td>\n",
       "      <td>0.765363</td>\n",
       "    </tr>\n",
       "    <tr>\n",
       "      <th>3</th>\n",
       "      <td>KNN</td>\n",
       "      <td>0.698324</td>\n",
       "    </tr>\n",
       "    <tr>\n",
       "      <th>4</th>\n",
       "      <td>NB</td>\n",
       "      <td>0.642458</td>\n",
       "    </tr>\n",
       "    <tr>\n",
       "      <th>5</th>\n",
       "      <td>RF</td>\n",
       "      <td>0.787709</td>\n",
       "    </tr>\n",
       "  </tbody>\n",
       "</table>\n",
       "</div>"
      ],
      "text/plain": [
       "  Model name     Score\n",
       "0         LR  0.815642\n",
       "1        SVC  0.776536\n",
       "2         DT  0.765363\n",
       "3        KNN  0.698324\n",
       "4         NB  0.642458\n",
       "5         RF  0.787709"
      ]
     },
     "execution_count": 32,
     "metadata": {},
     "output_type": "execute_result"
    }
   ],
   "source": [
    "pd.DataFrame({\"Model name\":[\"LR\",\"SVC\",\"DT\",\"KNN\",\"NB\",\"RF\"],\"Score\":[accuracy_score(y_test,y_test_pred_LR),\n",
    "accuracy_score(y_test,y_test_pred_SVC),\n",
    "accuracy_score(y_test,y_test_pred_DT),\n",
    "accuracy_score(y_test,y_test_pred_KNN),\n",
    "accuracy_score(y_test,y_test_pred_NB),\n",
    "accuracy_score(y_test,y_test_pred_RF)]})"
   ]
  }
 ],
 "metadata": {
  "kernelspec": {
   "display_name": "Python 3",
   "language": "python",
   "name": "python3"
  },
  "language_info": {
   "codemirror_mode": {
    "name": "ipython",
    "version": 3
   },
   "file_extension": ".py",
   "mimetype": "text/x-python",
   "name": "python",
   "nbconvert_exporter": "python",
   "pygments_lexer": "ipython3",
   "version": "3.7.12"
  },
  "papermill": {
   "default_parameters": {},
   "duration": 38.814417,
   "end_time": "2023-03-11T15:06:33.686910",
   "environment_variables": {},
   "exception": null,
   "input_path": "__notebook__.ipynb",
   "output_path": "__notebook__.ipynb",
   "parameters": {},
   "start_time": "2023-03-11T15:05:54.872493",
   "version": "2.4.0"
  }
 },
 "nbformat": 4,
 "nbformat_minor": 5
}
