{
 "cells": [
  {
   "cell_type": "code",
   "execution_count": 1,
   "id": "219959a4",
   "metadata": {
    "execution": {
     "iopub.execute_input": "2023-02-20T21:33:38.410236Z",
     "iopub.status.busy": "2023-02-20T21:33:38.409776Z",
     "iopub.status.idle": "2023-02-20T21:33:39.401725Z",
     "shell.execute_reply": "2023-02-20T21:33:39.400591Z"
    },
    "papermill": {
     "duration": 1.004222,
     "end_time": "2023-02-20T21:33:39.404559",
     "exception": false,
     "start_time": "2023-02-20T21:33:38.400337",
     "status": "completed"
    },
    "tags": []
   },
   "outputs": [],
   "source": [
    "# Import libraries \n",
    "import pandas as pd\n",
    "import numpy as np\n",
    "import matplotlib.pyplot as plt\n",
    "import seaborn as sns\n",
    "import matplotlib.pyplot as plt"
   ]
  },
  {
   "cell_type": "code",
   "execution_count": 2,
   "id": "e8acb36a",
   "metadata": {
    "execution": {
     "iopub.execute_input": "2023-02-20T21:33:39.418921Z",
     "iopub.status.busy": "2023-02-20T21:33:39.418555Z",
     "iopub.status.idle": "2023-02-20T21:33:39.476209Z",
     "shell.execute_reply": "2023-02-20T21:33:39.475005Z"
    },
    "papermill": {
     "duration": 0.067524,
     "end_time": "2023-02-20T21:33:39.478589",
     "exception": false,
     "start_time": "2023-02-20T21:33:39.411065",
     "status": "completed"
    },
    "tags": []
   },
   "outputs": [
    {
     "data": {
      "text/html": [
       "<div>\n",
       "<style scoped>\n",
       "    .dataframe tbody tr th:only-of-type {\n",
       "        vertical-align: middle;\n",
       "    }\n",
       "\n",
       "    .dataframe tbody tr th {\n",
       "        vertical-align: top;\n",
       "    }\n",
       "\n",
       "    .dataframe thead th {\n",
       "        text-align: right;\n",
       "    }\n",
       "</style>\n",
       "<table border=\"1\" class=\"dataframe\">\n",
       "  <thead>\n",
       "    <tr style=\"text-align: right;\">\n",
       "      <th></th>\n",
       "      <th>id</th>\n",
       "      <th>gender</th>\n",
       "      <th>age</th>\n",
       "      <th>hypertension</th>\n",
       "      <th>heart_disease</th>\n",
       "      <th>ever_married</th>\n",
       "      <th>work_type</th>\n",
       "      <th>Residence_type</th>\n",
       "      <th>avg_glucose_level</th>\n",
       "      <th>bmi</th>\n",
       "      <th>smoking_status</th>\n",
       "      <th>stroke</th>\n",
       "    </tr>\n",
       "  </thead>\n",
       "  <tbody>\n",
       "    <tr>\n",
       "      <th>0</th>\n",
       "      <td>9046</td>\n",
       "      <td>Male</td>\n",
       "      <td>67.0</td>\n",
       "      <td>0</td>\n",
       "      <td>1</td>\n",
       "      <td>Yes</td>\n",
       "      <td>Private</td>\n",
       "      <td>Urban</td>\n",
       "      <td>228.69</td>\n",
       "      <td>36.6</td>\n",
       "      <td>formerly smoked</td>\n",
       "      <td>1</td>\n",
       "    </tr>\n",
       "    <tr>\n",
       "      <th>1</th>\n",
       "      <td>51676</td>\n",
       "      <td>Female</td>\n",
       "      <td>61.0</td>\n",
       "      <td>0</td>\n",
       "      <td>0</td>\n",
       "      <td>Yes</td>\n",
       "      <td>Self-employed</td>\n",
       "      <td>Rural</td>\n",
       "      <td>202.21</td>\n",
       "      <td>NaN</td>\n",
       "      <td>never smoked</td>\n",
       "      <td>1</td>\n",
       "    </tr>\n",
       "    <tr>\n",
       "      <th>2</th>\n",
       "      <td>31112</td>\n",
       "      <td>Male</td>\n",
       "      <td>80.0</td>\n",
       "      <td>0</td>\n",
       "      <td>1</td>\n",
       "      <td>Yes</td>\n",
       "      <td>Private</td>\n",
       "      <td>Rural</td>\n",
       "      <td>105.92</td>\n",
       "      <td>32.5</td>\n",
       "      <td>never smoked</td>\n",
       "      <td>1</td>\n",
       "    </tr>\n",
       "    <tr>\n",
       "      <th>3</th>\n",
       "      <td>60182</td>\n",
       "      <td>Female</td>\n",
       "      <td>49.0</td>\n",
       "      <td>0</td>\n",
       "      <td>0</td>\n",
       "      <td>Yes</td>\n",
       "      <td>Private</td>\n",
       "      <td>Urban</td>\n",
       "      <td>171.23</td>\n",
       "      <td>34.4</td>\n",
       "      <td>smokes</td>\n",
       "      <td>1</td>\n",
       "    </tr>\n",
       "    <tr>\n",
       "      <th>4</th>\n",
       "      <td>1665</td>\n",
       "      <td>Female</td>\n",
       "      <td>79.0</td>\n",
       "      <td>1</td>\n",
       "      <td>0</td>\n",
       "      <td>Yes</td>\n",
       "      <td>Self-employed</td>\n",
       "      <td>Rural</td>\n",
       "      <td>174.12</td>\n",
       "      <td>24.0</td>\n",
       "      <td>never smoked</td>\n",
       "      <td>1</td>\n",
       "    </tr>\n",
       "  </tbody>\n",
       "</table>\n",
       "</div>"
      ],
      "text/plain": [
       "      id  gender   age  hypertension  heart_disease ever_married  \\\n",
       "0   9046    Male  67.0             0              1          Yes   \n",
       "1  51676  Female  61.0             0              0          Yes   \n",
       "2  31112    Male  80.0             0              1          Yes   \n",
       "3  60182  Female  49.0             0              0          Yes   \n",
       "4   1665  Female  79.0             1              0          Yes   \n",
       "\n",
       "       work_type Residence_type  avg_glucose_level   bmi   smoking_status  \\\n",
       "0        Private          Urban             228.69  36.6  formerly smoked   \n",
       "1  Self-employed          Rural             202.21   NaN     never smoked   \n",
       "2        Private          Rural             105.92  32.5     never smoked   \n",
       "3        Private          Urban             171.23  34.4           smokes   \n",
       "4  Self-employed          Rural             174.12  24.0     never smoked   \n",
       "\n",
       "   stroke  \n",
       "0       1  \n",
       "1       1  \n",
       "2       1  \n",
       "3       1  \n",
       "4       1  "
      ]
     },
     "execution_count": 2,
     "metadata": {},
     "output_type": "execute_result"
    }
   ],
   "source": [
    "df= pd.read_csv(\"/kaggle/input/stroke-prediction-dataset/healthcare-dataset-stroke-data.csv\")\n",
    "df.head()"
   ]
  },
  {
   "cell_type": "code",
   "execution_count": 3,
   "id": "6cda5b6d",
   "metadata": {
    "execution": {
     "iopub.execute_input": "2023-02-20T21:33:39.493034Z",
     "iopub.status.busy": "2023-02-20T21:33:39.492347Z",
     "iopub.status.idle": "2023-02-20T21:33:39.504908Z",
     "shell.execute_reply": "2023-02-20T21:33:39.503816Z"
    },
    "papermill": {
     "duration": 0.022152,
     "end_time": "2023-02-20T21:33:39.507203",
     "exception": false,
     "start_time": "2023-02-20T21:33:39.485051",
     "status": "completed"
    },
    "tags": []
   },
   "outputs": [],
   "source": [
    "# drop nan cloumn\n",
    "df.drop(\"bmi\",axis=1,inplace=True)"
   ]
  },
  {
   "cell_type": "code",
   "execution_count": 4,
   "id": "3b02bbcc",
   "metadata": {
    "execution": {
     "iopub.execute_input": "2023-02-20T21:33:39.522210Z",
     "iopub.status.busy": "2023-02-20T21:33:39.521445Z",
     "iopub.status.idle": "2023-02-20T21:33:39.545549Z",
     "shell.execute_reply": "2023-02-20T21:33:39.544462Z"
    },
    "papermill": {
     "duration": 0.034671,
     "end_time": "2023-02-20T21:33:39.548167",
     "exception": false,
     "start_time": "2023-02-20T21:33:39.513496",
     "status": "completed"
    },
    "tags": []
   },
   "outputs": [],
   "source": [
    "# convert the data to be numeric\n",
    "df=pd.get_dummies(df,[\"gender\",\"ever_married\",\"work_type\",\"Residence_type\",\"smoking_status\"])"
   ]
  },
  {
   "cell_type": "code",
   "execution_count": 5,
   "id": "1fef6963",
   "metadata": {
    "execution": {
     "iopub.execute_input": "2023-02-20T21:33:39.562467Z",
     "iopub.status.busy": "2023-02-20T21:33:39.562058Z",
     "iopub.status.idle": "2023-02-20T21:33:39.581761Z",
     "shell.execute_reply": "2023-02-20T21:33:39.580265Z"
    },
    "papermill": {
     "duration": 0.029385,
     "end_time": "2023-02-20T21:33:39.584190",
     "exception": false,
     "start_time": "2023-02-20T21:33:39.554805",
     "status": "completed"
    },
    "tags": []
   },
   "outputs": [
    {
     "name": "stdout",
     "output_type": "stream",
     "text": [
      "<class 'pandas.core.frame.DataFrame'>\n",
      "RangeIndex: 5110 entries, 0 to 5109\n",
      "Data columns (total 22 columns):\n",
      " #   Column                          Non-Null Count  Dtype  \n",
      "---  ------                          --------------  -----  \n",
      " 0   id                              5110 non-null   int64  \n",
      " 1   age                             5110 non-null   float64\n",
      " 2   hypertension                    5110 non-null   int64  \n",
      " 3   heart_disease                   5110 non-null   int64  \n",
      " 4   avg_glucose_level               5110 non-null   float64\n",
      " 5   stroke                          5110 non-null   int64  \n",
      " 6   gender_Female                   5110 non-null   uint8  \n",
      " 7   gender_Male                     5110 non-null   uint8  \n",
      " 8   gender_Other                    5110 non-null   uint8  \n",
      " 9   ever_married_No                 5110 non-null   uint8  \n",
      " 10  ever_married_Yes                5110 non-null   uint8  \n",
      " 11  work_type_Govt_job              5110 non-null   uint8  \n",
      " 12  work_type_Never_worked          5110 non-null   uint8  \n",
      " 13  work_type_Private               5110 non-null   uint8  \n",
      " 14  work_type_Self-employed         5110 non-null   uint8  \n",
      " 15  work_type_children              5110 non-null   uint8  \n",
      " 16  Residence_type_Rural            5110 non-null   uint8  \n",
      " 17  Residence_type_Urban            5110 non-null   uint8  \n",
      " 18  smoking_status_Unknown          5110 non-null   uint8  \n",
      " 19  smoking_status_formerly smoked  5110 non-null   uint8  \n",
      " 20  smoking_status_never smoked     5110 non-null   uint8  \n",
      " 21  smoking_status_smokes           5110 non-null   uint8  \n",
      "dtypes: float64(2), int64(4), uint8(16)\n",
      "memory usage: 319.5 KB\n"
     ]
    }
   ],
   "source": [
    "# final check\n",
    "df.info()"
   ]
  },
  {
   "cell_type": "code",
   "execution_count": 6,
   "id": "692269fd",
   "metadata": {
    "execution": {
     "iopub.execute_input": "2023-02-20T21:33:39.598673Z",
     "iopub.status.busy": "2023-02-20T21:33:39.598122Z",
     "iopub.status.idle": "2023-02-20T21:33:39.604749Z",
     "shell.execute_reply": "2023-02-20T21:33:39.603690Z"
    },
    "papermill": {
     "duration": 0.016212,
     "end_time": "2023-02-20T21:33:39.606800",
     "exception": false,
     "start_time": "2023-02-20T21:33:39.590588",
     "status": "completed"
    },
    "tags": []
   },
   "outputs": [],
   "source": [
    "# drop ID column\n",
    "df=df.drop(\"id\",axis=1)"
   ]
  },
  {
   "cell_type": "code",
   "execution_count": 7,
   "id": "610b2c72",
   "metadata": {
    "execution": {
     "iopub.execute_input": "2023-02-20T21:33:39.621382Z",
     "iopub.status.busy": "2023-02-20T21:33:39.620930Z",
     "iopub.status.idle": "2023-02-20T21:33:39.629418Z",
     "shell.execute_reply": "2023-02-20T21:33:39.628431Z"
    },
    "papermill": {
     "duration": 0.01836,
     "end_time": "2023-02-20T21:33:39.631541",
     "exception": false,
     "start_time": "2023-02-20T21:33:39.613181",
     "status": "completed"
    },
    "tags": []
   },
   "outputs": [
    {
     "data": {
      "text/plain": [
       "0    4861\n",
       "1     249\n",
       "Name: stroke, dtype: int64"
      ]
     },
     "execution_count": 7,
     "metadata": {},
     "output_type": "execute_result"
    }
   ],
   "source": [
    "# the balance of the label\n",
    "df[\"stroke\"].value_counts()"
   ]
  },
  {
   "cell_type": "markdown",
   "id": "d564baeb",
   "metadata": {
    "papermill": {
     "duration": 0.006191,
     "end_time": "2023-02-20T21:33:39.644190",
     "exception": false,
     "start_time": "2023-02-20T21:33:39.637999",
     "status": "completed"
    },
    "tags": []
   },
   "source": [
    "Here we find that there is imbalanced data , so we will try to analyze the data by visualization."
   ]
  },
  {
   "cell_type": "code",
   "execution_count": 8,
   "id": "f47424c3",
   "metadata": {
    "execution": {
     "iopub.execute_input": "2023-02-20T21:33:39.659314Z",
     "iopub.status.busy": "2023-02-20T21:33:39.658921Z",
     "iopub.status.idle": "2023-02-20T21:33:39.675358Z",
     "shell.execute_reply": "2023-02-20T21:33:39.673854Z"
    },
    "papermill": {
     "duration": 0.027245,
     "end_time": "2023-02-20T21:33:39.678205",
     "exception": false,
     "start_time": "2023-02-20T21:33:39.650960",
     "status": "completed"
    },
    "scrolled": true,
    "tags": []
   },
   "outputs": [
    {
     "name": "stdout",
     "output_type": "stream",
     "text": [
      "<class 'pandas.core.frame.DataFrame'>\n",
      "Int64Index: 249 entries, 0 to 248\n",
      "Data columns (total 21 columns):\n",
      " #   Column                          Non-Null Count  Dtype  \n",
      "---  ------                          --------------  -----  \n",
      " 0   age                             249 non-null    float64\n",
      " 1   hypertension                    249 non-null    int64  \n",
      " 2   heart_disease                   249 non-null    int64  \n",
      " 3   avg_glucose_level               249 non-null    float64\n",
      " 4   stroke                          249 non-null    int64  \n",
      " 5   gender_Female                   249 non-null    uint8  \n",
      " 6   gender_Male                     249 non-null    uint8  \n",
      " 7   gender_Other                    249 non-null    uint8  \n",
      " 8   ever_married_No                 249 non-null    uint8  \n",
      " 9   ever_married_Yes                249 non-null    uint8  \n",
      " 10  work_type_Govt_job              249 non-null    uint8  \n",
      " 11  work_type_Never_worked          249 non-null    uint8  \n",
      " 12  work_type_Private               249 non-null    uint8  \n",
      " 13  work_type_Self-employed         249 non-null    uint8  \n",
      " 14  work_type_children              249 non-null    uint8  \n",
      " 15  Residence_type_Rural            249 non-null    uint8  \n",
      " 16  Residence_type_Urban            249 non-null    uint8  \n",
      " 17  smoking_status_Unknown          249 non-null    uint8  \n",
      " 18  smoking_status_formerly smoked  249 non-null    uint8  \n",
      " 19  smoking_status_never smoked     249 non-null    uint8  \n",
      " 20  smoking_status_smokes           249 non-null    uint8  \n",
      "dtypes: float64(2), int64(3), uint8(16)\n",
      "memory usage: 15.6 KB\n"
     ]
    }
   ],
   "source": [
    "# create another table include only the people who have a stroke\n",
    "df2=df[df[\"stroke\"]==1]\n",
    "df2.info()"
   ]
  },
  {
   "cell_type": "code",
   "execution_count": 9,
   "id": "8fbc6167",
   "metadata": {
    "execution": {
     "iopub.execute_input": "2023-02-20T21:33:39.694208Z",
     "iopub.status.busy": "2023-02-20T21:33:39.693858Z",
     "iopub.status.idle": "2023-02-20T21:33:40.159478Z",
     "shell.execute_reply": "2023-02-20T21:33:40.158318Z"
    },
    "papermill": {
     "duration": 0.476772,
     "end_time": "2023-02-20T21:33:40.162489",
     "exception": false,
     "start_time": "2023-02-20T21:33:39.685717",
     "status": "completed"
    },
    "tags": []
   },
   "outputs": [
    {
     "data": {
      "text/plain": [
       "Text(0, 0.5, 'Correlation percentage')"
      ]
     },
     "execution_count": 9,
     "metadata": {},
     "output_type": "execute_result"
    },
    {
     "data": {
      "image/png": "[encoded data removed]",
      "text/plain": [
       "<Figure size 1000x600 with 1 Axes>"
      ]
     },
     "metadata": {},
     "output_type": "display_data"
    }
   ],
   "source": [
    "# show up the correlation between the people who have a stroke and other features\n",
    "fig,ax=plt.subplots(figsize=(10,6))\n",
    "x=df.corr()[\"stroke\"].index\n",
    "y=df.corr()[\"stroke\"].values\n",
    "\n",
    "plt.bar(list(x),list(y))\n",
    "plt.tick_params(axis=\"x\",labelrotation = 90)\n",
    "plt.title(\"Correlation between stroke and the other elements\")\n",
    "plt.ylabel(\"Correlation percentage\")"
   ]
  },
  {
   "cell_type": "code",
   "execution_count": 10,
   "id": "eb51854b",
   "metadata": {
    "execution": {
     "iopub.execute_input": "2023-02-20T21:33:40.179522Z",
     "iopub.status.busy": "2023-02-20T21:33:40.179157Z",
     "iopub.status.idle": "2023-02-20T21:33:40.782750Z",
     "shell.execute_reply": "2023-02-20T21:33:40.781666Z"
    },
    "papermill": {
     "duration": 0.614951,
     "end_time": "2023-02-20T21:33:40.785305",
     "exception": false,
     "start_time": "2023-02-20T21:33:40.170354",
     "status": "completed"
    },
    "tags": []
   },
   "outputs": [
    {
     "data": {
      "text/plain": [
       "Text(0, 0.5, 'Count')"
      ]
     },
     "execution_count": 10,
     "metadata": {},
     "output_type": "execute_result"
    },
    {
     "data": {
      "image/png": "[encoded data removed]",
      "text/plain": [
       "<Figure size 2000x600 with 1 Axes>"
      ]
     },
     "metadata": {},
     "output_type": "display_data"
    }
   ],
   "source": [
    "fig,ax=plt.subplots(figsize=(20,6))\n",
    "x=df2[\"age\"].value_counts().index\n",
    "y=df2[\"age\"].value_counts().values\n",
    "\n",
    "plt.bar(list(x),list(y))\n",
    "plt.tick_params(axis=\"x\",labelrotation = 90)\n",
    "plt.xticks(np.arange(1, max(x)+1,2))\n",
    "#plt.xticks(np.arange(min(x), max(x)+1, 1.0))\n",
    "plt.title(\"Correlation between stroke and age\")\n",
    "plt.ylabel(\"Count\")"
   ]
  },
  {
   "cell_type": "markdown",
   "id": "83ccd330",
   "metadata": {
    "papermill": {
     "duration": 0.008628,
     "end_time": "2023-02-20T21:33:40.803058",
     "exception": false,
     "start_time": "2023-02-20T21:33:40.794430",
     "status": "completed"
    },
    "tags": []
   },
   "source": [
    "according to the data we find that all most of people around 69+ may have a stroke"
   ]
  },
  {
   "cell_type": "code",
   "execution_count": 11,
   "id": "50d0e187",
   "metadata": {
    "execution": {
     "iopub.execute_input": "2023-02-20T21:33:40.822400Z",
     "iopub.status.busy": "2023-02-20T21:33:40.821978Z",
     "iopub.status.idle": "2023-02-20T21:33:41.412307Z",
     "shell.execute_reply": "2023-02-20T21:33:41.411089Z"
    },
    "papermill": {
     "duration": 0.60281,
     "end_time": "2023-02-20T21:33:41.414622",
     "exception": false,
     "start_time": "2023-02-20T21:33:40.811812",
     "status": "completed"
    },
    "scrolled": true,
    "tags": []
   },
   "outputs": [
    {
     "data": {
      "image/png": "[encoded data removed]",
      "text/plain": [
       "<Figure size 2000x1000 with 4 Axes>"
      ]
     },
     "metadata": {},
     "output_type": "display_data"
    }
   ],
   "source": [
    "# the releation between stroke and other featsures\n",
    "fig,ax=plt.subplots(nrows=2,ncols=2,figsize=(20,20))\n",
    "x=np.array(df2[\"hypertension\"].value_counts().index.astype(str))\n",
    "y=np.array(df2[\"hypertension\"].value_counts().values)\n",
    "ax[0,0].bar(x,y,width=.5)\n",
    "ax[0,0].tick_params(axis='x', labelrotation = 90)\n",
    "ax[0,0].set_title(\"hypertension & stroke\")\n",
    "ax[0,0].set_ylabel(\"stroke counting\")\n",
    "fig.set_figheight(10)\n",
    "\n",
    "x1=np.array(df2[\"heart_disease\"].value_counts().index.astype(str))\n",
    "y1=np.array(df2[\"heart_disease\"].value_counts().values)\n",
    "ax[0,1].bar(x1,y1,width=.5)\n",
    "ax[0,1].tick_params(axis='x', labelrotation = 90)\n",
    "ax[0,1].set_title(\"heart_disease & stroke\")\n",
    "fig.set_figheight(10)\n",
    "\n",
    "x2=np.array(df2[\"ever_married_Yes\"].value_counts().index.astype(str))\n",
    "y2=np.array(df2[\"ever_married_Yes\"].value_counts().values)\n",
    "ax[1,0].bar(x2,y2,width=.5)\n",
    "ax[1,0].tick_params(axis='x', labelrotation = 90)\n",
    "ax[1,0].set_title(\"ever_married_Yes & stroke\")\n",
    "ax[1,0].set_ylabel(\"stroke counting\")\n",
    "fig.set_figheight(10)\n",
    "\n",
    "x3=np.array(df2[\"smoking_status_formerly smoked\"].value_counts().index.astype(str))\n",
    "y3=np.array(df2[\"smoking_status_formerly smoked\"].value_counts().values)\n",
    "ax[1,1].bar(x3,y3,width=.5)\n",
    "ax[1,1].tick_params(axis='x', labelrotation = 90)\n",
    "ax[1,1].set_title(\"smoking_status_formerly smoked & stroke\")\n",
    "fig.set_figheight(10)\n"
   ]
  },
  {
   "cell_type": "code",
   "execution_count": 12,
   "id": "8391609f",
   "metadata": {
    "execution": {
     "iopub.execute_input": "2023-02-20T21:33:41.436780Z",
     "iopub.status.busy": "2023-02-20T21:33:41.436382Z",
     "iopub.status.idle": "2023-02-20T21:33:41.827034Z",
     "shell.execute_reply": "2023-02-20T21:33:41.825900Z"
    },
    "papermill": {
     "duration": 0.405017,
     "end_time": "2023-02-20T21:33:41.829833",
     "exception": false,
     "start_time": "2023-02-20T21:33:41.424816",
     "status": "completed"
    },
    "tags": []
   },
   "outputs": [],
   "source": [
    "# Import Sklearn libraries\n",
    "from sklearn.model_selection import train_test_split\n",
    "from sklearn.linear_model import LogisticRegression\n",
    "from sklearn.neighbors import KNeighborsClassifier\n",
    "from sklearn.tree import DecisionTreeClassifier\n",
    "from sklearn.ensemble import RandomForestClassifier\n",
    "from sklearn.model_selection import GridSearchCV\n",
    "from sklearn.metrics import confusion_matrix,classification_report,accuracy_score"
   ]
  },
  {
   "cell_type": "code",
   "execution_count": 13,
   "id": "a302b063",
   "metadata": {
    "execution": {
     "iopub.execute_input": "2023-02-20T21:33:41.851498Z",
     "iopub.status.busy": "2023-02-20T21:33:41.851120Z",
     "iopub.status.idle": "2023-02-20T21:33:41.857182Z",
     "shell.execute_reply": "2023-02-20T21:33:41.856436Z"
    },
    "papermill": {
     "duration": 0.019656,
     "end_time": "2023-02-20T21:33:41.859296",
     "exception": false,
     "start_time": "2023-02-20T21:33:41.839640",
     "status": "completed"
    },
    "tags": []
   },
   "outputs": [],
   "source": [
    "# get the X,y axis\n",
    "X=df.drop(\"stroke\",axis=1).values\n",
    "y=df[\"stroke\"].values"
   ]
  },
  {
   "cell_type": "code",
   "execution_count": 14,
   "id": "9cccba3f",
   "metadata": {
    "execution": {
     "iopub.execute_input": "2023-02-20T21:33:41.880749Z",
     "iopub.status.busy": "2023-02-20T21:33:41.879973Z",
     "iopub.status.idle": "2023-02-20T21:33:41.888467Z",
     "shell.execute_reply": "2023-02-20T21:33:41.887570Z"
    },
    "papermill": {
     "duration": 0.021963,
     "end_time": "2023-02-20T21:33:41.890942",
     "exception": false,
     "start_time": "2023-02-20T21:33:41.868979",
     "status": "completed"
    },
    "tags": []
   },
   "outputs": [],
   "source": [
    "# train and test split\n",
    "x_train , x_test , y_train , y_test = train_test_split(X,y,test_size=.2,random_state=1)"
   ]
  },
  {
   "cell_type": "code",
   "execution_count": 15,
   "id": "9d5172a1",
   "metadata": {
    "execution": {
     "iopub.execute_input": "2023-02-20T21:33:41.912204Z",
     "iopub.status.busy": "2023-02-20T21:33:41.911820Z",
     "iopub.status.idle": "2023-02-20T21:33:42.614235Z",
     "shell.execute_reply": "2023-02-20T21:33:42.612778Z"
    },
    "papermill": {
     "duration": 0.716497,
     "end_time": "2023-02-20T21:33:42.617194",
     "exception": false,
     "start_time": "2023-02-20T21:33:41.900697",
     "status": "completed"
    },
    "tags": []
   },
   "outputs": [],
   "source": [
    "model2=KNeighborsClassifier()\n",
    "model2.fit(x_train,y_train)\n",
    "M_2_pre_train=model2.predict(x_train)\n",
    "M_2_pre_test=model2.predict(x_test)"
   ]
  },
  {
   "cell_type": "code",
   "execution_count": 16,
   "id": "1d0bdc4f",
   "metadata": {
    "execution": {
     "iopub.execute_input": "2023-02-20T21:33:42.638020Z",
     "iopub.status.busy": "2023-02-20T21:33:42.637612Z",
     "iopub.status.idle": "2023-02-20T21:33:42.659899Z",
     "shell.execute_reply": "2023-02-20T21:33:42.658339Z"
    },
    "papermill": {
     "duration": 0.035291,
     "end_time": "2023-02-20T21:33:42.662228",
     "exception": false,
     "start_time": "2023-02-20T21:33:42.626937",
     "status": "completed"
    },
    "tags": []
   },
   "outputs": [
    {
     "name": "stdout",
     "output_type": "stream",
     "text": [
      "Train : \n",
      "              precision    recall  f1-score   support\n",
      "\n",
      "           0       1.00      0.96      0.98      4062\n",
      "           1       0.08      0.58      0.14        26\n",
      "\n",
      "    accuracy                           0.95      4088\n",
      "   macro avg       0.54      0.77      0.56      4088\n",
      "weighted avg       0.99      0.95      0.97      4088\n",
      " \n",
      " confusion_matrix : \n",
      " [[3888  174]\n",
      " [  11   15]]\n",
      "**************************************************\n",
      "test: \n",
      "               precision    recall  f1-score   support\n",
      "\n",
      "           0       0.99      0.94      0.97      1013\n",
      "           1       0.03      0.22      0.06         9\n",
      "\n",
      "    accuracy                           0.94      1022\n",
      "   macro avg       0.51      0.58      0.51      1022\n",
      "weighted avg       0.98      0.94      0.96      1022\n",
      " \n",
      " confusion_matrix : \n",
      " [[955  58]\n",
      " [  7   2]]\n"
     ]
    }
   ],
   "source": [
    "print(\"Train : \")\n",
    "print(classification_report(M_2_pre_train,y_train),\"\\n confusion_matrix : \\n\",confusion_matrix(M_2_pre_train,y_train))\n",
    "print(\"*\"*50)\n",
    "print(\"test: \\n\",classification_report(M_2_pre_test,y_test),\"\\n confusion_matrix : \\n\",confusion_matrix(M_2_pre_test,y_test))"
   ]
  },
  {
   "cell_type": "code",
   "execution_count": 17,
   "id": "55e9358b",
   "metadata": {
    "execution": {
     "iopub.execute_input": "2023-02-20T21:33:42.682928Z",
     "iopub.status.busy": "2023-02-20T21:33:42.682526Z",
     "iopub.status.idle": "2023-02-20T21:33:42.703590Z",
     "shell.execute_reply": "2023-02-20T21:33:42.702404Z"
    },
    "papermill": {
     "duration": 0.034376,
     "end_time": "2023-02-20T21:33:42.706160",
     "exception": false,
     "start_time": "2023-02-20T21:33:42.671784",
     "status": "completed"
    },
    "tags": []
   },
   "outputs": [],
   "source": [
    "model3=DecisionTreeClassifier(max_depth=15)\n",
    "model3.fit(x_train,y_train)\n",
    "M_3_pre_train=model3.predict(x_train)\n",
    "M_3_pre_test=model3.predict(x_test)"
   ]
  },
  {
   "cell_type": "code",
   "execution_count": 18,
   "id": "7a30b607",
   "metadata": {
    "execution": {
     "iopub.execute_input": "2023-02-20T21:33:42.728066Z",
     "iopub.status.busy": "2023-02-20T21:33:42.726940Z",
     "iopub.status.idle": "2023-02-20T21:33:42.746731Z",
     "shell.execute_reply": "2023-02-20T21:33:42.745300Z"
    },
    "papermill": {
     "duration": 0.033351,
     "end_time": "2023-02-20T21:33:42.749214",
     "exception": false,
     "start_time": "2023-02-20T21:33:42.715863",
     "status": "completed"
    },
    "scrolled": true,
    "tags": []
   },
   "outputs": [
    {
     "name": "stdout",
     "output_type": "stream",
     "text": [
      "Train: \n",
      "               precision    recall  f1-score   support\n",
      "\n",
      "           0       1.00      1.00      1.00      3902\n",
      "           1       0.98      0.99      0.99       186\n",
      "\n",
      "    accuracy                           1.00      4088\n",
      "   macro avg       0.99      1.00      0.99      4088\n",
      "weighted avg       1.00      1.00      1.00      4088\n",
      " \n",
      " confusion_matrix : \n",
      " [[3898    4]\n",
      " [   1  185]]\n",
      "**************************************************\n",
      "Test: \n",
      "               precision    recall  f1-score   support\n",
      "\n",
      "           0       0.96      0.95      0.95       975\n",
      "           1       0.15      0.19      0.17        47\n",
      "\n",
      "    accuracy                           0.91      1022\n",
      "   macro avg       0.56      0.57      0.56      1022\n",
      "weighted avg       0.92      0.91      0.92      1022\n",
      " \n",
      " confusion_matrix : \n",
      " [[924  51]\n",
      " [ 38   9]]\n"
     ]
    }
   ],
   "source": [
    "print(\"Train: \\n\",classification_report(M_3_pre_train,y_train),\"\\n confusion_matrix : \\n\",confusion_matrix(M_3_pre_train,y_train))\n",
    "print(\"*\"*50)\n",
    "print(\"Test: \\n\",classification_report(M_3_pre_test,y_test),\"\\n confusion_matrix : \\n\",confusion_matrix(M_3_pre_test,y_test))"
   ]
  },
  {
   "cell_type": "code",
   "execution_count": 19,
   "id": "a99162a5",
   "metadata": {
    "execution": {
     "iopub.execute_input": "2023-02-20T21:33:42.770555Z",
     "iopub.status.busy": "2023-02-20T21:33:42.769529Z",
     "iopub.status.idle": "2023-02-20T21:34:03.414262Z",
     "shell.execute_reply": "2023-02-20T21:34:03.413092Z"
    },
    "papermill": {
     "duration": 20.657966,
     "end_time": "2023-02-20T21:34:03.416653",
     "exception": false,
     "start_time": "2023-02-20T21:33:42.758687",
     "status": "completed"
    },
    "scrolled": true,
    "tags": []
   },
   "outputs": [
    {
     "data": {
      "text/plain": [
       "GridSearchCV(estimator=RandomForestClassifier(),\n",
       "             param_grid={'n_estimators': range(100, 111)})"
      ]
     },
     "execution_count": 19,
     "metadata": {},
     "output_type": "execute_result"
    }
   ],
   "source": [
    "para={\"n_estimators\":range(100,111)}\n",
    "mod=RandomForestClassifier()\n",
    "model5=GridSearchCV(mod,para)\n",
    "model5.fit(x_train,y_train)"
   ]
  },
  {
   "cell_type": "code",
   "execution_count": 20,
   "id": "73d3617b",
   "metadata": {
    "execution": {
     "iopub.execute_input": "2023-02-20T21:34:03.438507Z",
     "iopub.status.busy": "2023-02-20T21:34:03.438113Z",
     "iopub.status.idle": "2023-02-20T21:34:03.464490Z",
     "shell.execute_reply": "2023-02-20T21:34:03.463458Z"
    },
    "papermill": {
     "duration": 0.040138,
     "end_time": "2023-02-20T21:34:03.467081",
     "exception": false,
     "start_time": "2023-02-20T21:34:03.426943",
     "status": "completed"
    },
    "scrolled": true,
    "tags": []
   },
   "outputs": [
    {
     "data": {
      "text/html": [
       "<div>\n",
       "<style scoped>\n",
       "    .dataframe tbody tr th:only-of-type {\n",
       "        vertical-align: middle;\n",
       "    }\n",
       "\n",
       "    .dataframe tbody tr th {\n",
       "        vertical-align: top;\n",
       "    }\n",
       "\n",
       "    .dataframe thead th {\n",
       "        text-align: right;\n",
       "    }\n",
       "</style>\n",
       "<table border=\"1\" class=\"dataframe\">\n",
       "  <thead>\n",
       "    <tr style=\"text-align: right;\">\n",
       "      <th></th>\n",
       "      <th>mean_fit_time</th>\n",
       "      <th>std_fit_time</th>\n",
       "      <th>mean_score_time</th>\n",
       "      <th>std_score_time</th>\n",
       "      <th>param_n_estimators</th>\n",
       "      <th>params</th>\n",
       "      <th>split0_test_score</th>\n",
       "      <th>split1_test_score</th>\n",
       "      <th>split2_test_score</th>\n",
       "      <th>split3_test_score</th>\n",
       "      <th>split4_test_score</th>\n",
       "      <th>mean_test_score</th>\n",
       "      <th>std_test_score</th>\n",
       "      <th>rank_test_score</th>\n",
       "    </tr>\n",
       "  </thead>\n",
       "  <tbody>\n",
       "    <tr>\n",
       "      <th>0</th>\n",
       "      <td>0.322838</td>\n",
       "      <td>0.004684</td>\n",
       "      <td>0.025005</td>\n",
       "      <td>0.000589</td>\n",
       "      <td>100</td>\n",
       "      <td>{'n_estimators': 100}</td>\n",
       "      <td>0.954768</td>\n",
       "      <td>0.949878</td>\n",
       "      <td>0.949878</td>\n",
       "      <td>0.955936</td>\n",
       "      <td>0.948592</td>\n",
       "      <td>0.951810</td>\n",
       "      <td>0.002953</td>\n",
       "      <td>11</td>\n",
       "    </tr>\n",
       "    <tr>\n",
       "      <th>1</th>\n",
       "      <td>0.327547</td>\n",
       "      <td>0.003967</td>\n",
       "      <td>0.025658</td>\n",
       "      <td>0.000630</td>\n",
       "      <td>101</td>\n",
       "      <td>{'n_estimators': 101}</td>\n",
       "      <td>0.953545</td>\n",
       "      <td>0.954768</td>\n",
       "      <td>0.953545</td>\n",
       "      <td>0.953488</td>\n",
       "      <td>0.951040</td>\n",
       "      <td>0.953277</td>\n",
       "      <td>0.001218</td>\n",
       "      <td>4</td>\n",
       "    </tr>\n",
       "    <tr>\n",
       "      <th>2</th>\n",
       "      <td>0.325318</td>\n",
       "      <td>0.003740</td>\n",
       "      <td>0.024891</td>\n",
       "      <td>0.000518</td>\n",
       "      <td>102</td>\n",
       "      <td>{'n_estimators': 102}</td>\n",
       "      <td>0.952323</td>\n",
       "      <td>0.953545</td>\n",
       "      <td>0.952323</td>\n",
       "      <td>0.953488</td>\n",
       "      <td>0.948592</td>\n",
       "      <td>0.952054</td>\n",
       "      <td>0.001812</td>\n",
       "      <td>10</td>\n",
       "    </tr>\n",
       "    <tr>\n",
       "      <th>3</th>\n",
       "      <td>0.339974</td>\n",
       "      <td>0.011111</td>\n",
       "      <td>0.026038</td>\n",
       "      <td>0.000447</td>\n",
       "      <td>103</td>\n",
       "      <td>{'n_estimators': 103}</td>\n",
       "      <td>0.952323</td>\n",
       "      <td>0.953545</td>\n",
       "      <td>0.953545</td>\n",
       "      <td>0.954712</td>\n",
       "      <td>0.951040</td>\n",
       "      <td>0.953033</td>\n",
       "      <td>0.001251</td>\n",
       "      <td>5</td>\n",
       "    </tr>\n",
       "    <tr>\n",
       "      <th>4</th>\n",
       "      <td>0.341304</td>\n",
       "      <td>0.004525</td>\n",
       "      <td>0.026378</td>\n",
       "      <td>0.000389</td>\n",
       "      <td>104</td>\n",
       "      <td>{'n_estimators': 104}</td>\n",
       "      <td>0.953545</td>\n",
       "      <td>0.953545</td>\n",
       "      <td>0.948655</td>\n",
       "      <td>0.955936</td>\n",
       "      <td>0.951040</td>\n",
       "      <td>0.952544</td>\n",
       "      <td>0.002486</td>\n",
       "      <td>7</td>\n",
       "    </tr>\n",
       "    <tr>\n",
       "      <th>5</th>\n",
       "      <td>0.342910</td>\n",
       "      <td>0.011257</td>\n",
       "      <td>0.025997</td>\n",
       "      <td>0.000349</td>\n",
       "      <td>105</td>\n",
       "      <td>{'n_estimators': 105}</td>\n",
       "      <td>0.952323</td>\n",
       "      <td>0.953545</td>\n",
       "      <td>0.954768</td>\n",
       "      <td>0.957160</td>\n",
       "      <td>0.951040</td>\n",
       "      <td>0.953767</td>\n",
       "      <td>0.002102</td>\n",
       "      <td>2</td>\n",
       "    </tr>\n",
       "    <tr>\n",
       "      <th>6</th>\n",
       "      <td>0.340878</td>\n",
       "      <td>0.004835</td>\n",
       "      <td>0.026394</td>\n",
       "      <td>0.000799</td>\n",
       "      <td>106</td>\n",
       "      <td>{'n_estimators': 106}</td>\n",
       "      <td>0.952323</td>\n",
       "      <td>0.949878</td>\n",
       "      <td>0.954768</td>\n",
       "      <td>0.954712</td>\n",
       "      <td>0.951040</td>\n",
       "      <td>0.952544</td>\n",
       "      <td>0.001953</td>\n",
       "      <td>8</td>\n",
       "    </tr>\n",
       "    <tr>\n",
       "      <th>7</th>\n",
       "      <td>0.344852</td>\n",
       "      <td>0.003099</td>\n",
       "      <td>0.026806</td>\n",
       "      <td>0.000748</td>\n",
       "      <td>107</td>\n",
       "      <td>{'n_estimators': 107}</td>\n",
       "      <td>0.952323</td>\n",
       "      <td>0.953545</td>\n",
       "      <td>0.953545</td>\n",
       "      <td>0.958384</td>\n",
       "      <td>0.951040</td>\n",
       "      <td>0.953768</td>\n",
       "      <td>0.002488</td>\n",
       "      <td>1</td>\n",
       "    </tr>\n",
       "    <tr>\n",
       "      <th>8</th>\n",
       "      <td>0.350923</td>\n",
       "      <td>0.004460</td>\n",
       "      <td>0.026575</td>\n",
       "      <td>0.000408</td>\n",
       "      <td>108</td>\n",
       "      <td>{'n_estimators': 108}</td>\n",
       "      <td>0.952323</td>\n",
       "      <td>0.949878</td>\n",
       "      <td>0.952323</td>\n",
       "      <td>0.954712</td>\n",
       "      <td>0.951040</td>\n",
       "      <td>0.952055</td>\n",
       "      <td>0.001611</td>\n",
       "      <td>9</td>\n",
       "    </tr>\n",
       "    <tr>\n",
       "      <th>9</th>\n",
       "      <td>0.354550</td>\n",
       "      <td>0.005867</td>\n",
       "      <td>0.027562</td>\n",
       "      <td>0.000687</td>\n",
       "      <td>109</td>\n",
       "      <td>{'n_estimators': 109}</td>\n",
       "      <td>0.953545</td>\n",
       "      <td>0.954768</td>\n",
       "      <td>0.952323</td>\n",
       "      <td>0.955936</td>\n",
       "      <td>0.949816</td>\n",
       "      <td>0.953278</td>\n",
       "      <td>0.002110</td>\n",
       "      <td>3</td>\n",
       "    </tr>\n",
       "    <tr>\n",
       "      <th>10</th>\n",
       "      <td>0.354131</td>\n",
       "      <td>0.002037</td>\n",
       "      <td>0.027330</td>\n",
       "      <td>0.000234</td>\n",
       "      <td>110</td>\n",
       "      <td>{'n_estimators': 110}</td>\n",
       "      <td>0.952323</td>\n",
       "      <td>0.952323</td>\n",
       "      <td>0.952323</td>\n",
       "      <td>0.954712</td>\n",
       "      <td>0.952264</td>\n",
       "      <td>0.952789</td>\n",
       "      <td>0.000962</td>\n",
       "      <td>6</td>\n",
       "    </tr>\n",
       "  </tbody>\n",
       "</table>\n",
       "</div>"
      ],
      "text/plain": [
       "    mean_fit_time  std_fit_time  mean_score_time  std_score_time  \\\n",
       "0        0.322838      0.004684         0.025005        0.000589   \n",
       "1        0.327547      0.003967         0.025658        0.000630   \n",
       "2        0.325318      0.003740         0.024891        0.000518   \n",
       "3        0.339974      0.011111         0.026038        0.000447   \n",
       "4        0.341304      0.004525         0.026378        0.000389   \n",
       "5        0.342910      0.011257         0.025997        0.000349   \n",
       "6        0.340878      0.004835         0.026394        0.000799   \n",
       "7        0.344852      0.003099         0.026806        0.000748   \n",
       "8        0.350923      0.004460         0.026575        0.000408   \n",
       "9        0.354550      0.005867         0.027562        0.000687   \n",
       "10       0.354131      0.002037         0.027330        0.000234   \n",
       "\n",
       "   param_n_estimators                 params  split0_test_score  \\\n",
       "0                 100  {'n_estimators': 100}           0.954768   \n",
       "1                 101  {'n_estimators': 101}           0.953545   \n",
       "2                 102  {'n_estimators': 102}           0.952323   \n",
       "3                 103  {'n_estimators': 103}           0.952323   \n",
       "4                 104  {'n_estimators': 104}           0.953545   \n",
       "5                 105  {'n_estimators': 105}           0.952323   \n",
       "6                 106  {'n_estimators': 106}           0.952323   \n",
       "7                 107  {'n_estimators': 107}           0.952323   \n",
       "8                 108  {'n_estimators': 108}           0.952323   \n",
       "9                 109  {'n_estimators': 109}           0.953545   \n",
       "10                110  {'n_estimators': 110}           0.952323   \n",
       "\n",
       "    split1_test_score  split2_test_score  split3_test_score  \\\n",
       "0            0.949878           0.949878           0.955936   \n",
       "1            0.954768           0.953545           0.953488   \n",
       "2            0.953545           0.952323           0.953488   \n",
       "3            0.953545           0.953545           0.954712   \n",
       "4            0.953545           0.948655           0.955936   \n",
       "5            0.953545           0.954768           0.957160   \n",
       "6            0.949878           0.954768           0.954712   \n",
       "7            0.953545           0.953545           0.958384   \n",
       "8            0.949878           0.952323           0.954712   \n",
       "9            0.954768           0.952323           0.955936   \n",
       "10           0.952323           0.952323           0.954712   \n",
       "\n",
       "    split4_test_score  mean_test_score  std_test_score  rank_test_score  \n",
       "0            0.948592         0.951810        0.002953               11  \n",
       "1            0.951040         0.953277        0.001218                4  \n",
       "2            0.948592         0.952054        0.001812               10  \n",
       "3            0.951040         0.953033        0.001251                5  \n",
       "4            0.951040         0.952544        0.002486                7  \n",
       "5            0.951040         0.953767        0.002102                2  \n",
       "6            0.951040         0.952544        0.001953                8  \n",
       "7            0.951040         0.953768        0.002488                1  \n",
       "8            0.951040         0.952055        0.001611                9  \n",
       "9            0.949816         0.953278        0.002110                3  \n",
       "10           0.952264         0.952789        0.000962                6  "
      ]
     },
     "execution_count": 20,
     "metadata": {},
     "output_type": "execute_result"
    }
   ],
   "source": [
    "pd.DataFrame(model5.cv_results_)"
   ]
  },
  {
   "cell_type": "code",
   "execution_count": 21,
   "id": "52af1f49",
   "metadata": {
    "execution": {
     "iopub.execute_input": "2023-02-20T21:34:03.489699Z",
     "iopub.status.busy": "2023-02-20T21:34:03.489320Z",
     "iopub.status.idle": "2023-02-20T21:34:03.598676Z",
     "shell.execute_reply": "2023-02-20T21:34:03.597765Z"
    },
    "papermill": {
     "duration": 0.123637,
     "end_time": "2023-02-20T21:34:03.601359",
     "exception": false,
     "start_time": "2023-02-20T21:34:03.477722",
     "status": "completed"
    },
    "tags": []
   },
   "outputs": [],
   "source": [
    "Model5_best=model5.best_estimator_\n",
    "M_5_pre_train=Model5_best.predict(x_train)\n",
    "M_5_pre_test=Model5_best.predict(x_test)"
   ]
  },
  {
   "cell_type": "code",
   "execution_count": 22,
   "id": "5a908e7b",
   "metadata": {
    "execution": {
     "iopub.execute_input": "2023-02-20T21:34:03.623753Z",
     "iopub.status.busy": "2023-02-20T21:34:03.623392Z",
     "iopub.status.idle": "2023-02-20T21:34:03.643467Z",
     "shell.execute_reply": "2023-02-20T21:34:03.642044Z"
    },
    "papermill": {
     "duration": 0.034333,
     "end_time": "2023-02-20T21:34:03.645900",
     "exception": false,
     "start_time": "2023-02-20T21:34:03.611567",
     "status": "completed"
    },
    "tags": []
   },
   "outputs": [
    {
     "name": "stdout",
     "output_type": "stream",
     "text": [
      "Train: \n",
      "               precision    recall  f1-score   support\n",
      "\n",
      "           0       1.00      1.00      1.00      3900\n",
      "           1       0.99      1.00      1.00       188\n",
      "\n",
      "    accuracy                           1.00      4088\n",
      "   macro avg       1.00      1.00      1.00      4088\n",
      "weighted avg       1.00      1.00      1.00      4088\n",
      " \n",
      "confusion_matrix: \n",
      " [[3899    1]\n",
      " [   0  188]]\n",
      "**************************************************\n",
      "Test: \n",
      "               precision    recall  f1-score   support\n",
      "\n",
      "           0       1.00      0.94      0.97      1017\n",
      "           1       0.02      0.20      0.03         5\n",
      "\n",
      "    accuracy                           0.94      1022\n",
      "   macro avg       0.51      0.57      0.50      1022\n",
      "weighted avg       0.99      0.94      0.96      1022\n",
      " \n",
      "confusion_matrix: \n",
      " [[958  59]\n",
      " [  4   1]]\n"
     ]
    }
   ],
   "source": [
    "print(\"Train: \\n\",classification_report(M_5_pre_train,y_train),\"\\nconfusion_matrix: \\n\",confusion_matrix(M_5_pre_train,y_train))\n",
    "print(\"*\"*50)\n",
    "print(\"Test: \\n\",classification_report(M_5_pre_test,y_test),\"\\nconfusion_matrix: \\n\",confusion_matrix(M_5_pre_test,y_test))"
   ]
  },
  {
   "cell_type": "code",
   "execution_count": 23,
   "id": "710f988f",
   "metadata": {
    "execution": {
     "iopub.execute_input": "2023-02-20T21:34:03.668138Z",
     "iopub.status.busy": "2023-02-20T21:34:03.667735Z",
     "iopub.status.idle": "2023-02-20T21:34:03.675905Z",
     "shell.execute_reply": "2023-02-20T21:34:03.674796Z"
    },
    "papermill": {
     "duration": 0.023122,
     "end_time": "2023-02-20T21:34:03.679044",
     "exception": false,
     "start_time": "2023-02-20T21:34:03.655922",
     "status": "completed"
    },
    "tags": []
   },
   "outputs": [
    {
     "name": "stdout",
     "output_type": "stream",
     "text": [
      "Random Forest accuracy score : 0.9383561643835616\n",
      "KNeighborsClassifier accuracy score : 0.9363992172211351\n",
      "DecisionTreeClassifier accuracy score : 0.9129158512720157\n"
     ]
    }
   ],
   "source": [
    "def scores():\n",
    "    RF=print(\"Random Forest accuracy score :\",accuracy_score(M_5_pre_test,y_test))\n",
    "    KNN=print(\"KNeighborsClassifier accuracy score :\",accuracy_score(M_2_pre_test,y_test))\n",
    "    DT=print(\"DecisionTreeClassifier accuracy score :\",accuracy_score(M_3_pre_test,y_test))\n",
    "    \n",
    "    return KNN,DT,RF\n",
    "scores();"
   ]
  }
 ],
 "metadata": {
  "kernelspec": {
   "display_name": "Python 3",
   "language": "python",
   "name": "python3"
  },
  "language_info": {
   "codemirror_mode": {
    "name": "ipython",
    "version": 3
   },
   "file_extension": ".py",
   "mimetype": "text/x-python",
   "name": "python",
   "nbconvert_exporter": "python",
   "pygments_lexer": "ipython3",
   "version": "3.7.12"
  },
  "papermill": {
   "default_parameters": {},
   "duration": 34.249404,
   "end_time": "2023-02-20T21:34:04.411112",
   "environment_variables": {},
   "exception": null,
   "input_path": "__notebook__.ipynb",
   "output_path": "__notebook__.ipynb",
   "parameters": {},
   "start_time": "2023-02-20T21:33:30.161708",
   "version": "2.3.4"
  }
 },
 "nbformat": 4,
 "nbformat_minor": 5
}
