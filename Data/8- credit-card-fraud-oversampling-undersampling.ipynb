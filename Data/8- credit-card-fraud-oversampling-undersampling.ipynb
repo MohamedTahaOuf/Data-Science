{
 "cells": [
  {
   "cell_type": "markdown",
   "id": "dc0c9a63",
   "metadata": {
    "papermill": {
     "duration": 0.009983,
     "end_time": "2023-04-20T14:49:25.998818",
     "exception": false,
     "start_time": "2023-04-20T14:49:25.988835",
     "status": "completed"
    },
    "tags": []
   },
   "source": [
    "## Credit Card Fraud - Oversampling and undersampling"
   ]
  },
  {
   "cell_type": "markdown",
   "id": "fb789e06",
   "metadata": {
    "papermill": {
     "duration": 0.008242,
     "end_time": "2023-04-20T14:49:26.016104",
     "exception": false,
     "start_time": "2023-04-20T14:49:26.007862",
     "status": "completed"
    },
    "tags": []
   },
   "source": [
    "## Table of Contents\n",
    "<ul>\n",
    "<li><a href=\"#intro\">Introduction</a></li>\n",
    "<li><a href=\"#eda\">Exploratory Data Analysis -EDA </a></li>\n",
    "<li><a href=\"#under\">RandomUnderSampler & SMOTE combination</a></li>\n",
    "<li><a href=\"#over\">SMOTE</a></li>    \n",
    "<li><a href=\"#conclusions\">Conclusions</a></li>\n",
    "</ul>"
   ]
  },
  {
   "cell_type": "markdown",
   "id": "d3502c62",
   "metadata": {
    "papermill": {
     "duration": 0.008204,
     "end_time": "2023-04-20T14:49:26.033003",
     "exception": false,
     "start_time": "2023-04-20T14:49:26.024799",
     "status": "completed"
    },
    "tags": []
   },
   "source": [
    "<a id='intro'></a>\n",
    "## Introduction\n",
    "This dataset presents transactions that occurred in two days, where we have 492 frauds out of 284,807 transactions. The dataset is highly unbalanced, So we will use two methods to support this imbalanced data using SMOTE this model is used to maximize the minority data to be balanced with the majority data using the k-neighbor model so which uses the nearest points to make a new point among them\n",
    "and randomundersampler This way of the model is used to minimize the number of samples in the majority class to be matched with the minority.\n",
    "\n",
    "This is an into to a Precision and recall :\n",
    "* Precision = True Positives / (True Positives + False Positives)<br>\n",
    " A high precision score means that the classifier is making very few false positive predictions, which is good if we want to minimize false alarms.<br>\n",
    "* Recall = True Positives / (True Positives + False Negatives)<br>\n",
    "A high recall score means that the classifier is correctly identifying a large fraction of the positive instances in the dataset, which is good if we want to minimize false negatives."
   ]
  },
  {
   "cell_type": "markdown",
   "id": "aef72770",
   "metadata": {
    "papermill": {
     "duration": 0.008267,
     "end_time": "2023-04-20T14:49:26.050019",
     "exception": false,
     "start_time": "2023-04-20T14:49:26.041752",
     "status": "completed"
    },
    "tags": []
   },
   "source": [
    "<a id='eda'></a>\n",
    "## EDA"
   ]
  },
  {
   "cell_type": "code",
   "execution_count": 1,
   "id": "a57ec521",
   "metadata": {
    "execution": {
     "iopub.execute_input": "2023-04-20T14:49:26.071147Z",
     "iopub.status.busy": "2023-04-20T14:49:26.069470Z",
     "iopub.status.idle": "2023-04-20T14:49:27.458485Z",
     "shell.execute_reply": "2023-04-20T14:49:27.456902Z"
    },
    "papermill": {
     "duration": 1.403235,
     "end_time": "2023-04-20T14:49:27.461991",
     "exception": false,
     "start_time": "2023-04-20T14:49:26.058756",
     "status": "completed"
    },
    "tags": []
   },
   "outputs": [],
   "source": [
    "# first the EDA we will import the needed libraries \n",
    "import pandas as pd\n",
    "import numpy as np\n",
    "import seaborn as sns\n",
    "import matplotlib.pyplot as plt\n",
    "from sklearn import preprocessing"
   ]
  },
  {
   "cell_type": "code",
   "execution_count": 2,
   "id": "6bd3dc1f",
   "metadata": {
    "execution": {
     "iopub.execute_input": "2023-04-20T14:49:27.481645Z",
     "iopub.status.busy": "2023-04-20T14:49:27.481206Z",
     "iopub.status.idle": "2023-04-20T14:49:33.386577Z",
     "shell.execute_reply": "2023-04-20T14:49:33.385340Z"
    },
    "papermill": {
     "duration": 5.919066,
     "end_time": "2023-04-20T14:49:33.389923",
     "exception": false,
     "start_time": "2023-04-20T14:49:27.470857",
     "status": "completed"
    },
    "tags": []
   },
   "outputs": [
    {
     "data": {
      "text/html": [
       "<div>\n",
       "<style scoped>\n",
       "    .dataframe tbody tr th:only-of-type {\n",
       "        vertical-align: middle;\n",
       "    }\n",
       "\n",
       "    .dataframe tbody tr th {\n",
       "        vertical-align: top;\n",
       "    }\n",
       "\n",
       "    .dataframe thead th {\n",
       "        text-align: right;\n",
       "    }\n",
       "</style>\n",
       "<table border=\"1\" class=\"dataframe\">\n",
       "  <thead>\n",
       "    <tr style=\"text-align: right;\">\n",
       "      <th></th>\n",
       "      <th>Time</th>\n",
       "      <th>V1</th>\n",
       "      <th>V2</th>\n",
       "      <th>V3</th>\n",
       "      <th>V4</th>\n",
       "      <th>V5</th>\n",
       "      <th>V6</th>\n",
       "      <th>V7</th>\n",
       "      <th>V8</th>\n",
       "      <th>V9</th>\n",
       "      <th>...</th>\n",
       "      <th>V21</th>\n",
       "      <th>V22</th>\n",
       "      <th>V23</th>\n",
       "      <th>V24</th>\n",
       "      <th>V25</th>\n",
       "      <th>V26</th>\n",
       "      <th>V27</th>\n",
       "      <th>V28</th>\n",
       "      <th>Amount</th>\n",
       "      <th>Class</th>\n",
       "    </tr>\n",
       "  </thead>\n",
       "  <tbody>\n",
       "    <tr>\n",
       "      <th>0</th>\n",
       "      <td>0.0</td>\n",
       "      <td>-1.359807</td>\n",
       "      <td>-0.072781</td>\n",
       "      <td>2.536347</td>\n",
       "      <td>1.378155</td>\n",
       "      <td>-0.338321</td>\n",
       "      <td>0.462388</td>\n",
       "      <td>0.239599</td>\n",
       "      <td>0.098698</td>\n",
       "      <td>0.363787</td>\n",
       "      <td>...</td>\n",
       "      <td>-0.018307</td>\n",
       "      <td>0.277838</td>\n",
       "      <td>-0.110474</td>\n",
       "      <td>0.066928</td>\n",
       "      <td>0.128539</td>\n",
       "      <td>-0.189115</td>\n",
       "      <td>0.133558</td>\n",
       "      <td>-0.021053</td>\n",
       "      <td>149.62</td>\n",
       "      <td>0</td>\n",
       "    </tr>\n",
       "    <tr>\n",
       "      <th>1</th>\n",
       "      <td>0.0</td>\n",
       "      <td>1.191857</td>\n",
       "      <td>0.266151</td>\n",
       "      <td>0.166480</td>\n",
       "      <td>0.448154</td>\n",
       "      <td>0.060018</td>\n",
       "      <td>-0.082361</td>\n",
       "      <td>-0.078803</td>\n",
       "      <td>0.085102</td>\n",
       "      <td>-0.255425</td>\n",
       "      <td>...</td>\n",
       "      <td>-0.225775</td>\n",
       "      <td>-0.638672</td>\n",
       "      <td>0.101288</td>\n",
       "      <td>-0.339846</td>\n",
       "      <td>0.167170</td>\n",
       "      <td>0.125895</td>\n",
       "      <td>-0.008983</td>\n",
       "      <td>0.014724</td>\n",
       "      <td>2.69</td>\n",
       "      <td>0</td>\n",
       "    </tr>\n",
       "    <tr>\n",
       "      <th>2</th>\n",
       "      <td>1.0</td>\n",
       "      <td>-1.358354</td>\n",
       "      <td>-1.340163</td>\n",
       "      <td>1.773209</td>\n",
       "      <td>0.379780</td>\n",
       "      <td>-0.503198</td>\n",
       "      <td>1.800499</td>\n",
       "      <td>0.791461</td>\n",
       "      <td>0.247676</td>\n",
       "      <td>-1.514654</td>\n",
       "      <td>...</td>\n",
       "      <td>0.247998</td>\n",
       "      <td>0.771679</td>\n",
       "      <td>0.909412</td>\n",
       "      <td>-0.689281</td>\n",
       "      <td>-0.327642</td>\n",
       "      <td>-0.139097</td>\n",
       "      <td>-0.055353</td>\n",
       "      <td>-0.059752</td>\n",
       "      <td>378.66</td>\n",
       "      <td>0</td>\n",
       "    </tr>\n",
       "    <tr>\n",
       "      <th>3</th>\n",
       "      <td>1.0</td>\n",
       "      <td>-0.966272</td>\n",
       "      <td>-0.185226</td>\n",
       "      <td>1.792993</td>\n",
       "      <td>-0.863291</td>\n",
       "      <td>-0.010309</td>\n",
       "      <td>1.247203</td>\n",
       "      <td>0.237609</td>\n",
       "      <td>0.377436</td>\n",
       "      <td>-1.387024</td>\n",
       "      <td>...</td>\n",
       "      <td>-0.108300</td>\n",
       "      <td>0.005274</td>\n",
       "      <td>-0.190321</td>\n",
       "      <td>-1.175575</td>\n",
       "      <td>0.647376</td>\n",
       "      <td>-0.221929</td>\n",
       "      <td>0.062723</td>\n",
       "      <td>0.061458</td>\n",
       "      <td>123.50</td>\n",
       "      <td>0</td>\n",
       "    </tr>\n",
       "    <tr>\n",
       "      <th>4</th>\n",
       "      <td>2.0</td>\n",
       "      <td>-1.158233</td>\n",
       "      <td>0.877737</td>\n",
       "      <td>1.548718</td>\n",
       "      <td>0.403034</td>\n",
       "      <td>-0.407193</td>\n",
       "      <td>0.095921</td>\n",
       "      <td>0.592941</td>\n",
       "      <td>-0.270533</td>\n",
       "      <td>0.817739</td>\n",
       "      <td>...</td>\n",
       "      <td>-0.009431</td>\n",
       "      <td>0.798278</td>\n",
       "      <td>-0.137458</td>\n",
       "      <td>0.141267</td>\n",
       "      <td>-0.206010</td>\n",
       "      <td>0.502292</td>\n",
       "      <td>0.219422</td>\n",
       "      <td>0.215153</td>\n",
       "      <td>69.99</td>\n",
       "      <td>0</td>\n",
       "    </tr>\n",
       "  </tbody>\n",
       "</table>\n",
       "<p>5 rows × 31 columns</p>\n",
       "</div>"
      ],
      "text/plain": [
       "   Time        V1        V2        V3        V4        V5        V6        V7  \\\n",
       "0   0.0 -1.359807 -0.072781  2.536347  1.378155 -0.338321  0.462388  0.239599   \n",
       "1   0.0  1.191857  0.266151  0.166480  0.448154  0.060018 -0.082361 -0.078803   \n",
       "2   1.0 -1.358354 -1.340163  1.773209  0.379780 -0.503198  1.800499  0.791461   \n",
       "3   1.0 -0.966272 -0.185226  1.792993 -0.863291 -0.010309  1.247203  0.237609   \n",
       "4   2.0 -1.158233  0.877737  1.548718  0.403034 -0.407193  0.095921  0.592941   \n",
       "\n",
       "         V8        V9  ...       V21       V22       V23       V24       V25  \\\n",
       "0  0.098698  0.363787  ... -0.018307  0.277838 -0.110474  0.066928  0.128539   \n",
       "1  0.085102 -0.255425  ... -0.225775 -0.638672  0.101288 -0.339846  0.167170   \n",
       "2  0.247676 -1.514654  ...  0.247998  0.771679  0.909412 -0.689281 -0.327642   \n",
       "3  0.377436 -1.387024  ... -0.108300  0.005274 -0.190321 -1.175575  0.647376   \n",
       "4 -0.270533  0.817739  ... -0.009431  0.798278 -0.137458  0.141267 -0.206010   \n",
       "\n",
       "        V26       V27       V28  Amount  Class  \n",
       "0 -0.189115  0.133558 -0.021053  149.62      0  \n",
       "1  0.125895 -0.008983  0.014724    2.69      0  \n",
       "2 -0.139097 -0.055353 -0.059752  378.66      0  \n",
       "3 -0.221929  0.062723  0.061458  123.50      0  \n",
       "4  0.502292  0.219422  0.215153   69.99      0  \n",
       "\n",
       "[5 rows x 31 columns]"
      ]
     },
     "execution_count": 2,
     "metadata": {},
     "output_type": "execute_result"
    }
   ],
   "source": [
    "df=pd.read_csv(\"/kaggle/input/creditcardfraud/creditcard.csv\")\n",
    "df.head()"
   ]
  },
  {
   "cell_type": "code",
   "execution_count": 3,
   "id": "9b3ae987",
   "metadata": {
    "execution": {
     "iopub.execute_input": "2023-04-20T14:49:33.411118Z",
     "iopub.status.busy": "2023-04-20T14:49:33.409931Z",
     "iopub.status.idle": "2023-04-20T14:49:33.444963Z",
     "shell.execute_reply": "2023-04-20T14:49:33.443733Z"
    },
    "papermill": {
     "duration": 0.048396,
     "end_time": "2023-04-20T14:49:33.447692",
     "exception": false,
     "start_time": "2023-04-20T14:49:33.399296",
     "status": "completed"
    },
    "tags": []
   },
   "outputs": [
    {
     "data": {
      "text/html": [
       "<div>\n",
       "<style scoped>\n",
       "    .dataframe tbody tr th:only-of-type {\n",
       "        vertical-align: middle;\n",
       "    }\n",
       "\n",
       "    .dataframe tbody tr th {\n",
       "        vertical-align: top;\n",
       "    }\n",
       "\n",
       "    .dataframe thead th {\n",
       "        text-align: right;\n",
       "    }\n",
       "</style>\n",
       "<table border=\"1\" class=\"dataframe\">\n",
       "  <thead>\n",
       "    <tr style=\"text-align: right;\">\n",
       "      <th></th>\n",
       "      <th>Time</th>\n",
       "      <th>V1</th>\n",
       "      <th>V2</th>\n",
       "      <th>V3</th>\n",
       "      <th>V4</th>\n",
       "      <th>V5</th>\n",
       "      <th>V6</th>\n",
       "      <th>V7</th>\n",
       "      <th>V8</th>\n",
       "      <th>V9</th>\n",
       "      <th>...</th>\n",
       "      <th>V21</th>\n",
       "      <th>V22</th>\n",
       "      <th>V23</th>\n",
       "      <th>V24</th>\n",
       "      <th>V25</th>\n",
       "      <th>V26</th>\n",
       "      <th>V27</th>\n",
       "      <th>V28</th>\n",
       "      <th>Amount</th>\n",
       "      <th>Class</th>\n",
       "    </tr>\n",
       "  </thead>\n",
       "  <tbody>\n",
       "    <tr>\n",
       "      <th>0</th>\n",
       "      <td>0.0</td>\n",
       "      <td>-1.359807</td>\n",
       "      <td>-0.072781</td>\n",
       "      <td>2.536347</td>\n",
       "      <td>1.378155</td>\n",
       "      <td>-0.338321</td>\n",
       "      <td>0.462388</td>\n",
       "      <td>0.239599</td>\n",
       "      <td>0.098698</td>\n",
       "      <td>0.363787</td>\n",
       "      <td>...</td>\n",
       "      <td>-0.018307</td>\n",
       "      <td>0.277838</td>\n",
       "      <td>-0.110474</td>\n",
       "      <td>0.066928</td>\n",
       "      <td>0.128539</td>\n",
       "      <td>-0.189115</td>\n",
       "      <td>0.133558</td>\n",
       "      <td>-0.021053</td>\n",
       "      <td>0.005824</td>\n",
       "      <td>0</td>\n",
       "    </tr>\n",
       "    <tr>\n",
       "      <th>1</th>\n",
       "      <td>0.0</td>\n",
       "      <td>1.191857</td>\n",
       "      <td>0.266151</td>\n",
       "      <td>0.166480</td>\n",
       "      <td>0.448154</td>\n",
       "      <td>0.060018</td>\n",
       "      <td>-0.082361</td>\n",
       "      <td>-0.078803</td>\n",
       "      <td>0.085102</td>\n",
       "      <td>-0.255425</td>\n",
       "      <td>...</td>\n",
       "      <td>-0.225775</td>\n",
       "      <td>-0.638672</td>\n",
       "      <td>0.101288</td>\n",
       "      <td>-0.339846</td>\n",
       "      <td>0.167170</td>\n",
       "      <td>0.125895</td>\n",
       "      <td>-0.008983</td>\n",
       "      <td>0.014724</td>\n",
       "      <td>0.000105</td>\n",
       "      <td>0</td>\n",
       "    </tr>\n",
       "    <tr>\n",
       "      <th>2</th>\n",
       "      <td>1.0</td>\n",
       "      <td>-1.358354</td>\n",
       "      <td>-1.340163</td>\n",
       "      <td>1.773209</td>\n",
       "      <td>0.379780</td>\n",
       "      <td>-0.503198</td>\n",
       "      <td>1.800499</td>\n",
       "      <td>0.791461</td>\n",
       "      <td>0.247676</td>\n",
       "      <td>-1.514654</td>\n",
       "      <td>...</td>\n",
       "      <td>0.247998</td>\n",
       "      <td>0.771679</td>\n",
       "      <td>0.909412</td>\n",
       "      <td>-0.689281</td>\n",
       "      <td>-0.327642</td>\n",
       "      <td>-0.139097</td>\n",
       "      <td>-0.055353</td>\n",
       "      <td>-0.059752</td>\n",
       "      <td>0.014739</td>\n",
       "      <td>0</td>\n",
       "    </tr>\n",
       "    <tr>\n",
       "      <th>3</th>\n",
       "      <td>1.0</td>\n",
       "      <td>-0.966272</td>\n",
       "      <td>-0.185226</td>\n",
       "      <td>1.792993</td>\n",
       "      <td>-0.863291</td>\n",
       "      <td>-0.010309</td>\n",
       "      <td>1.247203</td>\n",
       "      <td>0.237609</td>\n",
       "      <td>0.377436</td>\n",
       "      <td>-1.387024</td>\n",
       "      <td>...</td>\n",
       "      <td>-0.108300</td>\n",
       "      <td>0.005274</td>\n",
       "      <td>-0.190321</td>\n",
       "      <td>-1.175575</td>\n",
       "      <td>0.647376</td>\n",
       "      <td>-0.221929</td>\n",
       "      <td>0.062723</td>\n",
       "      <td>0.061458</td>\n",
       "      <td>0.004807</td>\n",
       "      <td>0</td>\n",
       "    </tr>\n",
       "    <tr>\n",
       "      <th>4</th>\n",
       "      <td>2.0</td>\n",
       "      <td>-1.158233</td>\n",
       "      <td>0.877737</td>\n",
       "      <td>1.548718</td>\n",
       "      <td>0.403034</td>\n",
       "      <td>-0.407193</td>\n",
       "      <td>0.095921</td>\n",
       "      <td>0.592941</td>\n",
       "      <td>-0.270533</td>\n",
       "      <td>0.817739</td>\n",
       "      <td>...</td>\n",
       "      <td>-0.009431</td>\n",
       "      <td>0.798278</td>\n",
       "      <td>-0.137458</td>\n",
       "      <td>0.141267</td>\n",
       "      <td>-0.206010</td>\n",
       "      <td>0.502292</td>\n",
       "      <td>0.219422</td>\n",
       "      <td>0.215153</td>\n",
       "      <td>0.002724</td>\n",
       "      <td>0</td>\n",
       "    </tr>\n",
       "  </tbody>\n",
       "</table>\n",
       "<p>5 rows × 31 columns</p>\n",
       "</div>"
      ],
      "text/plain": [
       "   Time        V1        V2        V3        V4        V5        V6        V7  \\\n",
       "0   0.0 -1.359807 -0.072781  2.536347  1.378155 -0.338321  0.462388  0.239599   \n",
       "1   0.0  1.191857  0.266151  0.166480  0.448154  0.060018 -0.082361 -0.078803   \n",
       "2   1.0 -1.358354 -1.340163  1.773209  0.379780 -0.503198  1.800499  0.791461   \n",
       "3   1.0 -0.966272 -0.185226  1.792993 -0.863291 -0.010309  1.247203  0.237609   \n",
       "4   2.0 -1.158233  0.877737  1.548718  0.403034 -0.407193  0.095921  0.592941   \n",
       "\n",
       "         V8        V9  ...       V21       V22       V23       V24       V25  \\\n",
       "0  0.098698  0.363787  ... -0.018307  0.277838 -0.110474  0.066928  0.128539   \n",
       "1  0.085102 -0.255425  ... -0.225775 -0.638672  0.101288 -0.339846  0.167170   \n",
       "2  0.247676 -1.514654  ...  0.247998  0.771679  0.909412 -0.689281 -0.327642   \n",
       "3  0.377436 -1.387024  ... -0.108300  0.005274 -0.190321 -1.175575  0.647376   \n",
       "4 -0.270533  0.817739  ... -0.009431  0.798278 -0.137458  0.141267 -0.206010   \n",
       "\n",
       "        V26       V27       V28    Amount  Class  \n",
       "0 -0.189115  0.133558 -0.021053  0.005824      0  \n",
       "1  0.125895 -0.008983  0.014724  0.000105      0  \n",
       "2 -0.139097 -0.055353 -0.059752  0.014739      0  \n",
       "3 -0.221929  0.062723  0.061458  0.004807      0  \n",
       "4  0.502292  0.219422  0.215153  0.002724      0  \n",
       "\n",
       "[5 rows x 31 columns]"
      ]
     },
     "execution_count": 3,
     "metadata": {},
     "output_type": "execute_result"
    }
   ],
   "source": [
    "# Normlize the Amount column\n",
    "min_max_scaler = preprocessing.MinMaxScaler()\n",
    "df[\"Amount\"] = min_max_scaler.fit_transform(np.array(df[\"Amount\"]).reshape(-1, 1))\n",
    "df.head()"
   ]
  },
  {
   "cell_type": "code",
   "execution_count": 4,
   "id": "08933319",
   "metadata": {
    "execution": {
     "iopub.execute_input": "2023-04-20T14:49:33.469426Z",
     "iopub.status.busy": "2023-04-20T14:49:33.468927Z",
     "iopub.status.idle": "2023-04-20T14:49:33.485044Z",
     "shell.execute_reply": "2023-04-20T14:49:33.483867Z"
    },
    "papermill": {
     "duration": 0.029794,
     "end_time": "2023-04-20T14:49:33.487812",
     "exception": false,
     "start_time": "2023-04-20T14:49:33.458018",
     "status": "completed"
    },
    "tags": []
   },
   "outputs": [
    {
     "data": {
      "text/plain": [
       "0    284315\n",
       "1       492\n",
       "Name: Class, dtype: int64"
      ]
     },
     "execution_count": 4,
     "metadata": {},
     "output_type": "execute_result"
    }
   ],
   "source": [
    "df[\"Class\"].value_counts()"
   ]
  },
  {
   "cell_type": "code",
   "execution_count": 5,
   "id": "69707755",
   "metadata": {
    "execution": {
     "iopub.execute_input": "2023-04-20T14:49:33.509408Z",
     "iopub.status.busy": "2023-04-20T14:49:33.508900Z",
     "iopub.status.idle": "2023-04-20T14:49:36.075313Z",
     "shell.execute_reply": "2023-04-20T14:49:36.073959Z"
    },
    "papermill": {
     "duration": 2.581006,
     "end_time": "2023-04-20T14:49:36.078353",
     "exception": false,
     "start_time": "2023-04-20T14:49:33.497347",
     "status": "completed"
    },
    "tags": []
   },
   "outputs": [
    {
     "name": "stdout",
     "output_type": "stream",
     "text": [
      "Counter({0: 284315, 1: 492})\n"
     ]
    },
    {
     "data": {
      "image/png": "[encoded data removed]",
      "text/plain": [
       "<Figure size 640x480 with 1 Axes>"
      ]
     },
     "metadata": {},
     "output_type": "display_data"
    }
   ],
   "source": [
    "# draw the distrubtion of y by using any of our features\n",
    "from collections import Counter\n",
    "\n",
    "counter = Counter(df[\"Class\"])\n",
    "\n",
    "for label, _ in counter.items():\n",
    "    row_ix = np.where(df[\"Class\"] == label)[0]\n",
    "    plt.scatter(df.iloc[row_ix,1], df.iloc[row_ix,2], label=str(label))\n",
    "print(Counter(df[\"Class\"]))\n",
    "plt.legend()\n",
    "plt.show()"
   ]
  },
  {
   "cell_type": "markdown",
   "id": "aab011f1",
   "metadata": {
    "execution": {
     "iopub.execute_input": "2023-04-16T13:33:44.819935Z",
     "iopub.status.busy": "2023-04-16T13:33:44.819456Z",
     "iopub.status.idle": "2023-04-16T13:33:45.719878Z",
     "shell.execute_reply": "2023-04-16T13:33:45.718668Z",
     "shell.execute_reply.started": "2023-04-16T13:33:44.819894Z"
    },
    "papermill": {
     "duration": 0.009358,
     "end_time": "2023-04-20T14:49:36.097696",
     "exception": false,
     "start_time": "2023-04-20T14:49:36.088338",
     "status": "completed"
    },
    "tags": []
   },
   "source": [
    "The above plot is clarify the distribution of y in column V1 and V2."
   ]
  },
  {
   "cell_type": "markdown",
   "id": "a5a0a2d0",
   "metadata": {
    "papermill": {
     "duration": 0.009401,
     "end_time": "2023-04-20T14:49:36.116820",
     "exception": false,
     "start_time": "2023-04-20T14:49:36.107419",
     "status": "completed"
    },
    "tags": []
   },
   "source": [
    "### Imbalance Dataset using by RandomUnderSampler & SMOTE"
   ]
  },
  {
   "cell_type": "code",
   "execution_count": 6,
   "id": "c48e69b4",
   "metadata": {
    "execution": {
     "iopub.execute_input": "2023-04-20T14:49:36.138586Z",
     "iopub.status.busy": "2023-04-20T14:49:36.138071Z",
     "iopub.status.idle": "2023-04-20T14:49:36.795913Z",
     "shell.execute_reply": "2023-04-20T14:49:36.794572Z"
    },
    "papermill": {
     "duration": 0.672529,
     "end_time": "2023-04-20T14:49:36.799001",
     "exception": false,
     "start_time": "2023-04-20T14:49:36.126472",
     "status": "completed"
    },
    "tags": []
   },
   "outputs": [],
   "source": [
    "# import some important laibraies\n",
    "from imblearn.over_sampling import SMOTE\n",
    "from imblearn.under_sampling import RandomUnderSampler\n",
    "from imblearn.pipeline import Pipeline\n",
    "from imblearn.ensemble import BalancedRandomForestClassifier\n",
    "\n",
    "from sklearn.model_selection import GridSearchCV\n",
    "from sklearn.model_selection import RandomizedSearchCV\n",
    "from sklearn.model_selection import train_test_split\n",
    "from sklearn.linear_model import LogisticRegression\n",
    "from sklearn.tree import DecisionTreeClassifier\n",
    "from sklearn.ensemble import RandomForestClassifier\n",
    "from sklearn.metrics import classification_report,confusion_matrix,accuracy_score,precision_score,recall_score"
   ]
  },
  {
   "cell_type": "code",
   "execution_count": 7,
   "id": "2c14270a",
   "metadata": {
    "execution": {
     "iopub.execute_input": "2023-04-20T14:49:36.821245Z",
     "iopub.status.busy": "2023-04-20T14:49:36.820768Z",
     "iopub.status.idle": "2023-04-20T14:49:37.069042Z",
     "shell.execute_reply": "2023-04-20T14:49:37.067446Z"
    },
    "papermill": {
     "duration": 0.263158,
     "end_time": "2023-04-20T14:49:37.072059",
     "exception": false,
     "start_time": "2023-04-20T14:49:36.808901",
     "status": "completed"
    },
    "tags": []
   },
   "outputs": [],
   "source": [
    "# here is the x and y that we will use to predict our models after apply overfitting & underfitting models\n",
    "X=df.drop(\"Class\",axis=1).values\n",
    "y=df[\"Class\"].values\n",
    "x_train,x_test,y_train,y_test=train_test_split(X,y,test_size=.3,random_state=5)"
   ]
  },
  {
   "cell_type": "code",
   "execution_count": 8,
   "id": "e8df2415",
   "metadata": {
    "execution": {
     "iopub.execute_input": "2023-04-20T14:49:37.095213Z",
     "iopub.status.busy": "2023-04-20T14:49:37.094539Z",
     "iopub.status.idle": "2023-04-20T14:49:46.717484Z",
     "shell.execute_reply": "2023-04-20T14:49:46.715983Z"
    },
    "papermill": {
     "duration": 9.637782,
     "end_time": "2023-04-20T14:49:46.720619",
     "exception": false,
     "start_time": "2023-04-20T14:49:37.082837",
     "status": "completed"
    },
    "tags": []
   },
   "outputs": [
    {
     "name": "stdout",
     "output_type": "stream",
     "text": [
      "linear Report for training : \n",
      "               precision    recall  f1-score   support\n",
      "\n",
      "           0       1.00      1.00      1.00    199020\n",
      "           1       0.79      0.61      0.69       344\n",
      "\n",
      "    accuracy                           1.00    199364\n",
      "   macro avg       0.90      0.80      0.84    199364\n",
      "weighted avg       1.00      1.00      1.00    199364\n",
      "\n",
      "**************************************************\n",
      "linear Report for testing : \n",
      "               precision    recall  f1-score   support\n",
      "\n",
      "           0       1.00      1.00      1.00     85295\n",
      "           1       0.82      0.59      0.69       148\n",
      "\n",
      "    accuracy                           1.00     85443\n",
      "   macro avg       0.91      0.80      0.84     85443\n",
      "weighted avg       1.00      1.00      1.00     85443\n",
      "\n"
     ]
    }
   ],
   "source": [
    "# this LogisticRegression without using SMOTE\n",
    "linear=LogisticRegression(max_iter=200)\n",
    "linear.fit(x_train,y_train)\n",
    "\n",
    "y_train_pred=linear.predict(x_train)\n",
    "print(\"linear Report for training : \\n\",classification_report(y_train,y_train_pred))\n",
    "\n",
    "print(\"*\"*50)\n",
    "\n",
    "y_test_pred_LR=linear.predict(x_test)\n",
    "print(\"linear Report for testing : \\n\",classification_report(y_test,y_test_pred_LR))"
   ]
  },
  {
   "cell_type": "markdown",
   "id": "35e9466e",
   "metadata": {
    "execution": {
     "iopub.execute_input": "2023-04-17T20:18:24.369028Z",
     "iopub.status.busy": "2023-04-17T20:18:24.368519Z",
     "iopub.status.idle": "2023-04-17T20:18:24.376735Z",
     "shell.execute_reply": "2023-04-17T20:18:24.374965Z",
     "shell.execute_reply.started": "2023-04-17T20:18:24.368988Z"
    },
    "papermill": {
     "duration": 0.009792,
     "end_time": "2023-04-20T14:49:46.740618",
     "exception": false,
     "start_time": "2023-04-20T14:49:46.730826",
     "status": "completed"
    },
    "tags": []
   },
   "source": [
    "<a id='under'></a>\n",
    "## First using RandomUnderSampler & SMOTE combinations"
   ]
  },
  {
   "cell_type": "code",
   "execution_count": 9,
   "id": "9f156f43",
   "metadata": {
    "execution": {
     "iopub.execute_input": "2023-04-20T14:49:46.762793Z",
     "iopub.status.busy": "2023-04-20T14:49:46.762251Z",
     "iopub.status.idle": "2023-04-20T14:49:46.823376Z",
     "shell.execute_reply": "2023-04-20T14:49:46.821960Z"
    },
    "papermill": {
     "duration": 0.075318,
     "end_time": "2023-04-20T14:49:46.826117",
     "exception": false,
     "start_time": "2023-04-20T14:49:46.750799",
     "status": "completed"
    },
    "tags": []
   },
   "outputs": [],
   "source": [
    "# define the x(Features) the y(Label) from the data \n",
    "X1=df.drop(\"Class\",axis=1).values\n",
    "y1=df[\"Class\"].values"
   ]
  },
  {
   "cell_type": "code",
   "execution_count": 10,
   "id": "58c081b0",
   "metadata": {
    "execution": {
     "iopub.execute_input": "2023-04-20T14:49:46.848809Z",
     "iopub.status.busy": "2023-04-20T14:49:46.848337Z",
     "iopub.status.idle": "2023-04-20T14:49:48.149977Z",
     "shell.execute_reply": "2023-04-20T14:49:48.148680Z"
    },
    "papermill": {
     "duration": 1.316328,
     "end_time": "2023-04-20T14:49:48.152871",
     "exception": false,
     "start_time": "2023-04-20T14:49:46.836543",
     "status": "completed"
    },
    "tags": []
   },
   "outputs": [
    {
     "name": "stdout",
     "output_type": "stream",
     "text": [
      "over :  SMOTE(sampling_strategy=0.1)\n",
      "steps :  [('o', SMOTE(sampling_strategy=0.1)), ('u', RandomUnderSampler(sampling_strategy=0.5))]\n",
      "pipeline :  Pipeline(steps=[('o', SMOTE(sampling_strategy=0.1)),\n",
      "                ('u', RandomUnderSampler(sampling_strategy=0.5))])\n",
      "Counter({0: 56862, 1: 28431})\n"
     ]
    },
    {
     "data": {
      "image/png": "[encoded data removed]",
      "text/plain": [
       "<Figure size 640x480 with 1 Axes>"
      ]
     },
     "metadata": {},
     "output_type": "display_data"
    }
   ],
   "source": [
    "# model over sample SMOTE & under sample RandomUnderSampler \n",
    "over = SMOTE(sampling_strategy=0.1)\n",
    "under = RandomUnderSampler(sampling_strategy=0.5)\n",
    "print(\"over : \",over)\n",
    "\n",
    "steps = [('o', over), ('u', under)]\n",
    "print(\"steps : \",steps)\n",
    "\n",
    "# use pipeline to apply the previous steps\n",
    "pipeline = Pipeline(steps=steps)\n",
    "print(\"pipeline : \",pipeline)\n",
    "\n",
    "# transform the dataset\n",
    "X1, y1 = pipeline.fit_resample(X1, y1)\n",
    "\n",
    "# summarize the new class distribution\n",
    "counter = Counter(y1)\n",
    "print(counter)\n",
    "\n",
    "# scatter plot of examples by class label\n",
    "for label, _ in counter.items():\n",
    "    row_ix = np.where(y1 == label)[0]\n",
    "    plt.scatter(X1[row_ix, 1], X1[row_ix, 2], label=str(label))\n",
    "    \n",
    "plt.legend()\n",
    "plt.show()"
   ]
  },
  {
   "cell_type": "markdown",
   "id": "4493611e",
   "metadata": {
    "papermill": {
     "duration": 0.010066,
     "end_time": "2023-04-20T14:49:48.173659",
     "exception": false,
     "start_time": "2023-04-20T14:49:48.163593",
     "status": "completed"
    },
    "tags": []
   },
   "source": [
    "In the above model we using the combinatoin between SMOTE and RandomUnderSampler to make the balance beteween the data and we use sampling_strategy to be make ratio 2:1 maximize the minority data to be 50% of the majority data and minimize the majority), The final output would be class 0=56,862 & class 1=28,431"
   ]
  },
  {
   "cell_type": "markdown",
   "id": "b7e94706",
   "metadata": {
    "papermill": {
     "duration": 0.009997,
     "end_time": "2023-04-20T14:49:48.194131",
     "exception": false,
     "start_time": "2023-04-20T14:49:48.184134",
     "status": "completed"
    },
    "tags": []
   },
   "source": [
    "## LogisticRegression by SMOTE & RandomUnderSampler"
   ]
  },
  {
   "cell_type": "code",
   "execution_count": 11,
   "id": "67296048",
   "metadata": {
    "execution": {
     "iopub.execute_input": "2023-04-20T14:49:48.217974Z",
     "iopub.status.busy": "2023-04-20T14:49:48.216731Z",
     "iopub.status.idle": "2023-04-20T14:49:48.239346Z",
     "shell.execute_reply": "2023-04-20T14:49:48.238038Z"
    },
    "papermill": {
     "duration": 0.037633,
     "end_time": "2023-04-20T14:49:48.242212",
     "exception": false,
     "start_time": "2023-04-20T14:49:48.204579",
     "status": "completed"
    },
    "tags": []
   },
   "outputs": [],
   "source": [
    "x1_train , x1_test , y1_train , y1_test = train_test_split(X1,y1,test_size=.2,random_state=1)"
   ]
  },
  {
   "cell_type": "code",
   "execution_count": 12,
   "id": "8cd223a4",
   "metadata": {
    "execution": {
     "iopub.execute_input": "2023-04-20T14:49:48.265423Z",
     "iopub.status.busy": "2023-04-20T14:49:48.264906Z",
     "iopub.status.idle": "2023-04-20T14:49:49.705275Z",
     "shell.execute_reply": "2023-04-20T14:49:49.703914Z"
    },
    "papermill": {
     "duration": 1.455321,
     "end_time": "2023-04-20T14:49:49.707993",
     "exception": false,
     "start_time": "2023-04-20T14:49:48.252672",
     "status": "completed"
    },
    "tags": []
   },
   "outputs": [
    {
     "name": "stdout",
     "output_type": "stream",
     "text": [
      "linear Report for training : \n",
      "               precision    recall  f1-score   support\n",
      "\n",
      "           0       1.00      0.98      0.99    199020\n",
      "           1       0.09      0.90      0.16       344\n",
      "\n",
      "    accuracy                           0.98    199364\n",
      "   macro avg       0.54      0.94      0.58    199364\n",
      "weighted avg       1.00      0.98      0.99    199364\n",
      "\n",
      "**************************************************\n",
      "linear Report for testing : \n",
      "               precision    recall  f1-score   support\n",
      "\n",
      "           0       1.00      0.99      0.99     85295\n",
      "           1       0.09      0.89      0.17       148\n",
      "\n",
      "    accuracy                           0.98     85443\n",
      "   macro avg       0.55      0.94      0.58     85443\n",
      "weighted avg       1.00      0.98      0.99     85443\n",
      "\n"
     ]
    }
   ],
   "source": [
    "linear=LogisticRegression(C=.01,max_iter=200)\n",
    "linear.fit(x1_train,y1_train)\n",
    "\n",
    "y1_train_pred=linear.predict(x_train)\n",
    "print(\"linear Report for training : \\n\",classification_report(y_train,y1_train_pred))\n",
    "\n",
    "print(\"*\"*50)\n",
    "\n",
    "y1_test_pred_LR=linear.predict(x_test)\n",
    "print(\"linear Report for testing : \\n\",classification_report(y_test,y1_test_pred_LR))"
   ]
  },
  {
   "cell_type": "markdown",
   "id": "0f4ebe42",
   "metadata": {
    "papermill": {
     "duration": 0.010954,
     "end_time": "2023-04-20T14:49:49.730069",
     "exception": false,
     "start_time": "2023-04-20T14:49:49.719115",
     "status": "completed"
    },
    "tags": []
   },
   "source": [
    "This model focused on the recall score = 88% in the test score otherwise the recall is equal 59% in the previous model without applying SMOTE and RandomUnderSampler."
   ]
  },
  {
   "cell_type": "markdown",
   "id": "0fea4ee6",
   "metadata": {
    "papermill": {
     "duration": 0.011008,
     "end_time": "2023-04-20T14:49:49.752244",
     "exception": false,
     "start_time": "2023-04-20T14:49:49.741236",
     "status": "completed"
    },
    "tags": []
   },
   "source": [
    "### DecisionTreeClassifier by SMOTE & RandomUnderSampler"
   ]
  },
  {
   "cell_type": "code",
   "execution_count": 13,
   "id": "8b40d50a",
   "metadata": {
    "execution": {
     "iopub.execute_input": "2023-04-20T14:49:49.776839Z",
     "iopub.status.busy": "2023-04-20T14:49:49.776267Z",
     "iopub.status.idle": "2023-04-20T14:49:55.082585Z",
     "shell.execute_reply": "2023-04-20T14:49:55.081040Z"
    },
    "papermill": {
     "duration": 5.323289,
     "end_time": "2023-04-20T14:49:55.086613",
     "exception": false,
     "start_time": "2023-04-20T14:49:49.763324",
     "status": "completed"
    },
    "tags": []
   },
   "outputs": [
    {
     "name": "stdout",
     "output_type": "stream",
     "text": [
      "DecisionTreeClassifier Report for training : \n",
      "               precision    recall  f1-score   support\n",
      "\n",
      "           0       1.00      0.99      1.00    199020\n",
      "           1       0.21      0.99      0.35       344\n",
      "\n",
      "    accuracy                           0.99    199364\n",
      "   macro avg       0.61      0.99      0.67    199364\n",
      "weighted avg       1.00      0.99      1.00    199364\n",
      "\n",
      "**************************************************\n",
      "DecisionTreeClassifier Report for testing : \n",
      "               precision    recall  f1-score   support\n",
      "\n",
      "           0       1.00      0.99      1.00     85295\n",
      "           1       0.22      0.99      0.36       148\n",
      "\n",
      "    accuracy                           0.99     85443\n",
      "   macro avg       0.61      0.99      0.68     85443\n",
      "weighted avg       1.00      0.99      1.00     85443\n",
      "\n"
     ]
    }
   ],
   "source": [
    "DT=DecisionTreeClassifier()\n",
    "DT.fit(x1_train,y1_train)\n",
    "\n",
    "y1_train_pred=DT.predict(x_train)\n",
    "print(\"DecisionTreeClassifier Report for training : \\n\",classification_report(y_train,y1_train_pred))\n",
    "\n",
    "print(\"*\"*50)\n",
    "\n",
    "y1_test_pred_DT=DT.predict(x_test)\n",
    "print(\"DecisionTreeClassifier Report for testing : \\n\",classification_report(y_test,y1_test_pred_DT))"
   ]
  },
  {
   "cell_type": "markdown",
   "id": "4a3df29d",
   "metadata": {
    "papermill": {
     "duration": 0.010707,
     "end_time": "2023-04-20T14:49:55.108595",
     "exception": false,
     "start_time": "2023-04-20T14:49:55.097888",
     "status": "completed"
    },
    "tags": []
   },
   "source": [
    "## RandomForestClassifier -  SMOTE & RandomUnderSampler"
   ]
  },
  {
   "cell_type": "code",
   "execution_count": 14,
   "id": "b179affc",
   "metadata": {
    "execution": {
     "iopub.execute_input": "2023-04-20T14:49:55.138107Z",
     "iopub.status.busy": "2023-04-20T14:49:55.137693Z",
     "iopub.status.idle": "2023-04-20T14:50:46.851162Z",
     "shell.execute_reply": "2023-04-20T14:50:46.849855Z"
    },
    "papermill": {
     "duration": 51.732792,
     "end_time": "2023-04-20T14:50:46.853987",
     "exception": false,
     "start_time": "2023-04-20T14:49:55.121195",
     "status": "completed"
    },
    "tags": []
   },
   "outputs": [
    {
     "name": "stdout",
     "output_type": "stream",
     "text": [
      "DecisionTreeClassifier Report for training : \n",
      "               precision    recall  f1-score   support\n",
      "\n",
      "           0       1.00      1.00      1.00    199020\n",
      "           1       0.82      0.99      0.90       344\n",
      "\n",
      "    accuracy                           1.00    199364\n",
      "   macro avg       0.91      1.00      0.95    199364\n",
      "weighted avg       1.00      1.00      1.00    199364\n",
      "\n",
      "**************************************************\n",
      "DecisionTreeClassifier Report for testing : \n",
      "               precision    recall  f1-score   support\n",
      "\n",
      "           0       1.00      1.00      1.00     85295\n",
      "           1       0.80      0.99      0.89       148\n",
      "\n",
      "    accuracy                           1.00     85443\n",
      "   macro avg       0.90      1.00      0.94     85443\n",
      "weighted avg       1.00      1.00      1.00     85443\n",
      "\n"
     ]
    }
   ],
   "source": [
    "RF=RandomForestClassifier()\n",
    "RF.fit(x1_train,y1_train)\n",
    "\n",
    "y1_train_pred=RF.predict(x_train)\n",
    "print(\"DecisionTreeClassifier Report for training : \\n\",classification_report(y_train,y1_train_pred))\n",
    "\n",
    "print(\"*\"*50)\n",
    "\n",
    "y1_test_pred_RF=RF.predict(x_test)\n",
    "print(\"DecisionTreeClassifier Report for testing : \\n\",classification_report(y_test,y1_test_pred_RF))"
   ]
  },
  {
   "cell_type": "markdown",
   "id": "8d36c64e",
   "metadata": {
    "papermill": {
     "duration": 0.011425,
     "end_time": "2023-04-20T14:50:46.876745",
     "exception": false,
     "start_time": "2023-04-20T14:50:46.865320",
     "status": "completed"
    },
    "tags": []
   },
   "source": [
    "<a id='over'></a>\n",
    "## SMOTE"
   ]
  },
  {
   "cell_type": "code",
   "execution_count": 15,
   "id": "d4a6a944",
   "metadata": {
    "execution": {
     "iopub.execute_input": "2023-04-20T14:50:46.901893Z",
     "iopub.status.busy": "2023-04-20T14:50:46.901148Z",
     "iopub.status.idle": "2023-04-20T14:50:46.935502Z",
     "shell.execute_reply": "2023-04-20T14:50:46.934008Z"
    },
    "papermill": {
     "duration": 0.050852,
     "end_time": "2023-04-20T14:50:46.938984",
     "exception": false,
     "start_time": "2023-04-20T14:50:46.888132",
     "status": "completed"
    },
    "tags": []
   },
   "outputs": [],
   "source": [
    "# prepare new x and y\n",
    "X_somte=df.drop(\"Class\",axis=1).values\n",
    "y_somte=df[\"Class\"].values"
   ]
  },
  {
   "cell_type": "code",
   "execution_count": 16,
   "id": "6fa07dcf",
   "metadata": {
    "execution": {
     "iopub.execute_input": "2023-04-20T14:50:46.964090Z",
     "iopub.status.busy": "2023-04-20T14:50:46.963626Z",
     "iopub.status.idle": "2023-04-20T14:50:47.379418Z",
     "shell.execute_reply": "2023-04-20T14:50:47.377899Z"
    },
    "papermill": {
     "duration": 0.432036,
     "end_time": "2023-04-20T14:50:47.382518",
     "exception": false,
     "start_time": "2023-04-20T14:50:46.950482",
     "status": "completed"
    },
    "tags": []
   },
   "outputs": [],
   "source": [
    "# transform the dataset\n",
    "oversample = SMOTE()\n",
    "X_somte, y_somte = oversample.fit_resample(X_somte, y_somte)"
   ]
  },
  {
   "cell_type": "code",
   "execution_count": 17,
   "id": "2772fdcb",
   "metadata": {
    "execution": {
     "iopub.execute_input": "2023-04-20T14:50:47.407092Z",
     "iopub.status.busy": "2023-04-20T14:50:47.405866Z",
     "iopub.status.idle": "2023-04-20T14:50:47.498342Z",
     "shell.execute_reply": "2023-04-20T14:50:47.496639Z"
    },
    "papermill": {
     "duration": 0.10769,
     "end_time": "2023-04-20T14:50:47.501141",
     "exception": false,
     "start_time": "2023-04-20T14:50:47.393451",
     "status": "completed"
    },
    "tags": []
   },
   "outputs": [
    {
     "name": "stdout",
     "output_type": "stream",
     "text": [
      "Counter({0: 284315, 1: 284315})\n"
     ]
    }
   ],
   "source": [
    "# summarize the new class distribution\n",
    "counter = Counter(y_somte)\n",
    "print(counter)"
   ]
  },
  {
   "cell_type": "code",
   "execution_count": 18,
   "id": "97e8143d",
   "metadata": {
    "execution": {
     "iopub.execute_input": "2023-04-20T14:50:47.525434Z",
     "iopub.status.busy": "2023-04-20T14:50:47.524433Z",
     "iopub.status.idle": "2023-04-20T14:50:51.819384Z",
     "shell.execute_reply": "2023-04-20T14:50:51.817969Z"
    },
    "papermill": {
     "duration": 4.310341,
     "end_time": "2023-04-20T14:50:51.822269",
     "exception": false,
     "start_time": "2023-04-20T14:50:47.511928",
     "status": "completed"
    },
    "tags": []
   },
   "outputs": [
    {
     "data": {
      "image/png": "[encoded data removed]",
      "text/plain": [
       "<Figure size 640x480 with 1 Axes>"
      ]
     },
     "metadata": {},
     "output_type": "display_data"
    }
   ],
   "source": [
    "# scatter plot after SMOTE\n",
    "for label, _ in counter.items():\n",
    "    row_ix = np.where(y_somte == label)[0]\n",
    "    plt.scatter(X_somte[row_ix, 1], X_somte[row_ix, 2], label=str(label))\n",
    "plt.legend()\n",
    "plt.show()"
   ]
  },
  {
   "cell_type": "markdown",
   "id": "ce4f5bff",
   "metadata": {
    "papermill": {
     "duration": 0.011182,
     "end_time": "2023-04-20T14:50:51.844844",
     "exception": false,
     "start_time": "2023-04-20T14:50:51.833662",
     "status": "completed"
    },
    "tags": []
   },
   "source": [
    "The above plot is clarify the distribution of y in column V1 and V2 after SMOTE"
   ]
  },
  {
   "cell_type": "code",
   "execution_count": 19,
   "id": "8ba58f25",
   "metadata": {
    "execution": {
     "iopub.execute_input": "2023-04-20T14:50:51.870744Z",
     "iopub.status.busy": "2023-04-20T14:50:51.869433Z",
     "iopub.status.idle": "2023-04-20T14:50:51.976494Z",
     "shell.execute_reply": "2023-04-20T14:50:51.974796Z"
    },
    "papermill": {
     "duration": 0.123761,
     "end_time": "2023-04-20T14:50:51.980083",
     "exception": false,
     "start_time": "2023-04-20T14:50:51.856322",
     "status": "completed"
    },
    "tags": []
   },
   "outputs": [],
   "source": [
    "x_smote_train ,x_smote_test , y_smote_train , y_smote_test = train_test_split(X_somte, y_somte,test_size=.3,random_state=2)"
   ]
  },
  {
   "cell_type": "markdown",
   "id": "4f69621c",
   "metadata": {
    "papermill": {
     "duration": 0.011768,
     "end_time": "2023-04-20T14:50:52.003739",
     "exception": false,
     "start_time": "2023-04-20T14:50:51.991971",
     "status": "completed"
    },
    "tags": []
   },
   "source": [
    "## LogisticRegression SOMOTE"
   ]
  },
  {
   "cell_type": "code",
   "execution_count": 20,
   "id": "6b6d89fd",
   "metadata": {
    "execution": {
     "iopub.execute_input": "2023-04-20T14:50:52.030102Z",
     "iopub.status.busy": "2023-04-20T14:50:52.028775Z",
     "iopub.status.idle": "2023-04-20T14:50:58.707642Z",
     "shell.execute_reply": "2023-04-20T14:50:58.705857Z"
    },
    "papermill": {
     "duration": 6.695612,
     "end_time": "2023-04-20T14:50:58.711167",
     "exception": false,
     "start_time": "2023-04-20T14:50:52.015555",
     "status": "completed"
    },
    "tags": []
   },
   "outputs": [
    {
     "name": "stdout",
     "output_type": "stream",
     "text": [
      "linear Report for training : \n",
      "               precision    recall  f1-score   support\n",
      "\n",
      "           0       1.00      0.98      0.99    199020\n",
      "           1       0.07      0.90      0.13       344\n",
      "\n",
      "    accuracy                           0.98    199364\n",
      "   macro avg       0.53      0.94      0.56    199364\n",
      "weighted avg       1.00      0.98      0.99    199364\n",
      "\n",
      "**************************************************\n",
      "linear Report for testing : \n",
      "               precision    recall  f1-score   support\n",
      "\n",
      "           0       1.00      0.98      0.99     85295\n",
      "           1       0.07      0.89      0.14       148\n",
      "\n",
      "    accuracy                           0.98     85443\n",
      "   macro avg       0.54      0.94      0.56     85443\n",
      "weighted avg       1.00      0.98      0.99     85443\n",
      "\n"
     ]
    }
   ],
   "source": [
    "linear=LogisticRegression(max_iter=200)\n",
    "linear.fit(x_smote_train,y_smote_train)\n",
    "\n",
    "y_smote_train_pred=linear.predict(x_train)\n",
    "print(\"linear Report for training : \\n\",classification_report(y_train,y_smote_train_pred))\n",
    "\n",
    "print(\"*\"*50)\n",
    "\n",
    "y_smote_test_pred_LR=linear.predict(x_test)\n",
    "print(\"linear Report for testing : \\n\",classification_report(y_test,y_smote_test_pred_LR))"
   ]
  },
  {
   "cell_type": "markdown",
   "id": "5bfa85be",
   "metadata": {
    "papermill": {
     "duration": 0.011692,
     "end_time": "2023-04-20T14:50:58.734959",
     "exception": false,
     "start_time": "2023-04-20T14:50:58.723267",
     "status": "completed"
    },
    "tags": []
   },
   "source": [
    "## DecisionTreeClassifier SMOTE"
   ]
  },
  {
   "cell_type": "code",
   "execution_count": 21,
   "id": "77068228",
   "metadata": {
    "execution": {
     "iopub.execute_input": "2023-04-20T14:50:58.761686Z",
     "iopub.status.busy": "2023-04-20T14:50:58.761276Z",
     "iopub.status.idle": "2023-04-20T14:51:56.851532Z",
     "shell.execute_reply": "2023-04-20T14:51:56.849617Z"
    },
    "papermill": {
     "duration": 58.114481,
     "end_time": "2023-04-20T14:51:56.861916",
     "exception": false,
     "start_time": "2023-04-20T14:50:58.747435",
     "status": "completed"
    },
    "tags": []
   },
   "outputs": [
    {
     "name": "stdout",
     "output_type": "stream",
     "text": [
      "DecisionTreeClassifier Report for training : \n",
      "               precision    recall  f1-score   support\n",
      "\n",
      "           0       1.00      1.00      1.00    199020\n",
      "           1       0.72      1.00      0.84       344\n",
      "\n",
      "    accuracy                           1.00    199364\n",
      "   macro avg       0.86      1.00      0.92    199364\n",
      "weighted avg       1.00      1.00      1.00    199364\n",
      "\n",
      "**************************************************\n",
      "DecisionTreeClassifier Report for testing : \n",
      "               precision    recall  f1-score   support\n",
      "\n",
      "           0       1.00      1.00      1.00     85295\n",
      "           1       0.70      1.00      0.82       148\n",
      "\n",
      "    accuracy                           1.00     85443\n",
      "   macro avg       0.85      1.00      0.91     85443\n",
      "weighted avg       1.00      1.00      1.00     85443\n",
      "\n"
     ]
    }
   ],
   "source": [
    "DT=DecisionTreeClassifier()\n",
    "DT.fit(x_smote_train,y_smote_train)\n",
    "\n",
    "y_smote_train_pred=DT.predict(x_train)\n",
    "print(\"DecisionTreeClassifier Report for training : \\n\",classification_report(y_train,y_smote_train_pred))\n",
    "\n",
    "print(\"*\"*50)\n",
    "\n",
    "y_smote_test_pred_DT=DT.predict(x_test)\n",
    "\n",
    "print(\"DecisionTreeClassifier Report for testing : \\n\",classification_report(y_test,y_smote_test_pred_DT))"
   ]
  },
  {
   "cell_type": "markdown",
   "id": "f2e148bd",
   "metadata": {
    "papermill": {
     "duration": 0.012417,
     "end_time": "2023-04-20T14:51:56.886790",
     "exception": false,
     "start_time": "2023-04-20T14:51:56.874373",
     "status": "completed"
    },
    "tags": []
   },
   "source": [
    "<a id='conclusions'></a>\n",
    "## Conclusions"
   ]
  },
  {
   "cell_type": "code",
   "execution_count": 22,
   "id": "9f173cef",
   "metadata": {
    "execution": {
     "iopub.execute_input": "2023-04-20T14:51:56.912644Z",
     "iopub.status.busy": "2023-04-20T14:51:56.912233Z",
     "iopub.status.idle": "2023-04-20T14:51:57.142578Z",
     "shell.execute_reply": "2023-04-20T14:51:57.141147Z"
    },
    "papermill": {
     "duration": 0.246909,
     "end_time": "2023-04-20T14:51:57.145511",
     "exception": false,
     "start_time": "2023-04-20T14:51:56.898602",
     "status": "completed"
    },
    "tags": []
   },
   "outputs": [
    {
     "data": {
      "text/html": [
       "<div>\n",
       "<style scoped>\n",
       "    .dataframe tbody tr th:only-of-type {\n",
       "        vertical-align: middle;\n",
       "    }\n",
       "\n",
       "    .dataframe tbody tr th {\n",
       "        vertical-align: top;\n",
       "    }\n",
       "\n",
       "    .dataframe thead th {\n",
       "        text-align: right;\n",
       "    }\n",
       "</style>\n",
       "<table border=\"1\" class=\"dataframe\">\n",
       "  <thead>\n",
       "    <tr style=\"text-align: right;\">\n",
       "      <th></th>\n",
       "      <th>Model Name</th>\n",
       "      <th>racall RUS&amp;Smote</th>\n",
       "      <th>precision RUS&amp;Smote</th>\n",
       "      <th>racall SMOTE</th>\n",
       "      <th>precision SMOTE</th>\n",
       "    </tr>\n",
       "  </thead>\n",
       "  <tbody>\n",
       "    <tr>\n",
       "      <th>0</th>\n",
       "      <td>LR</td>\n",
       "      <td>0.885135</td>\n",
       "      <td>0.093438</td>\n",
       "      <td>0.891892</td>\n",
       "      <td>0.073702</td>\n",
       "    </tr>\n",
       "    <tr>\n",
       "      <th>1</th>\n",
       "      <td>DT</td>\n",
       "      <td>0.986486</td>\n",
       "      <td>0.222901</td>\n",
       "      <td>1.0</td>\n",
       "      <td>0.701422</td>\n",
       "    </tr>\n",
       "    <tr>\n",
       "      <th>2</th>\n",
       "      <td>RF</td>\n",
       "      <td>0.993243</td>\n",
       "      <td>0.798913</td>\n",
       "      <td>-</td>\n",
       "      <td>-</td>\n",
       "    </tr>\n",
       "  </tbody>\n",
       "</table>\n",
       "</div>"
      ],
      "text/plain": [
       "  Model Name  racall RUS&Smote  precision RUS&Smote racall SMOTE  \\\n",
       "0         LR          0.885135             0.093438     0.891892   \n",
       "1         DT          0.986486             0.222901          1.0   \n",
       "2         RF          0.993243             0.798913            -   \n",
       "\n",
       "  precision SMOTE  \n",
       "0        0.073702  \n",
       "1        0.701422  \n",
       "2               -  "
      ]
     },
     "execution_count": 22,
     "metadata": {},
     "output_type": "execute_result"
    }
   ],
   "source": [
    "pd.DataFrame({\"Model Name\":[\"LR\",\"DT\",\"RF\"],\n",
    "              \"racall RUS&Smote\":[recall_score(y_test,y1_test_pred_LR),recall_score(y_test,y1_test_pred_DT),recall_score(y_test,y1_test_pred_RF)],\n",
    "              \"precision RUS&Smote\":[precision_score(y_test,y1_test_pred_LR),precision_score(y_test,y1_test_pred_DT),precision_score(y_test,y1_test_pred_RF)],\n",
    "              \"racall SMOTE\":[recall_score(y_test,y_smote_test_pred_LR),recall_score(y_test,y_smote_test_pred_DT),\"-\"],\n",
    "              \"precision SMOTE\":[precision_score(y_test,y_smote_test_pred_LR),precision_score(y_test,y_smote_test_pred_DT),\"-\"]\n",
    "             }\n",
    "            )\n"
   ]
  }
 ],
 "metadata": {
  "kernelspec": {
   "display_name": "Python 3",
   "language": "python",
   "name": "python3"
  },
  "language_info": {
   "codemirror_mode": {
    "name": "ipython",
    "version": 3
   },
   "file_extension": ".py",
   "mimetype": "text/x-python",
   "name": "python",
   "nbconvert_exporter": "python",
   "pygments_lexer": "ipython3",
   "version": "3.7.12"
  },
  "papermill": {
   "default_parameters": {},
   "duration": 163.015294,
   "end_time": "2023-04-20T14:51:58.183178",
   "environment_variables": {},
   "exception": null,
   "input_path": "__notebook__.ipynb",
   "output_path": "__notebook__.ipynb",
   "parameters": {},
   "start_time": "2023-04-20T14:49:15.167884",
   "version": "2.4.0"
  }
 },
 "nbformat": 4,
 "nbformat_minor": 5
}
