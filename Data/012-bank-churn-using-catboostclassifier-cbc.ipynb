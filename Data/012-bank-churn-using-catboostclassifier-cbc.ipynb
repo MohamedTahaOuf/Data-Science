{
 "cells": [
  {
   "cell_type": "markdown",
   "id": "7e0c4d50",
   "metadata": {
    "execution": {
     "iopub.execute_input": "2023-07-07T16:24:19.298768Z",
     "iopub.status.busy": "2023-07-07T16:24:19.298331Z",
     "iopub.status.idle": "2023-07-07T16:24:19.307070Z",
     "shell.execute_reply": "2023-07-07T16:24:19.305755Z",
     "shell.execute_reply.started": "2023-07-07T16:24:19.298739Z"
    },
    "papermill": {
     "duration": 0.013871,
     "end_time": "2024-01-27T15:10:55.052512",
     "exception": false,
     "start_time": "2024-01-27T15:10:55.038641",
     "status": "completed"
    },
    "tags": []
   },
   "source": [
    "### Kaggle: https://www.kaggle.com/code/mohamedtahaouf/8901-bank-churn-using-catboostclassifier-cbc\n",
    "# Bank Churn Binary Classification\n",
    "\n",
    "## Table of Contents\n",
    "<ul>\n",
    "<li><a href=\"#intro\">Introduction</a></li>\n",
    "<li><a href=\"#wrangling\">Data Wrangling</a></li>\n",
    "<li><a href=\"#ML1\">EDA.</a></li>\n",
    "<li><a href=\"#ML2\">ML.</a></li>\n",
    "<li><a href=\"#ML6\">Apply the selected model.</a></li>\n",
    "</ul>"
   ]
  },
  {
   "cell_type": "markdown",
   "id": "7e02207d",
   "metadata": {
    "papermill": {
     "duration": 0.012945,
     "end_time": "2024-01-27T15:10:55.078903",
     "exception": false,
     "start_time": "2024-01-27T15:10:55.065958",
     "status": "completed"
    },
    "tags": []
   },
   "source": [
    "<a id='intro'></a>\n",
    "## Introduction\n",
    "\n",
    "> The dataset for this competition (both train and test) was generated from a deep learning model trained on the Bank Customer Churn Prediction dataset. Feature distributions are close to, but not exactly the same, as the original. Feel free to use the original dataset as part of this competition, both to explore differences as well as to see whether incorporating the original in training improves model performance.\n",
    "            "
   ]
  },
  {
   "cell_type": "markdown",
   "id": "2cc9f865",
   "metadata": {
    "papermill": {
     "duration": 0.01391,
     "end_time": "2024-01-27T15:10:55.106920",
     "exception": false,
     "start_time": "2024-01-27T15:10:55.093010",
     "status": "completed"
    },
    "tags": []
   },
   "source": [
    "<a id='wrangling'></a>\n",
    "## Data Wrangling\n",
    "\n",
    "\n",
    "> In this section we will clarify the data to analyze it and answer the questions easily."
   ]
  },
  {
   "cell_type": "code",
   "execution_count": 1,
   "id": "e8c6ee97",
   "metadata": {
    "execution": {
     "iopub.execute_input": "2024-01-27T15:10:55.136749Z",
     "iopub.status.busy": "2024-01-27T15:10:55.135767Z",
     "iopub.status.idle": "2024-01-27T15:10:59.802774Z",
     "shell.execute_reply": "2024-01-27T15:10:59.800954Z"
    },
    "papermill": {
     "duration": 4.68666,
     "end_time": "2024-01-27T15:10:59.807336",
     "exception": false,
     "start_time": "2024-01-27T15:10:55.120676",
     "status": "completed"
    },
    "tags": []
   },
   "outputs": [],
   "source": [
    "# Import the laibraies.\n",
    "import pandas as pd\n",
    "import numpy as np\n",
    "import matplotlib.pyplot as plt\n",
    "import seaborn as sns\n",
    "from sklearn.linear_model import LogisticRegression\n",
    "from catboost import CatBoostClassifier\n",
    "from lightgbm import LGBMClassifier\n",
    "from xgboost import XGBClassifier\n",
    "from sklearn.metrics import classification_report,roc_auc_score\n",
    "from sklearn.model_selection import train_test_split,KFold\n",
    "from sklearn.preprocessing import LabelEncoder,MinMaxScaler,StandardScaler,OneHotEncoder\n",
    "from sklearn.model_selection import StratifiedKFold\n",
    "import xgboost as xgb"
   ]
  },
  {
   "cell_type": "markdown",
   "id": "bdcf074a",
   "metadata": {
    "papermill": {
     "duration": 0.01865,
     "end_time": "2024-01-27T15:10:59.842330",
     "exception": false,
     "start_time": "2024-01-27T15:10:59.823680",
     "status": "completed"
    },
    "tags": []
   },
   "source": [
    "Thanks: <br>\n",
    "@paddykb : https://www.kaggle.com/competitions/playground-series-s4e1/discussion/469859 <br>\n",
    "@ARAVIND PILLAI : https://www.kaggle.com/code/aspillai/bank-churn-catboost-0-89609"
   ]
  },
  {
   "cell_type": "code",
   "execution_count": 2,
   "id": "06b92f86",
   "metadata": {
    "execution": {
     "iopub.execute_input": "2024-01-27T15:10:59.882896Z",
     "iopub.status.busy": "2024-01-27T15:10:59.881884Z",
     "iopub.status.idle": "2024-01-27T15:11:00.820269Z",
     "shell.execute_reply": "2024-01-27T15:11:00.818868Z"
    },
    "papermill": {
     "duration": 0.96315,
     "end_time": "2024-01-27T15:11:00.823555",
     "exception": false,
     "start_time": "2024-01-27T15:10:59.860405",
     "status": "completed"
    },
    "tags": []
   },
   "outputs": [],
   "source": [
    "# We have got an extened data\n",
    "df_train1=pd.read_csv('/kaggle/input/playground-series-s4e1/train.csv')\n",
    "df_test =pd.read_csv(\"/kaggle/input/playground-series-s4e1/test.csv\")\n",
    "id_df_test=pd.read_csv(\"/kaggle/input/playground-series-s4e1/sample_submission.csv\")\n",
    "df_orig=pd.read_csv(\"/kaggle/input/bank-customer-churn-prediction/Churn_Modelling.csv\")"
   ]
  },
  {
   "cell_type": "code",
   "execution_count": 3,
   "id": "20d582d6",
   "metadata": {
    "execution": {
     "iopub.execute_input": "2024-01-27T15:11:00.853927Z",
     "iopub.status.busy": "2024-01-27T15:11:00.853304Z",
     "iopub.status.idle": "2024-01-27T15:11:01.006846Z",
     "shell.execute_reply": "2024-01-27T15:11:01.004014Z"
    },
    "papermill": {
     "duration": 0.172761,
     "end_time": "2024-01-27T15:11:01.010208",
     "exception": false,
     "start_time": "2024-01-27T15:11:00.837447",
     "status": "completed"
    },
    "tags": []
   },
   "outputs": [
    {
     "name": "stdout",
     "output_type": "stream",
     "text": [
      "<class 'pandas.core.frame.DataFrame'>\n",
      "Index: 175036 entries, 0 to 165033\n",
      "Data columns (total 14 columns):\n",
      " #   Column           Non-Null Count   Dtype  \n",
      "---  ------           --------------   -----  \n",
      " 0   id               175036 non-null  int64  \n",
      " 1   CustomerId       175036 non-null  int64  \n",
      " 2   Surname          175036 non-null  object \n",
      " 3   CreditScore      175036 non-null  int64  \n",
      " 4   Geography        175035 non-null  object \n",
      " 5   Gender           175036 non-null  object \n",
      " 6   Age              175035 non-null  float64\n",
      " 7   Tenure           175036 non-null  int64  \n",
      " 8   Balance          175036 non-null  float64\n",
      " 9   NumOfProducts    175036 non-null  int64  \n",
      " 10  HasCrCard        175035 non-null  float64\n",
      " 11  IsActiveMember   175035 non-null  float64\n",
      " 12  EstimatedSalary  175036 non-null  float64\n",
      " 13  Exited           175036 non-null  int64  \n",
      "dtypes: float64(5), int64(6), object(3)\n",
      "memory usage: 20.0+ MB\n"
     ]
    }
   ],
   "source": [
    "df_orig=pd.read_csv(\"/kaggle/input/bank-customer-churn-prediction/Churn_Modelling.csv\")\n",
    "df_orig.rename(columns={'RowNumber':'id'},inplace=True)\n",
    "df_train=pd.concat([df_orig,df_train1])\n",
    "df_train.info()"
   ]
  },
  {
   "cell_type": "code",
   "execution_count": 4,
   "id": "5988dde9",
   "metadata": {
    "execution": {
     "iopub.execute_input": "2024-01-27T15:11:01.041814Z",
     "iopub.status.busy": "2024-01-27T15:11:01.040398Z",
     "iopub.status.idle": "2024-01-27T15:11:01.075775Z",
     "shell.execute_reply": "2024-01-27T15:11:01.074093Z"
    },
    "papermill": {
     "duration": 0.054081,
     "end_time": "2024-01-27T15:11:01.078998",
     "exception": false,
     "start_time": "2024-01-27T15:11:01.024917",
     "status": "completed"
    },
    "tags": []
   },
   "outputs": [],
   "source": [
    "df_train.drop([\"id\"],axis=1,inplace=True)"
   ]
  },
  {
   "cell_type": "code",
   "execution_count": 5,
   "id": "6ce12b9f",
   "metadata": {
    "execution": {
     "iopub.execute_input": "2024-01-27T15:11:01.108917Z",
     "iopub.status.busy": "2024-01-27T15:11:01.108199Z",
     "iopub.status.idle": "2024-01-27T15:11:01.184130Z",
     "shell.execute_reply": "2024-01-27T15:11:01.182232Z"
    },
    "papermill": {
     "duration": 0.094494,
     "end_time": "2024-01-27T15:11:01.187016",
     "exception": false,
     "start_time": "2024-01-27T15:11:01.092522",
     "status": "completed"
    },
    "tags": []
   },
   "outputs": [
    {
     "name": "stdout",
     "output_type": "stream",
     "text": [
      "<class 'pandas.core.frame.DataFrame'>\n",
      "Index: 175036 entries, 0 to 165033\n",
      "Data columns (total 13 columns):\n",
      " #   Column           Non-Null Count   Dtype  \n",
      "---  ------           --------------   -----  \n",
      " 0   CustomerId       175036 non-null  int64  \n",
      " 1   Surname          175036 non-null  object \n",
      " 2   CreditScore      175036 non-null  int64  \n",
      " 3   Geography        175035 non-null  object \n",
      " 4   Gender           175036 non-null  object \n",
      " 5   Age              175035 non-null  float64\n",
      " 6   Tenure           175036 non-null  int64  \n",
      " 7   Balance          175036 non-null  float64\n",
      " 8   NumOfProducts    175036 non-null  int64  \n",
      " 9   HasCrCard        175035 non-null  float64\n",
      " 10  IsActiveMember   175035 non-null  float64\n",
      " 11  EstimatedSalary  175036 non-null  float64\n",
      " 12  Exited           175036 non-null  int64  \n",
      "dtypes: float64(5), int64(5), object(3)\n",
      "memory usage: 18.7+ MB\n"
     ]
    }
   ],
   "source": [
    "df_train.info()"
   ]
  },
  {
   "cell_type": "code",
   "execution_count": 6,
   "id": "1166d778",
   "metadata": {
    "execution": {
     "iopub.execute_input": "2024-01-27T15:11:01.218080Z",
     "iopub.status.busy": "2024-01-27T15:11:01.217229Z",
     "iopub.status.idle": "2024-01-27T15:11:01.415897Z",
     "shell.execute_reply": "2024-01-27T15:11:01.414438Z"
    },
    "papermill": {
     "duration": 0.217334,
     "end_time": "2024-01-27T15:11:01.418821",
     "exception": false,
     "start_time": "2024-01-27T15:11:01.201487",
     "status": "completed"
    },
    "tags": []
   },
   "outputs": [
    {
     "data": {
      "text/html": [
       "<div>\n",
       "<style scoped>\n",
       "    .dataframe tbody tr th:only-of-type {\n",
       "        vertical-align: middle;\n",
       "    }\n",
       "\n",
       "    .dataframe tbody tr th {\n",
       "        vertical-align: top;\n",
       "    }\n",
       "\n",
       "    .dataframe thead th {\n",
       "        text-align: right;\n",
       "    }\n",
       "</style>\n",
       "<table border=\"1\" class=\"dataframe\">\n",
       "  <thead>\n",
       "    <tr style=\"text-align: right;\">\n",
       "      <th></th>\n",
       "      <th>Surname</th>\n",
       "      <th>Geography</th>\n",
       "      <th>Gender</th>\n",
       "    </tr>\n",
       "  </thead>\n",
       "  <tbody>\n",
       "    <tr>\n",
       "      <th>count</th>\n",
       "      <td>175036</td>\n",
       "      <td>175035</td>\n",
       "      <td>175036</td>\n",
       "    </tr>\n",
       "    <tr>\n",
       "      <th>unique</th>\n",
       "      <td>2932</td>\n",
       "      <td>3</td>\n",
       "      <td>2</td>\n",
       "    </tr>\n",
       "    <tr>\n",
       "      <th>top</th>\n",
       "      <td>Hsia</td>\n",
       "      <td>France</td>\n",
       "      <td>Male</td>\n",
       "    </tr>\n",
       "    <tr>\n",
       "      <th>freq</th>\n",
       "      <td>2474</td>\n",
       "      <td>99229</td>\n",
       "      <td>98608</td>\n",
       "    </tr>\n",
       "  </tbody>\n",
       "</table>\n",
       "</div>"
      ],
      "text/plain": [
       "       Surname Geography  Gender\n",
       "count   175036    175035  175036\n",
       "unique    2932         3       2\n",
       "top       Hsia    France    Male\n",
       "freq      2474     99229   98608"
      ]
     },
     "execution_count": 6,
     "metadata": {},
     "output_type": "execute_result"
    }
   ],
   "source": [
    "# describe the descriptive & continuousvalues\n",
    "df_train.describe(include=\"O\")"
   ]
  },
  {
   "cell_type": "code",
   "execution_count": 7,
   "id": "42c6bebc",
   "metadata": {
    "execution": {
     "iopub.execute_input": "2024-01-27T15:11:01.451141Z",
     "iopub.status.busy": "2024-01-27T15:11:01.450018Z",
     "iopub.status.idle": "2024-01-27T15:11:01.587825Z",
     "shell.execute_reply": "2024-01-27T15:11:01.586646Z"
    },
    "papermill": {
     "duration": 0.156765,
     "end_time": "2024-01-27T15:11:01.590709",
     "exception": false,
     "start_time": "2024-01-27T15:11:01.433944",
     "status": "completed"
    },
    "tags": []
   },
   "outputs": [
    {
     "data": {
      "text/html": [
       "<div>\n",
       "<style scoped>\n",
       "    .dataframe tbody tr th:only-of-type {\n",
       "        vertical-align: middle;\n",
       "    }\n",
       "\n",
       "    .dataframe tbody tr th {\n",
       "        vertical-align: top;\n",
       "    }\n",
       "\n",
       "    .dataframe thead th {\n",
       "        text-align: right;\n",
       "    }\n",
       "</style>\n",
       "<table border=\"1\" class=\"dataframe\">\n",
       "  <thead>\n",
       "    <tr style=\"text-align: right;\">\n",
       "      <th></th>\n",
       "      <th>CustomerId</th>\n",
       "      <th>CreditScore</th>\n",
       "      <th>Age</th>\n",
       "      <th>Tenure</th>\n",
       "      <th>Balance</th>\n",
       "      <th>NumOfProducts</th>\n",
       "      <th>HasCrCard</th>\n",
       "      <th>IsActiveMember</th>\n",
       "      <th>EstimatedSalary</th>\n",
       "      <th>Exited</th>\n",
       "    </tr>\n",
       "  </thead>\n",
       "  <tbody>\n",
       "    <tr>\n",
       "      <th>count</th>\n",
       "      <td>1.750360e+05</td>\n",
       "      <td>175036.000000</td>\n",
       "      <td>175035.000000</td>\n",
       "      <td>175036.000000</td>\n",
       "      <td>175036.000000</td>\n",
       "      <td>175036.000000</td>\n",
       "      <td>175035.000000</td>\n",
       "      <td>175035.000000</td>\n",
       "      <td>175036.000000</td>\n",
       "      <td>175036.000000</td>\n",
       "    </tr>\n",
       "    <tr>\n",
       "      <th>mean</th>\n",
       "      <td>1.569194e+07</td>\n",
       "      <td>656.117273</td>\n",
       "      <td>38.171393</td>\n",
       "      <td>5.019904</td>\n",
       "      <td>56678.824183</td>\n",
       "      <td>1.553069</td>\n",
       "      <td>0.751187</td>\n",
       "      <td>0.498752</td>\n",
       "      <td>111861.027293</td>\n",
       "      <td>0.211151</td>\n",
       "    </tr>\n",
       "    <tr>\n",
       "      <th>std</th>\n",
       "      <td>7.142866e+04</td>\n",
       "      <td>81.151830</td>\n",
       "      <td>8.969523</td>\n",
       "      <td>2.811125</td>\n",
       "      <td>62982.466070</td>\n",
       "      <td>0.549210</td>\n",
       "      <td>0.432327</td>\n",
       "      <td>0.500000</td>\n",
       "      <td>50815.418008</td>\n",
       "      <td>0.408126</td>\n",
       "    </tr>\n",
       "    <tr>\n",
       "      <th>min</th>\n",
       "      <td>1.556570e+07</td>\n",
       "      <td>350.000000</td>\n",
       "      <td>18.000000</td>\n",
       "      <td>0.000000</td>\n",
       "      <td>0.000000</td>\n",
       "      <td>1.000000</td>\n",
       "      <td>0.000000</td>\n",
       "      <td>0.000000</td>\n",
       "      <td>11.580000</td>\n",
       "      <td>0.000000</td>\n",
       "    </tr>\n",
       "    <tr>\n",
       "      <th>25%</th>\n",
       "      <td>1.563288e+07</td>\n",
       "      <td>597.000000</td>\n",
       "      <td>32.000000</td>\n",
       "      <td>3.000000</td>\n",
       "      <td>0.000000</td>\n",
       "      <td>1.000000</td>\n",
       "      <td>1.000000</td>\n",
       "      <td>0.000000</td>\n",
       "      <td>73181.390000</td>\n",
       "      <td>0.000000</td>\n",
       "    </tr>\n",
       "    <tr>\n",
       "      <th>50%</th>\n",
       "      <td>1.569017e+07</td>\n",
       "      <td>659.000000</td>\n",
       "      <td>37.000000</td>\n",
       "      <td>5.000000</td>\n",
       "      <td>0.000000</td>\n",
       "      <td>2.000000</td>\n",
       "      <td>1.000000</td>\n",
       "      <td>0.000000</td>\n",
       "      <td>116969.730000</td>\n",
       "      <td>0.000000</td>\n",
       "    </tr>\n",
       "    <tr>\n",
       "      <th>75%</th>\n",
       "      <td>1.575666e+07</td>\n",
       "      <td>710.000000</td>\n",
       "      <td>42.000000</td>\n",
       "      <td>7.000000</td>\n",
       "      <td>120729.770000</td>\n",
       "      <td>2.000000</td>\n",
       "      <td>1.000000</td>\n",
       "      <td>1.000000</td>\n",
       "      <td>154767.340000</td>\n",
       "      <td>0.000000</td>\n",
       "    </tr>\n",
       "    <tr>\n",
       "      <th>max</th>\n",
       "      <td>1.581569e+07</td>\n",
       "      <td>850.000000</td>\n",
       "      <td>92.000000</td>\n",
       "      <td>10.000000</td>\n",
       "      <td>250898.090000</td>\n",
       "      <td>4.000000</td>\n",
       "      <td>1.000000</td>\n",
       "      <td>1.000000</td>\n",
       "      <td>199992.480000</td>\n",
       "      <td>1.000000</td>\n",
       "    </tr>\n",
       "  </tbody>\n",
       "</table>\n",
       "</div>"
      ],
      "text/plain": [
       "         CustomerId    CreditScore            Age         Tenure  \\\n",
       "count  1.750360e+05  175036.000000  175035.000000  175036.000000   \n",
       "mean   1.569194e+07     656.117273      38.171393       5.019904   \n",
       "std    7.142866e+04      81.151830       8.969523       2.811125   \n",
       "min    1.556570e+07     350.000000      18.000000       0.000000   \n",
       "25%    1.563288e+07     597.000000      32.000000       3.000000   \n",
       "50%    1.569017e+07     659.000000      37.000000       5.000000   \n",
       "75%    1.575666e+07     710.000000      42.000000       7.000000   \n",
       "max    1.581569e+07     850.000000      92.000000      10.000000   \n",
       "\n",
       "             Balance  NumOfProducts      HasCrCard  IsActiveMember  \\\n",
       "count  175036.000000  175036.000000  175035.000000   175035.000000   \n",
       "mean    56678.824183       1.553069       0.751187        0.498752   \n",
       "std     62982.466070       0.549210       0.432327        0.500000   \n",
       "min         0.000000       1.000000       0.000000        0.000000   \n",
       "25%         0.000000       1.000000       1.000000        0.000000   \n",
       "50%         0.000000       2.000000       1.000000        0.000000   \n",
       "75%    120729.770000       2.000000       1.000000        1.000000   \n",
       "max    250898.090000       4.000000       1.000000        1.000000   \n",
       "\n",
       "       EstimatedSalary         Exited  \n",
       "count    175036.000000  175036.000000  \n",
       "mean     111861.027293       0.211151  \n",
       "std       50815.418008       0.408126  \n",
       "min          11.580000       0.000000  \n",
       "25%       73181.390000       0.000000  \n",
       "50%      116969.730000       0.000000  \n",
       "75%      154767.340000       0.000000  \n",
       "max      199992.480000       1.000000  "
      ]
     },
     "execution_count": 7,
     "metadata": {},
     "output_type": "execute_result"
    }
   ],
   "source": [
    "df_train.describe()"
   ]
  },
  {
   "cell_type": "code",
   "execution_count": 8,
   "id": "436ea38e",
   "metadata": {
    "execution": {
     "iopub.execute_input": "2024-01-27T15:11:01.622448Z",
     "iopub.status.busy": "2024-01-27T15:11:01.621435Z",
     "iopub.status.idle": "2024-01-27T15:11:01.945407Z",
     "shell.execute_reply": "2024-01-27T15:11:01.943762Z"
    },
    "papermill": {
     "duration": 0.342848,
     "end_time": "2024-01-27T15:11:01.948282",
     "exception": false,
     "start_time": "2024-01-27T15:11:01.605434",
     "status": "completed"
    },
    "tags": []
   },
   "outputs": [
    {
     "data": {
      "text/plain": [
       "0"
      ]
     },
     "execution_count": 8,
     "metadata": {},
     "output_type": "execute_result"
    }
   ],
   "source": [
    "df_train.drop_duplicates(df_train,inplace=True)\n",
    "df_train.duplicated().sum()"
   ]
  },
  {
   "cell_type": "code",
   "execution_count": 9,
   "id": "a5e54151",
   "metadata": {
    "execution": {
     "iopub.execute_input": "2024-01-27T15:11:01.980648Z",
     "iopub.status.busy": "2024-01-27T15:11:01.980165Z",
     "iopub.status.idle": "2024-01-27T15:11:02.002712Z",
     "shell.execute_reply": "2024-01-27T15:11:02.000937Z"
    },
    "papermill": {
     "duration": 0.043339,
     "end_time": "2024-01-27T15:11:02.006283",
     "exception": false,
     "start_time": "2024-01-27T15:11:01.962944",
     "status": "completed"
    },
    "tags": []
   },
   "outputs": [],
   "source": [
    "# drop unused data\n",
    "# df_train.drop([\"Surname\",\"CustomerId\"],axis=1,inplace=True)\n",
    "df_train.drop(\"CustomerId\",axis=1,inplace=True)"
   ]
  },
  {
   "cell_type": "code",
   "execution_count": 10,
   "id": "678045a0",
   "metadata": {
    "execution": {
     "iopub.execute_input": "2024-01-27T15:11:02.038741Z",
     "iopub.status.busy": "2024-01-27T15:11:02.038146Z",
     "iopub.status.idle": "2024-01-27T15:11:02.183274Z",
     "shell.execute_reply": "2024-01-27T15:11:02.182010Z"
    },
    "papermill": {
     "duration": 0.165001,
     "end_time": "2024-01-27T15:11:02.186522",
     "exception": false,
     "start_time": "2024-01-27T15:11:02.021521",
     "status": "completed"
    },
    "tags": []
   },
   "outputs": [],
   "source": [
    "df_train.isnull().sum()\n",
    "df_train.dropna(inplace=True)"
   ]
  },
  {
   "cell_type": "code",
   "execution_count": 11,
   "id": "41fdd02d",
   "metadata": {
    "execution": {
     "iopub.execute_input": "2024-01-27T15:11:02.218592Z",
     "iopub.status.busy": "2024-01-27T15:11:02.218037Z",
     "iopub.status.idle": "2024-01-27T15:11:02.289818Z",
     "shell.execute_reply": "2024-01-27T15:11:02.288536Z"
    },
    "papermill": {
     "duration": 0.091132,
     "end_time": "2024-01-27T15:11:02.292770",
     "exception": false,
     "start_time": "2024-01-27T15:11:02.201638",
     "status": "completed"
    },
    "tags": []
   },
   "outputs": [
    {
     "name": "stdout",
     "output_type": "stream",
     "text": [
      "<class 'pandas.core.frame.DataFrame'>\n",
      "Index: 175030 entries, 0 to 165033\n",
      "Data columns (total 12 columns):\n",
      " #   Column           Non-Null Count   Dtype  \n",
      "---  ------           --------------   -----  \n",
      " 0   Surname          175030 non-null  object \n",
      " 1   CreditScore      175030 non-null  int64  \n",
      " 2   Geography        175030 non-null  object \n",
      " 3   Gender           175030 non-null  object \n",
      " 4   Age              175030 non-null  float64\n",
      " 5   Tenure           175030 non-null  int64  \n",
      " 6   Balance          175030 non-null  float64\n",
      " 7   NumOfProducts    175030 non-null  int64  \n",
      " 8   HasCrCard        175030 non-null  float64\n",
      " 9   IsActiveMember   175030 non-null  float64\n",
      " 10  EstimatedSalary  175030 non-null  float64\n",
      " 11  Exited           175030 non-null  int64  \n",
      "dtypes: float64(5), int64(4), object(3)\n",
      "memory usage: 17.4+ MB\n"
     ]
    }
   ],
   "source": [
    "df_train.info()"
   ]
  },
  {
   "cell_type": "markdown",
   "id": "7afdbd06",
   "metadata": {
    "papermill": {
     "duration": 0.013939,
     "end_time": "2024-01-27T15:11:02.321258",
     "exception": false,
     "start_time": "2024-01-27T15:11:02.307319",
     "status": "completed"
    },
    "tags": []
   },
   "source": [
    "<a id='ML1'></a>\n",
    "## EDA (Exploratory Data Analysis)"
   ]
  },
  {
   "cell_type": "code",
   "execution_count": 12,
   "id": "32993d28",
   "metadata": {
    "execution": {
     "iopub.execute_input": "2024-01-27T15:11:02.430359Z",
     "iopub.status.busy": "2024-01-27T15:11:02.429833Z",
     "iopub.status.idle": "2024-01-27T15:11:03.454438Z",
     "shell.execute_reply": "2024-01-27T15:11:03.452865Z"
    },
    "papermill": {
     "duration": 1.044945,
     "end_time": "2024-01-27T15:11:03.457415",
     "exception": false,
     "start_time": "2024-01-27T15:11:02.412470",
     "status": "completed"
    },
    "tags": []
   },
   "outputs": [
    {
     "data": {
      "image/png": "[encoded data removed]",
      "text/plain": [
       "<Figure size 1700x400 with 3 Axes>"
      ]
     },
     "metadata": {},
     "output_type": "display_data"
    }
   ],
   "source": [
    "# Plot the data using countplot to explore the relationship between the exited colunm and the other columns\n",
    "fig, axs = plt.subplots(ncols=3, figsize=(17,4))\n",
    "\n",
    "sns.countplot(data=df_train,x=\"Exited\", ax=axs[0])\n",
    "axs[0].set_title('Exited in all data')\n",
    "\n",
    "sns.countplot(data=df_train[df_train[\"Balance\"]==0],x=\"Exited\", ax=axs[1])\n",
    "axs[1].set_title('Exited when balance equal zero all data')\n",
    "\n",
    "sns.countplot(data=df_train,x=df_train[\"Tenure\"],hue=\"Exited\", ax=axs[2])\n",
    "axs[2].set_title('Exited cleint VS Tenure')\n",
    "\n",
    "plt.show();"
   ]
  },
  {
   "cell_type": "code",
   "execution_count": 13,
   "id": "b470500c",
   "metadata": {
    "execution": {
     "iopub.execute_input": "2024-01-27T15:11:03.493612Z",
     "iopub.status.busy": "2024-01-27T15:11:03.493099Z",
     "iopub.status.idle": "2024-01-27T15:11:04.484485Z",
     "shell.execute_reply": "2024-01-27T15:11:04.482809Z"
    },
    "papermill": {
     "duration": 1.014599,
     "end_time": "2024-01-27T15:11:04.487638",
     "exception": false,
     "start_time": "2024-01-27T15:11:03.473039",
     "status": "completed"
    },
    "tags": []
   },
   "outputs": [
    {
     "data": {
      "image/png": "[encoded data removed]",
      "text/plain": [
       "<Figure size 1500x700 with 6 Axes>"
      ]
     },
     "metadata": {},
     "output_type": "display_data"
    }
   ],
   "source": [
    "# Figure out the outlier using boxplot\n",
    "col = [\"CreditScore\",\"Age\",\"Tenure\",\"Balance\",\"NumOfProducts\",\"EstimatedSalary\"]\n",
    "fig, axes = plt.subplots(nrows=2, ncols=3, figsize=(15, 7))\n",
    "axes = axes.flatten()\n",
    "\n",
    "for i, column in enumerate(col):\n",
    "    sns.boxplot(data=df_train,x= column,ax=axes[i])"
   ]
  },
  {
   "cell_type": "markdown",
   "id": "85a845b5",
   "metadata": {
    "papermill": {
     "duration": 0.016153,
     "end_time": "2024-01-27T15:11:04.520338",
     "exception": false,
     "start_time": "2024-01-27T15:11:04.504185",
     "status": "completed"
    },
    "tags": []
   },
   "source": [
    "As we can see there are an outlier in many features so we need to remove this outliers"
   ]
  },
  {
   "cell_type": "code",
   "execution_count": 14,
   "id": "184de8f5",
   "metadata": {
    "execution": {
     "iopub.execute_input": "2024-01-27T15:11:04.556394Z",
     "iopub.status.busy": "2024-01-27T15:11:04.555615Z",
     "iopub.status.idle": "2024-01-27T15:11:04.560775Z",
     "shell.execute_reply": "2024-01-27T15:11:04.559839Z"
    },
    "papermill": {
     "duration": 0.026683,
     "end_time": "2024-01-27T15:11:04.563300",
     "exception": false,
     "start_time": "2024-01-27T15:11:04.536617",
     "status": "completed"
    },
    "tags": []
   },
   "outputs": [],
   "source": [
    "# # Remove the outliers in the dataset\n",
    "# outlier_data = []\n",
    "\n",
    "# for i in [\"Age\", \"CreditScore\", \"NumOfProducts\"]:\n",
    "#     Q1st = df_train[i].quantile(0.25)\n",
    "#     Q3rd = df_train[i].quantile(0.75)\n",
    "#     IQR = Q3rd - Q1st\n",
    "\n",
    "#     low_outlier = Q1st - 1.5 * IQR\n",
    "#     high_outlier = Q3rd + 1.5 * IQR\n",
    "\n",
    "#     outlier = df_train[(df_train[i] < low_outlier) | (df_train[i] > high_outlier)]\n",
    "#     outlier_data.append(outlier)\n",
    "\n",
    "# # Loop through outlier_data and drop rows from df_train_WO\n",
    "# for outlier_df in outlier_data:\n",
    "#     indices_to_drop = [index for index in outlier_df.index if index in df_train.index]\n",
    "#     df_train = df_train.drop(indices_to_drop, axis=0, errors='ignore')\n",
    "\n",
    "# # Reset the index of the resulting DataFrame\n",
    "# df_train.reset_index(drop=True, inplace=True)"
   ]
  },
  {
   "cell_type": "markdown",
   "id": "5616afc8",
   "metadata": {
    "papermill": {
     "duration": 0.016497,
     "end_time": "2024-01-27T15:11:04.596634",
     "exception": false,
     "start_time": "2024-01-27T15:11:04.580137",
     "status": "completed"
    },
    "tags": []
   },
   "source": [
    "### Features Engineering\n",
    "\n",
    "##### Definition of Feature engineering:\n",
    "is the process of selecting, transforming, or creating new features from raw data to improve the performance of machine learning models. Features are the individual measurable properties or characteristics of the phenomenon being observed, and feature engineering aims to extract the most relevant information from these features to enhance the model's predictive power."
   ]
  },
  {
   "cell_type": "code",
   "execution_count": 15,
   "id": "7db0d84e",
   "metadata": {
    "execution": {
     "iopub.execute_input": "2024-01-27T15:11:04.632413Z",
     "iopub.status.busy": "2024-01-27T15:11:04.631630Z",
     "iopub.status.idle": "2024-01-27T15:11:04.642187Z",
     "shell.execute_reply": "2024-01-27T15:11:04.641152Z"
    },
    "papermill": {
     "duration": 0.031772,
     "end_time": "2024-01-27T15:11:04.644977",
     "exception": false,
     "start_time": "2024-01-27T15:11:04.613205",
     "status": "completed"
    },
    "tags": []
   },
   "outputs": [],
   "source": [
    "def feature(df):\n",
    "    df[\"IsBalanceZero\"] = df[\"Balance\"]==0\n",
    "    df['Low_salary'] = df['EstimatedSalary'].apply(lambda x: 1 if x <= 74850 else 0)\n",
    "    df['Mid_salary'] = df['EstimatedSalary'].apply(lambda x: 1 if (x <= 118528) & (x > 74850) else 0)\n",
    "    df['High_salary'] = df['EstimatedSalary'].apply(lambda x: 1 if (x > 118528) else 0)\n",
    "    df['Low_Balance'] = df['Balance'].apply(lambda x: 1 if (x <= 105223.25) & (x != 0) else 0)\n",
    "    df['Mid_Balance'] = df['Balance'].apply(lambda x: 1 if (x <= 122314) & (x > 105223.25) else 0)\n",
    "    df['High_Balance'] = df['Balance'].apply(lambda x: 1 if (x > 122314) else 0)\n",
    "    df['HasCard&Active'] = df[\"HasCrCard\"] * df[\"IsActiveMember\"]\n",
    "    df[\"credit_score_cat\"] = pd.cut(df[\"CreditScore\"],bins=[0, 450, 650, 750, 850],labels=[\"very_low\", \"low\", \"medium\", \"high\"])"
   ]
  },
  {
   "cell_type": "code",
   "execution_count": 16,
   "id": "05594edb",
   "metadata": {
    "execution": {
     "iopub.execute_input": "2024-01-27T15:11:04.679851Z",
     "iopub.status.busy": "2024-01-27T15:11:04.679121Z",
     "iopub.status.idle": "2024-01-27T15:11:05.674764Z",
     "shell.execute_reply": "2024-01-27T15:11:05.673396Z"
    },
    "papermill": {
     "duration": 1.016584,
     "end_time": "2024-01-27T15:11:05.677750",
     "exception": false,
     "start_time": "2024-01-27T15:11:04.661166",
     "status": "completed"
    },
    "tags": []
   },
   "outputs": [],
   "source": [
    "feature(df_train)"
   ]
  },
  {
   "cell_type": "code",
   "execution_count": 17,
   "id": "113bd31b",
   "metadata": {
    "execution": {
     "iopub.execute_input": "2024-01-27T15:11:05.712335Z",
     "iopub.status.busy": "2024-01-27T15:11:05.711834Z",
     "iopub.status.idle": "2024-01-27T15:11:05.717997Z",
     "shell.execute_reply": "2024-01-27T15:11:05.716567Z"
    },
    "jupyter": {
     "source_hidden": true
    },
    "papermill": {
     "duration": 0.028091,
     "end_time": "2024-01-27T15:11:05.722245",
     "exception": false,
     "start_time": "2024-01-27T15:11:05.694154",
     "status": "completed"
    },
    "tags": []
   },
   "outputs": [],
   "source": [
    "# df_train=pd.get_dummies(df_train[df_train.columns[1:]],columns=df_train.describe(include=\"O\").columns).astype(int)\n",
    "# df_train=df_train.astype(int)"
   ]
  },
  {
   "cell_type": "code",
   "execution_count": 18,
   "id": "12bf919a",
   "metadata": {
    "execution": {
     "iopub.execute_input": "2024-01-27T15:11:05.760146Z",
     "iopub.status.busy": "2024-01-27T15:11:05.758695Z",
     "iopub.status.idle": "2024-01-27T15:11:05.789785Z",
     "shell.execute_reply": "2024-01-27T15:11:05.788329Z"
    },
    "papermill": {
     "duration": 0.052504,
     "end_time": "2024-01-27T15:11:05.792745",
     "exception": false,
     "start_time": "2024-01-27T15:11:05.740241",
     "status": "completed"
    },
    "tags": []
   },
   "outputs": [
    {
     "data": {
      "text/html": [
       "<div>\n",
       "<style scoped>\n",
       "    .dataframe tbody tr th:only-of-type {\n",
       "        vertical-align: middle;\n",
       "    }\n",
       "\n",
       "    .dataframe tbody tr th {\n",
       "        vertical-align: top;\n",
       "    }\n",
       "\n",
       "    .dataframe thead th {\n",
       "        text-align: right;\n",
       "    }\n",
       "</style>\n",
       "<table border=\"1\" class=\"dataframe\">\n",
       "  <thead>\n",
       "    <tr style=\"text-align: right;\">\n",
       "      <th></th>\n",
       "      <th>Surname</th>\n",
       "      <th>CreditScore</th>\n",
       "      <th>Geography</th>\n",
       "      <th>Gender</th>\n",
       "      <th>Age</th>\n",
       "      <th>Tenure</th>\n",
       "      <th>Balance</th>\n",
       "      <th>NumOfProducts</th>\n",
       "      <th>HasCrCard</th>\n",
       "      <th>IsActiveMember</th>\n",
       "      <th>EstimatedSalary</th>\n",
       "      <th>Exited</th>\n",
       "      <th>IsBalanceZero</th>\n",
       "      <th>Low_salary</th>\n",
       "      <th>Mid_salary</th>\n",
       "      <th>High_salary</th>\n",
       "      <th>Low_Balance</th>\n",
       "      <th>Mid_Balance</th>\n",
       "      <th>High_Balance</th>\n",
       "      <th>HasCard&amp;Active</th>\n",
       "      <th>credit_score_cat</th>\n",
       "    </tr>\n",
       "  </thead>\n",
       "  <tbody>\n",
       "    <tr>\n",
       "      <th>165029</th>\n",
       "      <td>Meng</td>\n",
       "      <td>667</td>\n",
       "      <td>Spain</td>\n",
       "      <td>Female</td>\n",
       "      <td>33.0</td>\n",
       "      <td>2</td>\n",
       "      <td>0.0</td>\n",
       "      <td>1</td>\n",
       "      <td>1.0</td>\n",
       "      <td>1.0</td>\n",
       "      <td>131834.75</td>\n",
       "      <td>0</td>\n",
       "      <td>True</td>\n",
       "      <td>0</td>\n",
       "      <td>0</td>\n",
       "      <td>1</td>\n",
       "      <td>0</td>\n",
       "      <td>0</td>\n",
       "      <td>0</td>\n",
       "      <td>1.0</td>\n",
       "      <td>medium</td>\n",
       "    </tr>\n",
       "    <tr>\n",
       "      <th>165030</th>\n",
       "      <td>Okechukwu</td>\n",
       "      <td>792</td>\n",
       "      <td>France</td>\n",
       "      <td>Male</td>\n",
       "      <td>35.0</td>\n",
       "      <td>3</td>\n",
       "      <td>0.0</td>\n",
       "      <td>1</td>\n",
       "      <td>0.0</td>\n",
       "      <td>0.0</td>\n",
       "      <td>131834.45</td>\n",
       "      <td>0</td>\n",
       "      <td>True</td>\n",
       "      <td>0</td>\n",
       "      <td>0</td>\n",
       "      <td>1</td>\n",
       "      <td>0</td>\n",
       "      <td>0</td>\n",
       "      <td>0</td>\n",
       "      <td>0.0</td>\n",
       "      <td>high</td>\n",
       "    </tr>\n",
       "    <tr>\n",
       "      <th>165031</th>\n",
       "      <td>Hsia</td>\n",
       "      <td>565</td>\n",
       "      <td>France</td>\n",
       "      <td>Male</td>\n",
       "      <td>31.0</td>\n",
       "      <td>5</td>\n",
       "      <td>0.0</td>\n",
       "      <td>1</td>\n",
       "      <td>1.0</td>\n",
       "      <td>1.0</td>\n",
       "      <td>127429.56</td>\n",
       "      <td>0</td>\n",
       "      <td>True</td>\n",
       "      <td>0</td>\n",
       "      <td>0</td>\n",
       "      <td>1</td>\n",
       "      <td>0</td>\n",
       "      <td>0</td>\n",
       "      <td>0</td>\n",
       "      <td>1.0</td>\n",
       "      <td>low</td>\n",
       "    </tr>\n",
       "    <tr>\n",
       "      <th>165032</th>\n",
       "      <td>Hsiung</td>\n",
       "      <td>554</td>\n",
       "      <td>Spain</td>\n",
       "      <td>Female</td>\n",
       "      <td>30.0</td>\n",
       "      <td>7</td>\n",
       "      <td>161533.0</td>\n",
       "      <td>1</td>\n",
       "      <td>0.0</td>\n",
       "      <td>1.0</td>\n",
       "      <td>71173.03</td>\n",
       "      <td>0</td>\n",
       "      <td>False</td>\n",
       "      <td>1</td>\n",
       "      <td>0</td>\n",
       "      <td>0</td>\n",
       "      <td>0</td>\n",
       "      <td>0</td>\n",
       "      <td>1</td>\n",
       "      <td>0.0</td>\n",
       "      <td>low</td>\n",
       "    </tr>\n",
       "    <tr>\n",
       "      <th>165033</th>\n",
       "      <td>Ulyanov</td>\n",
       "      <td>850</td>\n",
       "      <td>France</td>\n",
       "      <td>Male</td>\n",
       "      <td>31.0</td>\n",
       "      <td>1</td>\n",
       "      <td>0.0</td>\n",
       "      <td>1</td>\n",
       "      <td>1.0</td>\n",
       "      <td>0.0</td>\n",
       "      <td>61581.79</td>\n",
       "      <td>1</td>\n",
       "      <td>True</td>\n",
       "      <td>1</td>\n",
       "      <td>0</td>\n",
       "      <td>0</td>\n",
       "      <td>0</td>\n",
       "      <td>0</td>\n",
       "      <td>0</td>\n",
       "      <td>0.0</td>\n",
       "      <td>high</td>\n",
       "    </tr>\n",
       "  </tbody>\n",
       "</table>\n",
       "</div>"
      ],
      "text/plain": [
       "          Surname  CreditScore Geography  Gender   Age  Tenure   Balance  \\\n",
       "165029       Meng          667     Spain  Female  33.0       2       0.0   \n",
       "165030  Okechukwu          792    France    Male  35.0       3       0.0   \n",
       "165031       Hsia          565    France    Male  31.0       5       0.0   \n",
       "165032     Hsiung          554     Spain  Female  30.0       7  161533.0   \n",
       "165033    Ulyanov          850    France    Male  31.0       1       0.0   \n",
       "\n",
       "        NumOfProducts  HasCrCard  IsActiveMember  EstimatedSalary  Exited  \\\n",
       "165029              1        1.0             1.0        131834.75       0   \n",
       "165030              1        0.0             0.0        131834.45       0   \n",
       "165031              1        1.0             1.0        127429.56       0   \n",
       "165032              1        0.0             1.0         71173.03       0   \n",
       "165033              1        1.0             0.0         61581.79       1   \n",
       "\n",
       "        IsBalanceZero  Low_salary  Mid_salary  High_salary  Low_Balance  \\\n",
       "165029           True           0           0            1            0   \n",
       "165030           True           0           0            1            0   \n",
       "165031           True           0           0            1            0   \n",
       "165032          False           1           0            0            0   \n",
       "165033           True           1           0            0            0   \n",
       "\n",
       "        Mid_Balance  High_Balance  HasCard&Active credit_score_cat  \n",
       "165029            0             0             1.0           medium  \n",
       "165030            0             0             0.0             high  \n",
       "165031            0             0             1.0              low  \n",
       "165032            0             1             0.0              low  \n",
       "165033            0             0             0.0             high  "
      ]
     },
     "execution_count": 18,
     "metadata": {},
     "output_type": "execute_result"
    }
   ],
   "source": [
    "pd.set_option('display.max_columns', None)\n",
    "df_train.tail()"
   ]
  },
  {
   "cell_type": "markdown",
   "id": "59f0b986",
   "metadata": {
    "papermill": {
     "duration": 0.016096,
     "end_time": "2024-01-27T15:11:05.825602",
     "exception": false,
     "start_time": "2024-01-27T15:11:05.809506",
     "status": "completed"
    },
    "tags": []
   },
   "source": [
    "### Features Selection"
   ]
  },
  {
   "cell_type": "code",
   "execution_count": 19,
   "id": "c0d7f908",
   "metadata": {
    "execution": {
     "iopub.execute_input": "2024-01-27T15:11:05.862446Z",
     "iopub.status.busy": "2024-01-27T15:11:05.862019Z",
     "iopub.status.idle": "2024-01-27T15:11:05.866840Z",
     "shell.execute_reply": "2024-01-27T15:11:05.865822Z"
    },
    "jupyter": {
     "source_hidden": true
    },
    "papermill": {
     "duration": 0.026921,
     "end_time": "2024-01-27T15:11:05.869520",
     "exception": false,
     "start_time": "2024-01-27T15:11:05.842599",
     "status": "completed"
    },
    "tags": []
   },
   "outputs": [],
   "source": [
    "# # use the correlation function to explore the relationship between excited column the rest of columns\n",
    "# mask = np.triu(np.ones_like(df_train.corr()))\n",
    "# plt.figure(figsize=(20,12))\n",
    "# sns.heatmap(df_train.corr(), cmap=\"coolwarm\", annot=True, mask=mask,vmin=-1,vmax=1,fmt=\".1%\");"
   ]
  },
  {
   "cell_type": "code",
   "execution_count": 20,
   "id": "f25f6a0c",
   "metadata": {
    "execution": {
     "iopub.execute_input": "2024-01-27T15:11:05.905992Z",
     "iopub.status.busy": "2024-01-27T15:11:05.905556Z",
     "iopub.status.idle": "2024-01-27T15:11:05.911254Z",
     "shell.execute_reply": "2024-01-27T15:11:05.909690Z"
    },
    "jupyter": {
     "source_hidden": true
    },
    "papermill": {
     "duration": 0.027259,
     "end_time": "2024-01-27T15:11:05.913830",
     "exception": false,
     "start_time": "2024-01-27T15:11:05.886571",
     "status": "completed"
    },
    "tags": []
   },
   "outputs": [],
   "source": [
    "# # Using another option to see the column importance\n",
    "# x_ex1=df_train.drop([\"Exited\"],axis=1)\n",
    "# y_ex1=df_train[\"Exited\"]\n",
    "\n",
    "# # Train a Gradient Boosting model\n",
    "# model = xgb.XGBClassifier()\n",
    "# model.fit(x_ex1, y_ex1)\n",
    "\n",
    "# # Get feature importance scores\n",
    "# importance_scores = model.feature_importances_\n",
    "\n",
    "# # Sort features based on importance scores\n",
    "# sorted_features = sorted(zip(importance_scores, x_ex1.columns), reverse=True)\n",
    "\n",
    "# # Select top features based on importance scores\n",
    "# k = 7\n",
    "# selected_features_ec1 = [feature for _, feature in sorted_features[:k]]\n",
    "# selected_features_ec1"
   ]
  },
  {
   "cell_type": "code",
   "execution_count": 21,
   "id": "096ce5e5",
   "metadata": {
    "execution": {
     "iopub.execute_input": "2024-01-27T15:11:05.950262Z",
     "iopub.status.busy": "2024-01-27T15:11:05.949831Z",
     "iopub.status.idle": "2024-01-27T15:11:05.955758Z",
     "shell.execute_reply": "2024-01-27T15:11:05.954394Z"
    },
    "jupyter": {
     "source_hidden": true
    },
    "papermill": {
     "duration": 0.026675,
     "end_time": "2024-01-27T15:11:05.958473",
     "exception": false,
     "start_time": "2024-01-27T15:11:05.931798",
     "status": "completed"
    },
    "tags": []
   },
   "outputs": [],
   "source": [
    "# # Select the features\n",
    "# F_Select1=df_train.corr()[\"Exited\"][(df_train.corr()[\"Exited\"]>.019) & (df_train.corr()[\"Exited\"]<1)]\n",
    "# F_Select2=df_train.corr()[\"Exited\"][df_train.corr()[\"Exited\"]<=-.02]\n",
    "# F_Selected = pd.concat([F_Select1,F_Select2]).index\n",
    "\n",
    "# F_Selected\n",
    "\n",
    "# as we see above we choose the columns that have a high importance with exited column (targeted column)"
   ]
  },
  {
   "cell_type": "code",
   "execution_count": 22,
   "id": "bf71b653",
   "metadata": {
    "execution": {
     "iopub.execute_input": "2024-01-27T15:11:05.993016Z",
     "iopub.status.busy": "2024-01-27T15:11:05.992619Z",
     "iopub.status.idle": "2024-01-27T15:11:05.997950Z",
     "shell.execute_reply": "2024-01-27T15:11:05.996463Z"
    },
    "jupyter": {
     "source_hidden": true
    },
    "papermill": {
     "duration": 0.026458,
     "end_time": "2024-01-27T15:11:06.001175",
     "exception": false,
     "start_time": "2024-01-27T15:11:05.974717",
     "status": "completed"
    },
    "tags": []
   },
   "outputs": [],
   "source": [
    "# # use seaborn to visualize the importance of the features \n",
    "# sns.barplot(x=[_ for _, feature in sorted_features[:k]],y=[feature for _, feature in sorted_features[:k]])"
   ]
  },
  {
   "cell_type": "markdown",
   "id": "13b246ed",
   "metadata": {
    "papermill": {
     "duration": 0.016848,
     "end_time": "2024-01-27T15:11:06.037525",
     "exception": false,
     "start_time": "2024-01-27T15:11:06.020677",
     "status": "completed"
    },
    "tags": []
   },
   "source": [
    "We will try the 2 options of feature selection and use the better one"
   ]
  },
  {
   "cell_type": "markdown",
   "id": "1b031a11",
   "metadata": {
    "papermill": {
     "duration": 0.015897,
     "end_time": "2024-01-27T15:11:06.069842",
     "exception": false,
     "start_time": "2024-01-27T15:11:06.053945",
     "status": "completed"
    },
    "tags": []
   },
   "source": [
    "<a id='ML2'></a>\n",
    "# ML - Model Selection\n"
   ]
  },
  {
   "cell_type": "code",
   "execution_count": 23,
   "id": "f918c9a0",
   "metadata": {
    "execution": {
     "iopub.execute_input": "2024-01-27T15:11:06.104486Z",
     "iopub.status.busy": "2024-01-27T15:11:06.104082Z",
     "iopub.status.idle": "2024-01-27T15:11:06.138716Z",
     "shell.execute_reply": "2024-01-27T15:11:06.137002Z"
    },
    "papermill": {
     "duration": 0.05555,
     "end_time": "2024-01-27T15:11:06.141762",
     "exception": false,
     "start_time": "2024-01-27T15:11:06.086212",
     "status": "completed"
    },
    "tags": []
   },
   "outputs": [],
   "source": [
    "# creat x and y\n",
    "# x=df_train[F_Selected]#.values\n",
    "x=df_train.drop([\"Exited\"],axis=1)#.values\n",
    "y=df_train[\"Exited\"]#.values"
   ]
  },
  {
   "cell_type": "code",
   "execution_count": 24,
   "id": "ea867213",
   "metadata": {
    "execution": {
     "iopub.execute_input": "2024-01-27T15:11:06.178490Z",
     "iopub.status.busy": "2024-01-27T15:11:06.178031Z",
     "iopub.status.idle": "2024-01-27T15:11:06.292738Z",
     "shell.execute_reply": "2024-01-27T15:11:06.291071Z"
    },
    "papermill": {
     "duration": 0.136288,
     "end_time": "2024-01-27T15:11:06.295869",
     "exception": false,
     "start_time": "2024-01-27T15:11:06.159581",
     "status": "completed"
    },
    "tags": []
   },
   "outputs": [],
   "source": [
    "# Split the data into training and testing sets\n",
    "X_train, X_test, y_train, y_test = train_test_split(x, y, test_size=0.2, random_state=42)"
   ]
  },
  {
   "cell_type": "code",
   "execution_count": 25,
   "id": "ca01586f",
   "metadata": {
    "execution": {
     "iopub.execute_input": "2024-01-27T15:11:06.332426Z",
     "iopub.status.busy": "2024-01-27T15:11:06.331941Z",
     "iopub.status.idle": "2024-01-27T15:11:06.337587Z",
     "shell.execute_reply": "2024-01-27T15:11:06.336362Z"
    },
    "jupyter": {
     "source_hidden": true
    },
    "papermill": {
     "duration": 0.027147,
     "end_time": "2024-01-27T15:11:06.340435",
     "exception": false,
     "start_time": "2024-01-27T15:11:06.313288",
     "status": "completed"
    },
    "tags": []
   },
   "outputs": [],
   "source": [
    "# # Standardize the features\n",
    "# scaler = StandardScaler()\n",
    "# X_train = scaler.fit_transform(X_train)\n",
    "# X_test = scaler.transform(X_test)"
   ]
  },
  {
   "cell_type": "code",
   "execution_count": 26,
   "id": "f6a2d262",
   "metadata": {
    "execution": {
     "iopub.execute_input": "2024-01-27T15:11:06.376642Z",
     "iopub.status.busy": "2024-01-27T15:11:06.376206Z",
     "iopub.status.idle": "2024-01-27T15:11:06.478414Z",
     "shell.execute_reply": "2024-01-27T15:11:06.477116Z"
    },
    "papermill": {
     "duration": 0.123425,
     "end_time": "2024-01-27T15:11:06.481407",
     "exception": false,
     "start_time": "2024-01-27T15:11:06.357982",
     "status": "completed"
    },
    "tags": []
   },
   "outputs": [
    {
     "name": "stdout",
     "output_type": "stream",
     "text": [
      "<class 'pandas.core.frame.DataFrame'>\n",
      "Index: 175030 entries, 0 to 165033\n",
      "Data columns (total 4 columns):\n",
      " #   Column            Non-Null Count   Dtype   \n",
      "---  ------            --------------   -----   \n",
      " 0   Surname           175030 non-null  object  \n",
      " 1   Geography         175030 non-null  object  \n",
      " 2   Gender            175030 non-null  object  \n",
      " 3   credit_score_cat  175030 non-null  category\n",
      "dtypes: category(1), object(3)\n",
      "memory usage: 5.5+ MB\n"
     ]
    }
   ],
   "source": [
    "categorical_features = df_train.select_dtypes(include=[\"object\", \"category\"]).columns.to_list()\n",
    "df_train[categorical_features].info()"
   ]
  },
  {
   "cell_type": "code",
   "execution_count": 27,
   "id": "755d0480",
   "metadata": {
    "execution": {
     "iopub.execute_input": "2024-01-27T15:11:06.518029Z",
     "iopub.status.busy": "2024-01-27T15:11:06.517630Z",
     "iopub.status.idle": "2024-01-27T15:13:43.852231Z",
     "shell.execute_reply": "2024-01-27T15:13:43.850487Z"
    },
    "papermill": {
     "duration": 157.372769,
     "end_time": "2024-01-27T15:13:43.871999",
     "exception": false,
     "start_time": "2024-01-27T15:11:06.499230",
     "status": "completed"
    },
    "tags": []
   },
   "outputs": [
    {
     "name": "stdout",
     "output_type": "stream",
     "text": [
      "AUC Score 0.895320132688757\n"
     ]
    }
   ],
   "source": [
    "# Use CatBoostClassifier to predict the values\n",
    "\n",
    "CBC=CatBoostClassifier(iterations=1400,learning_rate=.07,cat_features=categorical_features,verbose=False)\n",
    "\n",
    "CBC.fit(X_train,y_train)\n",
    "\n",
    "y3_test_pred_CBC=CBC.predict_proba(X_test)[:,1]\n",
    "\n",
    "print(\"AUC Score\",roc_auc_score(y_test,y3_test_pred_CBC))"
   ]
  },
  {
   "cell_type": "markdown",
   "id": "80991074",
   "metadata": {
    "papermill": {
     "duration": 0.016991,
     "end_time": "2024-01-27T15:13:43.906160",
     "exception": false,
     "start_time": "2024-01-27T15:13:43.889169",
     "status": "completed"
    },
    "tags": []
   },
   "source": [
    "<a id='ML6'></a>\n",
    "\n",
    "## Model Selected"
   ]
  },
  {
   "cell_type": "code",
   "execution_count": 28,
   "id": "039c7afc",
   "metadata": {
    "execution": {
     "iopub.execute_input": "2024-01-27T15:13:43.944621Z",
     "iopub.status.busy": "2024-01-27T15:13:43.944205Z",
     "iopub.status.idle": "2024-01-27T15:13:44.589721Z",
     "shell.execute_reply": "2024-01-27T15:13:44.588112Z"
    },
    "papermill": {
     "duration": 0.669012,
     "end_time": "2024-01-27T15:13:44.592913",
     "exception": false,
     "start_time": "2024-01-27T15:13:43.923901",
     "status": "completed"
    },
    "tags": []
   },
   "outputs": [],
   "source": [
    "# Implement the above for the test data\n",
    "feature(df_test)\n",
    "test_data=df_test\n",
    "test_data= df_test.drop([\"id\",\"CustomerId\"],axis=1)\n",
    "# test_data=pd.get_dummies(df_test,columns=df_test.describe(include=\"O\").columns).astype(int)\n",
    "# test_data = test_data[F_Selected].values"
   ]
  },
  {
   "cell_type": "code",
   "execution_count": 29,
   "id": "645b99a4",
   "metadata": {
    "execution": {
     "iopub.execute_input": "2024-01-27T15:13:44.628667Z",
     "iopub.status.busy": "2024-01-27T15:13:44.628193Z",
     "iopub.status.idle": "2024-01-27T15:13:45.496307Z",
     "shell.execute_reply": "2024-01-27T15:13:45.494693Z"
    },
    "papermill": {
     "duration": 0.889276,
     "end_time": "2024-01-27T15:13:45.498964",
     "exception": false,
     "start_time": "2024-01-27T15:13:44.609688",
     "status": "completed"
    },
    "tags": []
   },
   "outputs": [
    {
     "data": {
      "text/plain": [
       "array([0.01733496, 0.7773896 , 0.01523863, ..., 0.01400997, 0.17698776,\n",
       "       0.1748504 ])"
      ]
     },
     "execution_count": 29,
     "metadata": {},
     "output_type": "execute_result"
    }
   ],
   "source": [
    "# test_data = scaler.transform(test_data)\n",
    "prob = CBC.predict_proba(test_data)[:,1]\n",
    "prob"
   ]
  },
  {
   "cell_type": "code",
   "execution_count": 30,
   "id": "720671b8",
   "metadata": {
    "execution": {
     "iopub.execute_input": "2024-01-27T15:13:45.538664Z",
     "iopub.status.busy": "2024-01-27T15:13:45.538155Z",
     "iopub.status.idle": "2024-01-27T15:13:45.554302Z",
     "shell.execute_reply": "2024-01-27T15:13:45.552850Z"
    },
    "papermill": {
     "duration": 0.039498,
     "end_time": "2024-01-27T15:13:45.557750",
     "exception": false,
     "start_time": "2024-01-27T15:13:45.518252",
     "status": "completed"
    },
    "tags": []
   },
   "outputs": [
    {
     "data": {
      "text/html": [
       "<div>\n",
       "<style scoped>\n",
       "    .dataframe tbody tr th:only-of-type {\n",
       "        vertical-align: middle;\n",
       "    }\n",
       "\n",
       "    .dataframe tbody tr th {\n",
       "        vertical-align: top;\n",
       "    }\n",
       "\n",
       "    .dataframe thead th {\n",
       "        text-align: right;\n",
       "    }\n",
       "</style>\n",
       "<table border=\"1\" class=\"dataframe\">\n",
       "  <thead>\n",
       "    <tr style=\"text-align: right;\">\n",
       "      <th></th>\n",
       "      <th>id</th>\n",
       "      <th>Exited</th>\n",
       "    </tr>\n",
       "  </thead>\n",
       "  <tbody>\n",
       "    <tr>\n",
       "      <th>0</th>\n",
       "      <td>165034</td>\n",
       "      <td>0.017335</td>\n",
       "    </tr>\n",
       "    <tr>\n",
       "      <th>1</th>\n",
       "      <td>165035</td>\n",
       "      <td>0.777390</td>\n",
       "    </tr>\n",
       "    <tr>\n",
       "      <th>2</th>\n",
       "      <td>165036</td>\n",
       "      <td>0.015239</td>\n",
       "    </tr>\n",
       "    <tr>\n",
       "      <th>3</th>\n",
       "      <td>165037</td>\n",
       "      <td>0.207912</td>\n",
       "    </tr>\n",
       "    <tr>\n",
       "      <th>4</th>\n",
       "      <td>165038</td>\n",
       "      <td>0.352758</td>\n",
       "    </tr>\n",
       "  </tbody>\n",
       "</table>\n",
       "</div>"
      ],
      "text/plain": [
       "       id    Exited\n",
       "0  165034  0.017335\n",
       "1  165035  0.777390\n",
       "2  165036  0.015239\n",
       "3  165037  0.207912\n",
       "4  165038  0.352758"
      ]
     },
     "execution_count": 30,
     "metadata": {},
     "output_type": "execute_result"
    }
   ],
   "source": [
    "pred=pd.DataFrame({'id':df_test[\"id\"],'Exited':prob})\n",
    "pred.head()"
   ]
  },
  {
   "cell_type": "code",
   "execution_count": 31,
   "id": "5bf64294",
   "metadata": {
    "execution": {
     "iopub.execute_input": "2024-01-27T15:13:45.594902Z",
     "iopub.status.busy": "2024-01-27T15:13:45.594403Z",
     "iopub.status.idle": "2024-01-27T15:13:46.104875Z",
     "shell.execute_reply": "2024-01-27T15:13:46.103505Z"
    },
    "papermill": {
     "duration": 0.532616,
     "end_time": "2024-01-27T15:13:46.108236",
     "exception": false,
     "start_time": "2024-01-27T15:13:45.575620",
     "status": "completed"
    },
    "tags": []
   },
   "outputs": [],
   "source": [
    "pred.to_csv(\"submission.csv\",index=False)"
   ]
  },
  {
   "cell_type": "code",
   "execution_count": 32,
   "id": "c13a717a",
   "metadata": {
    "execution": {
     "iopub.execute_input": "2024-01-27T15:13:46.145970Z",
     "iopub.status.busy": "2024-01-27T15:13:46.145505Z",
     "iopub.status.idle": "2024-01-27T15:13:47.274254Z",
     "shell.execute_reply": "2024-01-27T15:13:47.272421Z"
    },
    "papermill": {
     "duration": 1.151719,
     "end_time": "2024-01-27T15:13:47.277629",
     "exception": false,
     "start_time": "2024-01-27T15:13:46.125910",
     "status": "completed"
    },
    "tags": []
   },
   "outputs": [
    {
     "name": "stdout",
     "output_type": "stream",
     "text": [
      "id,Exited\r\n",
      "165034,0.0173349634285001\r\n",
      "165035,0.7773895957103385\r\n",
      "165036,0.015238634267168259\r\n",
      "165037,0.20791206102478754\r\n",
      "165038,0.3527576087247773\r\n",
      "165039,0.10991236518055751\r\n",
      "165040,0.020730304474830586\r\n",
      "165041,0.10662548492086277\r\n",
      "165042,0.6044179119949168\r\n"
     ]
    }
   ],
   "source": [
    "!head submission.csv"
   ]
  },
  {
   "cell_type": "code",
   "execution_count": null,
   "id": "ec50cda0",
   "metadata": {
    "papermill": {
     "duration": 0.017329,
     "end_time": "2024-01-27T15:13:47.312628",
     "exception": false,
     "start_time": "2024-01-27T15:13:47.295299",
     "status": "completed"
    },
    "tags": []
   },
   "outputs": [],
   "source": []
  }
 ],
 "metadata": {
  "kaggle": {
   "accelerator": "none",
   "dataSources": [
    {
     "databundleVersionId": 7405009,
     "sourceId": 65711,
     "sourceType": "competition"
    },
    {
     "datasetId": 3191230,
     "sourceId": 5536933,
     "sourceType": "datasetVersion"
    }
   ],
   "dockerImageVersionId": 30635,
   "isGpuEnabled": false,
   "isInternetEnabled": true,
   "language": "python",
   "sourceType": "notebook"
  },
  "kernelspec": {
   "display_name": "Python 3",
   "language": "python",
   "name": "python3"
  },
  "language_info": {
   "codemirror_mode": {
    "name": "ipython",
    "version": 3
   },
   "file_extension": ".py",
   "mimetype": "text/x-python",
   "name": "python",
   "nbconvert_exporter": "python",
   "pygments_lexer": "ipython3",
   "version": "3.10.12"
  },
  "papermill": {
   "default_parameters": {},
   "duration": 177.498912,
   "end_time": "2024-01-27T15:13:48.760871",
   "environment_variables": {},
   "exception": null,
   "input_path": "__notebook__.ipynb",
   "output_path": "__notebook__.ipynb",
   "parameters": {},
   "start_time": "2024-01-27T15:10:51.261959",
   "version": "2.4.0"
  }
 },
 "nbformat": 4,
 "nbformat_minor": 5
}
