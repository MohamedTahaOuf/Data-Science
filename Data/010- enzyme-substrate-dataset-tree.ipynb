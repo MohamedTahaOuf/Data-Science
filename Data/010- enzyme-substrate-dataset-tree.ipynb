{
 "cells": [
  {
   "cell_type": "markdown",
   "id": "fa8a1ed1",
   "metadata": {
    "execution": {
     "iopub.execute_input": "2023-07-07T16:24:19.298768Z",
     "iopub.status.busy": "2023-07-07T16:24:19.298331Z",
     "iopub.status.idle": "2023-07-07T16:24:19.307070Z",
     "shell.execute_reply": "2023-07-07T16:24:19.305755Z",
     "shell.execute_reply.started": "2023-07-07T16:24:19.298739Z"
    },
    "papermill": {
     "duration": 0.011029,
     "end_time": "2023-07-08T18:45:53.317025",
     "exception": false,
     "start_time": "2023-07-08T18:45:53.305996",
     "status": "completed"
    },
    "tags": []
   },
   "source": [
    "### Kaggle: https://www.kaggle.com/code/mohamedtahaouf/enzyme-substrate-dataset-tree\n",
    "# Enzyme Substrate Dataset\n",
    "\n",
    "## Table of Contents\n",
    "<ul>\n",
    "<li><a href=\"#intro\">Introduction</a></li>\n",
    "<li><a href=\"#wrangling\">Data Wrangling</a></li>\n",
    "<li><a href=\"#ML1\">Feature selection.</a></li>\n",
    "<li><a href=\"#ML2\">Train'&'test split.</a></li>\n",
    "<li><a href=\"#ML3\">Model Selection.</a></li>\n",
    "<li><a href=\"#ML4\">EC1-Model Selection.</a></li>\n",
    "<li><a href=\"#ML5\">EC2-Model Selection.</a></li>\n",
    "<li><a href=\"#ML6\">Apply the selected model.</a></li>\n",
    "<li><a href=\"#conclusions\">Conclusions</a></li>\n",
    "</ul>"
   ]
  },
  {
   "cell_type": "markdown",
   "id": "9c5455bb",
   "metadata": {
    "papermill": {
     "duration": 0.007094,
     "end_time": "2023-07-08T18:45:53.332355",
     "exception": false,
     "start_time": "2023-07-08T18:45:53.325261",
     "status": "completed"
    },
    "tags": []
   },
   "source": [
    "<a id='intro'></a>\n",
    "## Introduction\n",
    "\n",
    ">Enzymes are known to act on molecules with structural similarities with their substrates. This behaviour is called promiscuity. Scientists working in drug discovery use this behaviour to target/design drugs to either block or promote biological actions. But, correct prediction of EC class(s) of substrates associated with enzymes has been a challenge in biology. Since there is no shortage of data, ML techniques can be employed to solve the aforementioned problem..\n",
    "            "
   ]
  },
  {
   "cell_type": "markdown",
   "id": "61564c0f",
   "metadata": {
    "papermill": {
     "duration": 0.007545,
     "end_time": "2023-07-08T18:45:53.347979",
     "exception": false,
     "start_time": "2023-07-08T18:45:53.340434",
     "status": "completed"
    },
    "tags": []
   },
   "source": [
    "<a id='wrangling'></a>\n",
    "## Data Wrangling\n",
    "\n",
    "\n",
    "> In this section we will clear the unused data to can analyze it and answer the questions easily."
   ]
  },
  {
   "cell_type": "code",
   "execution_count": 1,
   "id": "2f5420dc",
   "metadata": {
    "execution": {
     "iopub.execute_input": "2023-07-08T18:45:53.368477Z",
     "iopub.status.busy": "2023-07-08T18:45:53.368092Z",
     "iopub.status.idle": "2023-07-08T18:45:57.217769Z",
     "shell.execute_reply": "2023-07-08T18:45:57.216655Z"
    },
    "papermill": {
     "duration": 3.862541,
     "end_time": "2023-07-08T18:45:57.220353",
     "exception": false,
     "start_time": "2023-07-08T18:45:53.357812",
     "status": "completed"
    },
    "tags": []
   },
   "outputs": [],
   "source": [
    "import pandas as pd\n",
    "import numpy as np\n",
    "import matplotlib.pyplot as plt\n",
    "import seaborn as sns\n",
    "from sklearn import preprocessing\n",
    "from sklearn.neighbors import KNeighborsClassifier\n",
    "from xgboost import XGBRegressor\n",
    "from xgboost import XGBClassifier\n",
    "from lightgbm import LGBMClassifier\n",
    "from catboost import CatBoostClassifier\n",
    "from sklearn.ensemble import GradientBoostingClassifier\n",
    "from sklearn.model_selection import GridSearchCV\n",
    "import xgboost as xgb\n",
    "from sklearn.metrics import roc_auc_score\n",
    "from sklearn.model_selection import train_test_split"
   ]
  },
  {
   "cell_type": "code",
   "execution_count": 2,
   "id": "11e88961",
   "metadata": {
    "execution": {
     "iopub.execute_input": "2023-07-08T18:45:57.238168Z",
     "iopub.status.busy": "2023-07-08T18:45:57.237594Z",
     "iopub.status.idle": "2023-07-08T18:45:57.404628Z",
     "shell.execute_reply": "2023-07-08T18:45:57.403636Z"
    },
    "papermill": {
     "duration": 0.178407,
     "end_time": "2023-07-08T18:45:57.406787",
     "exception": false,
     "start_time": "2023-07-08T18:45:57.228380",
     "status": "completed"
    },
    "tags": []
   },
   "outputs": [
    {
     "data": {
      "text/html": [
       "<div>\n",
       "<style scoped>\n",
       "    .dataframe tbody tr th:only-of-type {\n",
       "        vertical-align: middle;\n",
       "    }\n",
       "\n",
       "    .dataframe tbody tr th {\n",
       "        vertical-align: top;\n",
       "    }\n",
       "\n",
       "    .dataframe thead th {\n",
       "        text-align: right;\n",
       "    }\n",
       "</style>\n",
       "<table border=\"1\" class=\"dataframe\">\n",
       "  <thead>\n",
       "    <tr style=\"text-align: right;\">\n",
       "      <th></th>\n",
       "      <th>id</th>\n",
       "      <th>BertzCT</th>\n",
       "      <th>Chi1</th>\n",
       "      <th>Chi1n</th>\n",
       "      <th>Chi1v</th>\n",
       "      <th>Chi2n</th>\n",
       "      <th>Chi2v</th>\n",
       "      <th>Chi3v</th>\n",
       "      <th>Chi4n</th>\n",
       "      <th>EState_VSA1</th>\n",
       "      <th>...</th>\n",
       "      <th>SlogP_VSA3</th>\n",
       "      <th>VSA_EState9</th>\n",
       "      <th>fr_COO</th>\n",
       "      <th>fr_COO2</th>\n",
       "      <th>EC1</th>\n",
       "      <th>EC2</th>\n",
       "      <th>EC3</th>\n",
       "      <th>EC4</th>\n",
       "      <th>EC5</th>\n",
       "      <th>EC6</th>\n",
       "    </tr>\n",
       "  </thead>\n",
       "  <tbody>\n",
       "    <tr>\n",
       "      <th>0</th>\n",
       "      <td>0</td>\n",
       "      <td>323.390782</td>\n",
       "      <td>9.879918</td>\n",
       "      <td>5.875576</td>\n",
       "      <td>5.875576</td>\n",
       "      <td>4.304757</td>\n",
       "      <td>4.304757</td>\n",
       "      <td>2.754513</td>\n",
       "      <td>1.749203</td>\n",
       "      <td>0.000000</td>\n",
       "      <td>...</td>\n",
       "      <td>4.794537</td>\n",
       "      <td>35.527357</td>\n",
       "      <td>0</td>\n",
       "      <td>0</td>\n",
       "      <td>1</td>\n",
       "      <td>1</td>\n",
       "      <td>0</td>\n",
       "      <td>0</td>\n",
       "      <td>0</td>\n",
       "      <td>0</td>\n",
       "    </tr>\n",
       "    <tr>\n",
       "      <th>1</th>\n",
       "      <td>1</td>\n",
       "      <td>273.723798</td>\n",
       "      <td>7.259037</td>\n",
       "      <td>4.441467</td>\n",
       "      <td>5.834958</td>\n",
       "      <td>3.285046</td>\n",
       "      <td>4.485235</td>\n",
       "      <td>2.201375</td>\n",
       "      <td>1.289775</td>\n",
       "      <td>45.135471</td>\n",
       "      <td>...</td>\n",
       "      <td>13.825658</td>\n",
       "      <td>44.707310</td>\n",
       "      <td>0</td>\n",
       "      <td>0</td>\n",
       "      <td>0</td>\n",
       "      <td>1</td>\n",
       "      <td>1</td>\n",
       "      <td>0</td>\n",
       "      <td>0</td>\n",
       "      <td>0</td>\n",
       "    </tr>\n",
       "    <tr>\n",
       "      <th>2</th>\n",
       "      <td>2</td>\n",
       "      <td>521.643822</td>\n",
       "      <td>10.911303</td>\n",
       "      <td>8.527859</td>\n",
       "      <td>11.050864</td>\n",
       "      <td>6.665291</td>\n",
       "      <td>9.519706</td>\n",
       "      <td>5.824822</td>\n",
       "      <td>1.770579</td>\n",
       "      <td>15.645394</td>\n",
       "      <td>...</td>\n",
       "      <td>17.964475</td>\n",
       "      <td>45.660120</td>\n",
       "      <td>0</td>\n",
       "      <td>0</td>\n",
       "      <td>1</td>\n",
       "      <td>1</td>\n",
       "      <td>0</td>\n",
       "      <td>0</td>\n",
       "      <td>1</td>\n",
       "      <td>0</td>\n",
       "    </tr>\n",
       "    <tr>\n",
       "      <th>3</th>\n",
       "      <td>3</td>\n",
       "      <td>567.431166</td>\n",
       "      <td>12.453343</td>\n",
       "      <td>7.089119</td>\n",
       "      <td>12.833709</td>\n",
       "      <td>6.478023</td>\n",
       "      <td>10.978151</td>\n",
       "      <td>7.914542</td>\n",
       "      <td>3.067181</td>\n",
       "      <td>95.639554</td>\n",
       "      <td>...</td>\n",
       "      <td>31.961948</td>\n",
       "      <td>87.509997</td>\n",
       "      <td>0</td>\n",
       "      <td>0</td>\n",
       "      <td>1</td>\n",
       "      <td>1</td>\n",
       "      <td>0</td>\n",
       "      <td>0</td>\n",
       "      <td>0</td>\n",
       "      <td>0</td>\n",
       "    </tr>\n",
       "    <tr>\n",
       "      <th>4</th>\n",
       "      <td>4</td>\n",
       "      <td>112.770735</td>\n",
       "      <td>4.414719</td>\n",
       "      <td>2.866236</td>\n",
       "      <td>2.866236</td>\n",
       "      <td>1.875634</td>\n",
       "      <td>1.875634</td>\n",
       "      <td>1.036450</td>\n",
       "      <td>0.727664</td>\n",
       "      <td>17.980451</td>\n",
       "      <td>...</td>\n",
       "      <td>9.589074</td>\n",
       "      <td>33.333333</td>\n",
       "      <td>2</td>\n",
       "      <td>2</td>\n",
       "      <td>1</td>\n",
       "      <td>0</td>\n",
       "      <td>1</td>\n",
       "      <td>1</td>\n",
       "      <td>1</td>\n",
       "      <td>0</td>\n",
       "    </tr>\n",
       "  </tbody>\n",
       "</table>\n",
       "<p>5 rows × 38 columns</p>\n",
       "</div>"
      ],
      "text/plain": [
       "   id     BertzCT       Chi1     Chi1n      Chi1v     Chi2n      Chi2v  \\\n",
       "0   0  323.390782   9.879918  5.875576   5.875576  4.304757   4.304757   \n",
       "1   1  273.723798   7.259037  4.441467   5.834958  3.285046   4.485235   \n",
       "2   2  521.643822  10.911303  8.527859  11.050864  6.665291   9.519706   \n",
       "3   3  567.431166  12.453343  7.089119  12.833709  6.478023  10.978151   \n",
       "4   4  112.770735   4.414719  2.866236   2.866236  1.875634   1.875634   \n",
       "\n",
       "      Chi3v     Chi4n  EState_VSA1  ...  SlogP_VSA3  VSA_EState9  fr_COO  \\\n",
       "0  2.754513  1.749203     0.000000  ...    4.794537    35.527357       0   \n",
       "1  2.201375  1.289775    45.135471  ...   13.825658    44.707310       0   \n",
       "2  5.824822  1.770579    15.645394  ...   17.964475    45.660120       0   \n",
       "3  7.914542  3.067181    95.639554  ...   31.961948    87.509997       0   \n",
       "4  1.036450  0.727664    17.980451  ...    9.589074    33.333333       2   \n",
       "\n",
       "   fr_COO2  EC1  EC2  EC3  EC4  EC5  EC6  \n",
       "0        0    1    1    0    0    0    0  \n",
       "1        0    0    1    1    0    0    0  \n",
       "2        0    1    1    0    0    1    0  \n",
       "3        0    1    1    0    0    0    0  \n",
       "4        2    1    0    1    1    1    0  \n",
       "\n",
       "[5 rows x 38 columns]"
      ]
     },
     "execution_count": 2,
     "metadata": {},
     "output_type": "execute_result"
    }
   ],
   "source": [
    "df=pd.read_csv('/kaggle/input/playground-series-s3e18/train.csv')\n",
    "df.head()"
   ]
  },
  {
   "cell_type": "code",
   "execution_count": 3,
   "id": "a6dee9f7",
   "metadata": {
    "execution": {
     "iopub.execute_input": "2023-07-08T18:45:57.425136Z",
     "iopub.status.busy": "2023-07-08T18:45:57.424762Z",
     "iopub.status.idle": "2023-07-08T18:45:57.453977Z",
     "shell.execute_reply": "2023-07-08T18:45:57.452326Z"
    },
    "papermill": {
     "duration": 0.041146,
     "end_time": "2023-07-08T18:45:57.456621",
     "exception": false,
     "start_time": "2023-07-08T18:45:57.415475",
     "status": "completed"
    },
    "tags": []
   },
   "outputs": [
    {
     "name": "stdout",
     "output_type": "stream",
     "text": [
      "<class 'pandas.core.frame.DataFrame'>\n",
      "RangeIndex: 14838 entries, 0 to 14837\n",
      "Data columns (total 38 columns):\n",
      " #   Column             Non-Null Count  Dtype  \n",
      "---  ------             --------------  -----  \n",
      " 0   id                 14838 non-null  int64  \n",
      " 1   BertzCT            14838 non-null  float64\n",
      " 2   Chi1               14838 non-null  float64\n",
      " 3   Chi1n              14838 non-null  float64\n",
      " 4   Chi1v              14838 non-null  float64\n",
      " 5   Chi2n              14838 non-null  float64\n",
      " 6   Chi2v              14838 non-null  float64\n",
      " 7   Chi3v              14838 non-null  float64\n",
      " 8   Chi4n              14838 non-null  float64\n",
      " 9   EState_VSA1        14838 non-null  float64\n",
      " 10  EState_VSA2        14838 non-null  float64\n",
      " 11  ExactMolWt         14838 non-null  float64\n",
      " 12  FpDensityMorgan1   14838 non-null  float64\n",
      " 13  FpDensityMorgan2   14838 non-null  float64\n",
      " 14  FpDensityMorgan3   14838 non-null  float64\n",
      " 15  HallKierAlpha      14838 non-null  float64\n",
      " 16  HeavyAtomMolWt     14838 non-null  float64\n",
      " 17  Kappa3             14838 non-null  float64\n",
      " 18  MaxAbsEStateIndex  14838 non-null  float64\n",
      " 19  MinEStateIndex     14838 non-null  float64\n",
      " 20  NumHeteroatoms     14838 non-null  int64  \n",
      " 21  PEOE_VSA10         14838 non-null  float64\n",
      " 22  PEOE_VSA14         14838 non-null  float64\n",
      " 23  PEOE_VSA6          14838 non-null  float64\n",
      " 24  PEOE_VSA7          14838 non-null  float64\n",
      " 25  PEOE_VSA8          14838 non-null  float64\n",
      " 26  SMR_VSA10          14838 non-null  float64\n",
      " 27  SMR_VSA5           14838 non-null  float64\n",
      " 28  SlogP_VSA3         14838 non-null  float64\n",
      " 29  VSA_EState9        14838 non-null  float64\n",
      " 30  fr_COO             14838 non-null  int64  \n",
      " 31  fr_COO2            14838 non-null  int64  \n",
      " 32  EC1                14838 non-null  int64  \n",
      " 33  EC2                14838 non-null  int64  \n",
      " 34  EC3                14838 non-null  int64  \n",
      " 35  EC4                14838 non-null  int64  \n",
      " 36  EC5                14838 non-null  int64  \n",
      " 37  EC6                14838 non-null  int64  \n",
      "dtypes: float64(28), int64(10)\n",
      "memory usage: 4.3 MB\n"
     ]
    }
   ],
   "source": [
    "df.info()"
   ]
  },
  {
   "cell_type": "code",
   "execution_count": 4,
   "id": "dfaedb93",
   "metadata": {
    "execution": {
     "iopub.execute_input": "2023-07-08T18:45:57.475057Z",
     "iopub.status.busy": "2023-07-08T18:45:57.474677Z",
     "iopub.status.idle": "2023-07-08T18:45:57.500530Z",
     "shell.execute_reply": "2023-07-08T18:45:57.499183Z"
    },
    "papermill": {
     "duration": 0.037942,
     "end_time": "2023-07-08T18:45:57.502841",
     "exception": false,
     "start_time": "2023-07-08T18:45:57.464899",
     "status": "completed"
    },
    "tags": []
   },
   "outputs": [
    {
     "data": {
      "text/plain": [
       "0"
      ]
     },
     "execution_count": 4,
     "metadata": {},
     "output_type": "execute_result"
    }
   ],
   "source": [
    "df.duplicated().sum()"
   ]
  },
  {
   "cell_type": "markdown",
   "id": "3c8543fc",
   "metadata": {
    "papermill": {
     "duration": 0.008489,
     "end_time": "2023-07-08T18:45:57.519886",
     "exception": false,
     "start_time": "2023-07-08T18:45:57.511397",
     "status": "completed"
    },
    "tags": []
   },
   "source": [
    "There are no duplicatin in this data."
   ]
  },
  {
   "cell_type": "code",
   "execution_count": 5,
   "id": "2fcb00fa",
   "metadata": {
    "execution": {
     "iopub.execute_input": "2023-07-08T18:45:57.538515Z",
     "iopub.status.busy": "2023-07-08T18:45:57.537660Z",
     "iopub.status.idle": "2023-07-08T18:45:57.545690Z",
     "shell.execute_reply": "2023-07-08T18:45:57.544816Z"
    },
    "papermill": {
     "duration": 0.019673,
     "end_time": "2023-07-08T18:45:57.548102",
     "exception": false,
     "start_time": "2023-07-08T18:45:57.528429",
     "status": "completed"
    },
    "tags": []
   },
   "outputs": [
    {
     "data": {
      "text/plain": [
       "id                   0\n",
       "BertzCT              0\n",
       "Chi1                 0\n",
       "Chi1n                0\n",
       "Chi1v                0\n",
       "Chi2n                0\n",
       "Chi2v                0\n",
       "Chi3v                0\n",
       "Chi4n                0\n",
       "EState_VSA1          0\n",
       "EState_VSA2          0\n",
       "ExactMolWt           0\n",
       "FpDensityMorgan1     0\n",
       "FpDensityMorgan2     0\n",
       "FpDensityMorgan3     0\n",
       "HallKierAlpha        0\n",
       "HeavyAtomMolWt       0\n",
       "Kappa3               0\n",
       "MaxAbsEStateIndex    0\n",
       "MinEStateIndex       0\n",
       "NumHeteroatoms       0\n",
       "PEOE_VSA10           0\n",
       "PEOE_VSA14           0\n",
       "PEOE_VSA6            0\n",
       "PEOE_VSA7            0\n",
       "PEOE_VSA8            0\n",
       "SMR_VSA10            0\n",
       "SMR_VSA5             0\n",
       "SlogP_VSA3           0\n",
       "VSA_EState9          0\n",
       "fr_COO               0\n",
       "fr_COO2              0\n",
       "EC1                  0\n",
       "EC2                  0\n",
       "EC3                  0\n",
       "EC4                  0\n",
       "EC5                  0\n",
       "EC6                  0\n",
       "dtype: int64"
      ]
     },
     "execution_count": 5,
     "metadata": {},
     "output_type": "execute_result"
    }
   ],
   "source": [
    "df.isnull().sum()"
   ]
  },
  {
   "cell_type": "markdown",
   "id": "736338ce",
   "metadata": {
    "papermill": {
     "duration": 0.007979,
     "end_time": "2023-07-08T18:45:57.564624",
     "exception": false,
     "start_time": "2023-07-08T18:45:57.556645",
     "status": "completed"
    },
    "tags": []
   },
   "source": [
    "There are no nulls in this data."
   ]
  },
  {
   "cell_type": "code",
   "execution_count": 6,
   "id": "99b5acae",
   "metadata": {
    "execution": {
     "iopub.execute_input": "2023-07-08T18:45:57.582659Z",
     "iopub.status.busy": "2023-07-08T18:45:57.582258Z",
     "iopub.status.idle": "2023-07-08T18:45:57.589529Z",
     "shell.execute_reply": "2023-07-08T18:45:57.587649Z"
    },
    "papermill": {
     "duration": 0.019452,
     "end_time": "2023-07-08T18:45:57.592350",
     "exception": false,
     "start_time": "2023-07-08T18:45:57.572898",
     "status": "completed"
    },
    "tags": []
   },
   "outputs": [],
   "source": [
    "# Drop the unused data\n",
    "df=df.drop([\"id\",\"EC3\",\"EC4\",\"EC5\",\"EC6\"],axis=1)"
   ]
  },
  {
   "cell_type": "markdown",
   "id": "b034a4d6",
   "metadata": {
    "papermill": {
     "duration": 0.008757,
     "end_time": "2023-07-08T18:45:57.612672",
     "exception": false,
     "start_time": "2023-07-08T18:45:57.603915",
     "status": "completed"
    },
    "tags": []
   },
   "source": [
    "<a id='ML1'></a>\n",
    "## Feature selection"
   ]
  },
  {
   "cell_type": "code",
   "execution_count": 7,
   "id": "def1d549",
   "metadata": {
    "execution": {
     "iopub.execute_input": "2023-07-08T18:45:57.633600Z",
     "iopub.status.busy": "2023-07-08T18:45:57.633265Z",
     "iopub.status.idle": "2023-07-08T18:45:57.639944Z",
     "shell.execute_reply": "2023-07-08T18:45:57.638719Z"
    },
    "papermill": {
     "duration": 0.019762,
     "end_time": "2023-07-08T18:45:57.642058",
     "exception": false,
     "start_time": "2023-07-08T18:45:57.622296",
     "status": "completed"
    },
    "tags": []
   },
   "outputs": [],
   "source": [
    "x_ec1=df.drop([\"EC2\",\"EC1\"],axis=1)\n",
    "y_ec1=df[\"EC1\"]"
   ]
  },
  {
   "cell_type": "code",
   "execution_count": 8,
   "id": "2a24185e",
   "metadata": {
    "execution": {
     "iopub.execute_input": "2023-07-08T18:45:57.663473Z",
     "iopub.status.busy": "2023-07-08T18:45:57.663036Z",
     "iopub.status.idle": "2023-07-08T18:45:59.319832Z",
     "shell.execute_reply": "2023-07-08T18:45:59.319196Z"
    },
    "papermill": {
     "duration": 1.670625,
     "end_time": "2023-07-08T18:45:59.321520",
     "exception": false,
     "start_time": "2023-07-08T18:45:57.650895",
     "status": "completed"
    },
    "tags": []
   },
   "outputs": [
    {
     "data": {
      "text/plain": [
       "['NumHeteroatoms',\n",
       " 'EState_VSA2',\n",
       " 'EState_VSA1',\n",
       " 'SMR_VSA10',\n",
       " 'PEOE_VSA14',\n",
       " 'PEOE_VSA8',\n",
       " 'Chi2v',\n",
       " 'Chi2n',\n",
       " 'Chi1v',\n",
       " 'ExactMolWt']"
      ]
     },
     "execution_count": 8,
     "metadata": {},
     "output_type": "execute_result"
    }
   ],
   "source": [
    "# Train a Gradient Boosting model\n",
    "model = xgb.XGBClassifier()\n",
    "model.fit(x_ec1, y_ec1)\n",
    "\n",
    "# Get feature importance scores\n",
    "importance_scores = model.feature_importances_\n",
    "\n",
    "# Sort features based on importance scores\n",
    "sorted_features = sorted(zip(importance_scores, x_ec1.columns), reverse=True)\n",
    "\n",
    "# Select top features based on importance scores\n",
    "k = 10\n",
    "selected_features_ec1 = [feature for _, feature in sorted_features[:k]]\n",
    "selected_features_ec1"
   ]
  },
  {
   "cell_type": "code",
   "execution_count": 9,
   "id": "9671b1bf",
   "metadata": {
    "execution": {
     "iopub.execute_input": "2023-07-08T18:45:59.340060Z",
     "iopub.status.busy": "2023-07-08T18:45:59.339673Z",
     "iopub.status.idle": "2023-07-08T18:45:59.581392Z",
     "shell.execute_reply": "2023-07-08T18:45:59.580152Z"
    },
    "papermill": {
     "duration": 0.253529,
     "end_time": "2023-07-08T18:45:59.583551",
     "exception": false,
     "start_time": "2023-07-08T18:45:59.330022",
     "status": "completed"
    },
    "tags": []
   },
   "outputs": [
    {
     "data": {
      "text/plain": [
       "<Axes: >"
      ]
     },
     "execution_count": 9,
     "metadata": {},
     "output_type": "execute_result"
    },
    {
     "data": {
      "image/png": "[encoded data removed]",
      "text/plain": [
       "<Figure size 640x480 with 1 Axes>"
      ]
     },
     "metadata": {},
     "output_type": "display_data"
    }
   ],
   "source": [
    "# use seaborn to visualize the importance of the features \n",
    "sns.barplot(x=[_ for _, feature in sorted_features[:k]],y=[feature for _, feature in sorted_features[:k]])"
   ]
  },
  {
   "cell_type": "code",
   "execution_count": 10,
   "id": "cc104f69",
   "metadata": {
    "execution": {
     "iopub.execute_input": "2023-07-08T18:45:59.602632Z",
     "iopub.status.busy": "2023-07-08T18:45:59.602215Z",
     "iopub.status.idle": "2023-07-08T18:45:59.607954Z",
     "shell.execute_reply": "2023-07-08T18:45:59.607035Z"
    },
    "papermill": {
     "duration": 0.017791,
     "end_time": "2023-07-08T18:45:59.610108",
     "exception": false,
     "start_time": "2023-07-08T18:45:59.592317",
     "status": "completed"
    },
    "tags": []
   },
   "outputs": [],
   "source": [
    "x3_ec2=df.drop([\"EC2\",\"EC1\"],axis=1)\n",
    "y3_ec2=df[\"EC2\"]"
   ]
  },
  {
   "cell_type": "code",
   "execution_count": 11,
   "id": "d075c3c7",
   "metadata": {
    "execution": {
     "iopub.execute_input": "2023-07-08T18:45:59.629349Z",
     "iopub.status.busy": "2023-07-08T18:45:59.628539Z",
     "iopub.status.idle": "2023-07-08T18:46:01.235028Z",
     "shell.execute_reply": "2023-07-08T18:46:01.233989Z"
    },
    "papermill": {
     "duration": 1.618283,
     "end_time": "2023-07-08T18:46:01.237073",
     "exception": false,
     "start_time": "2023-07-08T18:45:59.618790",
     "status": "completed"
    },
    "tags": []
   },
   "outputs": [
    {
     "data": {
      "text/plain": [
       "['fr_COO',\n",
       " 'SlogP_VSA3',\n",
       " 'Chi1v',\n",
       " 'ExactMolWt',\n",
       " 'Chi2v',\n",
       " 'Chi3v',\n",
       " 'Chi4n',\n",
       " 'Chi1',\n",
       " 'VSA_EState9',\n",
       " 'PEOE_VSA14']"
      ]
     },
     "execution_count": 11,
     "metadata": {},
     "output_type": "execute_result"
    }
   ],
   "source": [
    "# repeat the previous code for EC2\n",
    "model = xgb.XGBClassifier()\n",
    "model.fit(x3_ec2, y3_ec2)\n",
    "\n",
    "importance_scores = model.feature_importances_\n",
    "\n",
    "sorted_features = sorted(zip(importance_scores, x3_ec2.columns), reverse=True)\n",
    "\n",
    "k = 10\n",
    "selected_features_ec2 = [feature for _, feature in sorted_features[:k]]\n",
    "selected_features_ec2"
   ]
  },
  {
   "cell_type": "code",
   "execution_count": 12,
   "id": "220ec6a0",
   "metadata": {
    "execution": {
     "iopub.execute_input": "2023-07-08T18:46:01.256642Z",
     "iopub.status.busy": "2023-07-08T18:46:01.256178Z",
     "iopub.status.idle": "2023-07-08T18:46:01.480735Z",
     "shell.execute_reply": "2023-07-08T18:46:01.479753Z"
    },
    "papermill": {
     "duration": 0.236882,
     "end_time": "2023-07-08T18:46:01.483099",
     "exception": false,
     "start_time": "2023-07-08T18:46:01.246217",
     "status": "completed"
    },
    "tags": []
   },
   "outputs": [
    {
     "data": {
      "text/plain": [
       "<Axes: >"
      ]
     },
     "execution_count": 12,
     "metadata": {},
     "output_type": "execute_result"
    },
    {
     "data": {
      "image/png": "[encoded data removed]",
      "text/plain": [
       "<Figure size 640x480 with 1 Axes>"
      ]
     },
     "metadata": {},
     "output_type": "display_data"
    }
   ],
   "source": [
    "sns.barplot(x=[_ for _, feature in sorted_features[:k]],y=[feature for _, feature in sorted_features[:k]])\n"
   ]
  },
  {
   "cell_type": "code",
   "execution_count": 13,
   "id": "1e1cc38f",
   "metadata": {
    "execution": {
     "iopub.execute_input": "2023-07-08T18:46:01.504476Z",
     "iopub.status.busy": "2023-07-08T18:46:01.504063Z",
     "iopub.status.idle": "2023-07-08T18:46:01.513130Z",
     "shell.execute_reply": "2023-07-08T18:46:01.511901Z"
    },
    "papermill": {
     "duration": 0.022702,
     "end_time": "2023-07-08T18:46:01.515407",
     "exception": false,
     "start_time": "2023-07-08T18:46:01.492705",
     "status": "completed"
    },
    "tags": []
   },
   "outputs": [],
   "source": [
    "# apply the selected featsures\n",
    "x1=df[selected_features_ec1].values\n",
    "y1=df[\"EC1\"].values\n",
    "\n",
    "x2=df[selected_features_ec2].values \n",
    "y2=df[\"EC2\"].values\n"
   ]
  },
  {
   "cell_type": "markdown",
   "id": "4d46e389",
   "metadata": {
    "papermill": {
     "duration": 0.008968,
     "end_time": "2023-07-08T18:46:01.533803",
     "exception": false,
     "start_time": "2023-07-08T18:46:01.524835",
     "status": "completed"
    },
    "tags": []
   },
   "source": [
    "<a id='ML2'></a>\n",
    "## Train & test split\n"
   ]
  },
  {
   "cell_type": "code",
   "execution_count": 14,
   "id": "d7a8317c",
   "metadata": {
    "execution": {
     "iopub.execute_input": "2023-07-08T18:46:01.554098Z",
     "iopub.status.busy": "2023-07-08T18:46:01.553306Z",
     "iopub.status.idle": "2023-07-08T18:46:01.562731Z",
     "shell.execute_reply": "2023-07-08T18:46:01.561793Z"
    },
    "papermill": {
     "duration": 0.022099,
     "end_time": "2023-07-08T18:46:01.565158",
     "exception": false,
     "start_time": "2023-07-08T18:46:01.543059",
     "status": "completed"
    },
    "tags": []
   },
   "outputs": [],
   "source": [
    "x1_train,x1_test,y1_train,y1_test=train_test_split(x1,y1,test_size=0.3,random_state=1)\n",
    "x2_train,x2_test,y2_train,y2_test=train_test_split(x2,y2,test_size=0.3,random_state=1)"
   ]
  },
  {
   "cell_type": "markdown",
   "id": "81512559",
   "metadata": {
    "papermill": {
     "duration": 0.009115,
     "end_time": "2023-07-08T18:46:01.583909",
     "exception": false,
     "start_time": "2023-07-08T18:46:01.574794",
     "status": "completed"
    },
    "tags": []
   },
   "source": [
    "<a id='ML3'></a>\n",
    "## Model Selection\n"
   ]
  },
  {
   "cell_type": "code",
   "execution_count": 15,
   "id": "580edb46",
   "metadata": {
    "execution": {
     "iopub.execute_input": "2023-07-08T18:46:01.604790Z",
     "iopub.status.busy": "2023-07-08T18:46:01.604387Z",
     "iopub.status.idle": "2023-07-08T18:46:01.611084Z",
     "shell.execute_reply": "2023-07-08T18:46:01.609868Z"
    },
    "papermill": {
     "duration": 0.019517,
     "end_time": "2023-07-08T18:46:01.613097",
     "exception": false,
     "start_time": "2023-07-08T18:46:01.593580",
     "status": "completed"
    },
    "tags": []
   },
   "outputs": [],
   "source": [
    "# Use a function to apply the model easily\n",
    "def model(model_name,x_train,y_train,x_test,y_test):\n",
    "    model=model_name\n",
    "    model.fit(x_train,y_train)\n",
    "    pred_y=model.predict(x_test)\n",
    "    score=roc_auc_score(y_test,pred_y)\n",
    "    return score"
   ]
  },
  {
   "cell_type": "markdown",
   "id": "6d523cb8",
   "metadata": {
    "papermill": {
     "duration": 0.009599,
     "end_time": "2023-07-08T18:46:01.631994",
     "exception": false,
     "start_time": "2023-07-08T18:46:01.622395",
     "status": "completed"
    },
    "tags": []
   },
   "source": [
    "<a id='ML4'></a>\n",
    "#### EC1\n"
   ]
  },
  {
   "cell_type": "code",
   "execution_count": 16,
   "id": "8532d94d",
   "metadata": {
    "execution": {
     "iopub.execute_input": "2023-07-08T18:46:01.652744Z",
     "iopub.status.busy": "2023-07-08T18:46:01.652379Z",
     "iopub.status.idle": "2023-07-08T18:46:09.741539Z",
     "shell.execute_reply": "2023-07-08T18:46:09.740283Z"
    },
    "papermill": {
     "duration": 8.102738,
     "end_time": "2023-07-08T18:46:09.744328",
     "exception": false,
     "start_time": "2023-07-08T18:46:01.641590",
     "status": "completed"
    },
    "tags": []
   },
   "outputs": [
    {
     "name": "stdout",
     "output_type": "stream",
     "text": [
      "KNeighborsClassifier for EC1 0.5831359937335845\n",
      "XGBRegressor for EC1 0.6529954457676683\n",
      "LGBMClassifier for EC1 0.6117504039321219\n",
      "GBC for EC1 0.6158782167364169\n",
      "CBC for EC1 0.6094617356329033\n"
     ]
    }
   ],
   "source": [
    "# apply the aboce function on each model and get the result\n",
    "print(\"KNeighborsClassifier for EC1\",model(KNeighborsClassifier(),x1_train,y1_train,x1_test,y1_test))\n",
    "print(\"XGBRegressor for EC1\",model(XGBRegressor(),x1_train,y1_train,x1_test,y1_test))\n",
    "print(\"LGBMClassifier for EC1\",model(LGBMClassifier(),x1_train,y1_train,x1_test,y1_test))\n",
    "print(\"GBC for EC1\",model(GradientBoostingClassifier(),x1_train,y1_train,x1_test,y1_test))\n",
    "print(\"CBC for EC1\",model(CatBoostClassifier(verbose=False),x1_train,y1_train,x1_test,y1_test))"
   ]
  },
  {
   "cell_type": "markdown",
   "id": "a233a177",
   "metadata": {
    "papermill": {
     "duration": 0.009069,
     "end_time": "2023-07-08T18:46:09.763118",
     "exception": false,
     "start_time": "2023-07-08T18:46:09.754049",
     "status": "completed"
    },
    "tags": []
   },
   "source": [
    "The above result clarifies that the best result is in  GBC and then CBC so we figure out the hyperparameters to improve each one of them I will use a Gridsearch to find the best result but it will take time so I will appeal the result directly."
   ]
  },
  {
   "cell_type": "code",
   "execution_count": 17,
   "id": "f6b508dd",
   "metadata": {
    "execution": {
     "iopub.execute_input": "2023-07-08T18:46:09.783677Z",
     "iopub.status.busy": "2023-07-08T18:46:09.783336Z",
     "iopub.status.idle": "2023-07-08T18:46:10.949265Z",
     "shell.execute_reply": "2023-07-08T18:46:10.947763Z"
    },
    "papermill": {
     "duration": 1.179253,
     "end_time": "2023-07-08T18:46:10.952095",
     "exception": false,
     "start_time": "2023-07-08T18:46:09.772842",
     "status": "completed"
    },
    "tags": []
   },
   "outputs": [
    {
     "name": "stdout",
     "output_type": "stream",
     "text": [
      "GBC for EC1 0.6206883905096644\n"
     ]
    }
   ],
   "source": [
    "print(\"GBC for EC1\",model(GradientBoostingClassifier(max_depth=4,subsample=.8,\n",
    "min_samples_split=4,min_samples_leaf=5,max_leaf_nodes=2,validation_fraction=0.1),x1_train,y1_train,x1_test,y1_test))"
   ]
  },
  {
   "cell_type": "code",
   "execution_count": 18,
   "id": "52ee6d6a",
   "metadata": {
    "execution": {
     "iopub.execute_input": "2023-07-08T18:46:10.973122Z",
     "iopub.status.busy": "2023-07-08T18:46:10.972726Z",
     "iopub.status.idle": "2023-07-08T18:46:11.808043Z",
     "shell.execute_reply": "2023-07-08T18:46:11.806590Z"
    },
    "papermill": {
     "duration": 0.848237,
     "end_time": "2023-07-08T18:46:11.810094",
     "exception": false,
     "start_time": "2023-07-08T18:46:10.961857",
     "status": "completed"
    },
    "tags": []
   },
   "outputs": [
    {
     "name": "stdout",
     "output_type": "stream",
     "text": [
      "XGBRegressor for EC1 0.6896443086900531\n"
     ]
    }
   ],
   "source": [
    "# Use the hyperparameter of XGBRegressor model\n",
    "print(\"XGBRegressor for EC1\",model(XGBRegressor(learning_rate=.1,max_depth=4,subsample=.8,\n",
    "                                                gamma=.8,reg_alpha=.5),x1_train,y1_train,x1_test,y1_test))\n"
   ]
  },
  {
   "cell_type": "markdown",
   "id": "7ec25828",
   "metadata": {
    "papermill": {
     "duration": 0.008985,
     "end_time": "2023-07-08T18:46:11.828572",
     "exception": false,
     "start_time": "2023-07-08T18:46:11.819587",
     "status": "completed"
    },
    "tags": []
   },
   "source": [
    "<a id='ML5'></a>\n",
    "\n",
    "#### EC2"
   ]
  },
  {
   "cell_type": "markdown",
   "id": "6386052b",
   "metadata": {
    "papermill": {
     "duration": 0.009214,
     "end_time": "2023-07-08T18:46:11.847249",
     "exception": false,
     "start_time": "2023-07-08T18:46:11.838035",
     "status": "completed"
    },
    "tags": []
   },
   "source": [
    "Repeat all the above to find EC2"
   ]
  },
  {
   "cell_type": "code",
   "execution_count": 19,
   "id": "4c5cf1ba",
   "metadata": {
    "execution": {
     "iopub.execute_input": "2023-07-08T18:46:11.867769Z",
     "iopub.status.busy": "2023-07-08T18:46:11.867420Z",
     "iopub.status.idle": "2023-07-08T18:46:16.222248Z",
     "shell.execute_reply": "2023-07-08T18:46:16.220623Z"
    },
    "papermill": {
     "duration": 4.368353,
     "end_time": "2023-07-08T18:46:16.225192",
     "exception": false,
     "start_time": "2023-07-08T18:46:11.856839",
     "status": "completed"
    },
    "tags": []
   },
   "outputs": [
    {
     "name": "stdout",
     "output_type": "stream",
     "text": [
      "KNeighborsClassifier for EC2 0.5064743957756341\n",
      "XGBRegressor for EC2 0.5496457614394135\n",
      "LGBMClassifier for EC2 0.4991599846065523\n",
      "GBC for EC2 0.5019670807335861\n"
     ]
    }
   ],
   "source": [
    "# repeat the previous code\n",
    "print(\"KNeighborsClassifier for EC2\",model(KNeighborsClassifier(),x2_train,y2_train,x2_test,y2_test))\n",
    "print(\"XGBRegressor for EC2\",model(XGBRegressor(),x2_train,y2_train,x2_test,y2_test))\n",
    "print(\"LGBMClassifier for EC2\",model(LGBMClassifier(),x2_train,y2_train,x2_test,y2_test))\n",
    "print(\"GBC for EC2\",model(GradientBoostingClassifier(),x2_train,y2_train,x2_test,y2_test))"
   ]
  },
  {
   "cell_type": "code",
   "execution_count": 20,
   "id": "e3bdb495",
   "metadata": {
    "execution": {
     "iopub.execute_input": "2023-07-08T18:46:16.249266Z",
     "iopub.status.busy": "2023-07-08T18:46:16.248891Z",
     "iopub.status.idle": "2023-07-08T18:46:17.204643Z",
     "shell.execute_reply": "2023-07-08T18:46:17.203492Z"
    },
    "papermill": {
     "duration": 0.970496,
     "end_time": "2023-07-08T18:46:17.207061",
     "exception": false,
     "start_time": "2023-07-08T18:46:16.236565",
     "status": "completed"
    },
    "tags": []
   },
   "outputs": [
    {
     "name": "stdout",
     "output_type": "stream",
     "text": [
      "XGBRegressor for EC2 0.57426486824092\n"
     ]
    }
   ],
   "source": [
    "print(\"XGBRegressor for EC2\",model(XGBRegressor(learning_rate=.08,max_depth= 5,colsample_bytree= 0.9),x2_train,y2_train,x2_test,y2_test))"
   ]
  },
  {
   "cell_type": "markdown",
   "id": "51a3b8b7",
   "metadata": {
    "papermill": {
     "duration": 0.009726,
     "end_time": "2023-07-08T18:46:17.227514",
     "exception": false,
     "start_time": "2023-07-08T18:46:17.217788",
     "status": "completed"
    },
    "tags": []
   },
   "source": [
    "As we see above the best result are extacted for GradientBoostingClassifier"
   ]
  },
  {
   "cell_type": "markdown",
   "id": "8732efcf",
   "metadata": {
    "papermill": {
     "duration": 0.009784,
     "end_time": "2023-07-08T18:46:17.247330",
     "exception": false,
     "start_time": "2023-07-08T18:46:17.237546",
     "status": "completed"
    },
    "tags": []
   },
   "source": [
    "<a id='ML6'></a>\n",
    "\n",
    "## Model Selected"
   ]
  },
  {
   "cell_type": "code",
   "execution_count": 21,
   "id": "804b6c9a",
   "metadata": {
    "execution": {
     "iopub.execute_input": "2023-07-08T18:46:17.268906Z",
     "iopub.status.busy": "2023-07-08T18:46:17.268557Z",
     "iopub.status.idle": "2023-07-08T18:46:17.342475Z",
     "shell.execute_reply": "2023-07-08T18:46:17.340732Z"
    },
    "papermill": {
     "duration": 0.087949,
     "end_time": "2023-07-08T18:46:17.345334",
     "exception": false,
     "start_time": "2023-07-08T18:46:17.257385",
     "status": "completed"
    },
    "tags": []
   },
   "outputs": [],
   "source": [
    "df_test=pd.read_csv(\"/kaggle/input/playground-series-s3e18/test.csv\")"
   ]
  },
  {
   "cell_type": "code",
   "execution_count": 22,
   "id": "1b4fc243",
   "metadata": {
    "execution": {
     "iopub.execute_input": "2023-07-08T18:46:17.367471Z",
     "iopub.status.busy": "2023-07-08T18:46:17.367080Z",
     "iopub.status.idle": "2023-07-08T18:46:19.164795Z",
     "shell.execute_reply": "2023-07-08T18:46:19.163014Z"
    },
    "papermill": {
     "duration": 1.811952,
     "end_time": "2023-07-08T18:46:19.167629",
     "exception": false,
     "start_time": "2023-07-08T18:46:17.355677",
     "status": "completed"
    },
    "tags": []
   },
   "outputs": [
    {
     "name": "stdout",
     "output_type": "stream",
     "text": [
      "CatBoostRegressor Score for EC1 0.6896443086900531\n",
      "CatBoostRegressor Score for EC2 0.57426486824092\n"
     ]
    }
   ],
   "source": [
    "final_model_EC11=XGBRegressor(learning_rate=.1,max_depth=4,subsample=.8,gamma=.8,reg_alpha=.5)\n",
    "final_model_EC11.fit(x1_train,y1_train)\n",
    "pred_y_EC11=final_model_EC11.predict(x1_test)\n",
    "score_EC11=roc_auc_score(y1_test,pred_y_EC11)\n",
    "print(\"CatBoostRegressor Score for EC1\",score_EC11)\n",
    "\n",
    "final_model_EC22=XGBRegressor(learning_rate=.08,max_depth= 5,colsample_bytree= 0.9)\n",
    "final_model_EC22.fit(x2_train,y2_train)\n",
    "pred_y_EC22=final_model_EC22.predict(x2_test)\n",
    "score_EC22=roc_auc_score(y2_test,pred_y_EC22)\n",
    "print(\"CatBoostRegressor Score for EC2\",score_EC22)"
   ]
  },
  {
   "cell_type": "code",
   "execution_count": 23,
   "id": "ac53e3e0",
   "metadata": {
    "execution": {
     "iopub.execute_input": "2023-07-08T18:46:19.189973Z",
     "iopub.status.busy": "2023-07-08T18:46:19.189611Z",
     "iopub.status.idle": "2023-07-08T18:46:19.198009Z",
     "shell.execute_reply": "2023-07-08T18:46:19.196623Z"
    },
    "papermill": {
     "duration": 0.022775,
     "end_time": "2023-07-08T18:46:19.200933",
     "exception": false,
     "start_time": "2023-07-08T18:46:19.178158",
     "status": "completed"
    },
    "tags": []
   },
   "outputs": [],
   "source": [
    "x_df_test_EC11=df_test[selected_features_ec1].values\n",
    "x_df_test_EC22=df_test[selected_features_ec2].values"
   ]
  },
  {
   "cell_type": "code",
   "execution_count": 24,
   "id": "43b72ee8",
   "metadata": {
    "execution": {
     "iopub.execute_input": "2023-07-08T18:46:19.222737Z",
     "iopub.status.busy": "2023-07-08T18:46:19.222409Z",
     "iopub.status.idle": "2023-07-08T18:46:19.256277Z",
     "shell.execute_reply": "2023-07-08T18:46:19.254864Z"
    },
    "papermill": {
     "duration": 0.047615,
     "end_time": "2023-07-08T18:46:19.258806",
     "exception": false,
     "start_time": "2023-07-08T18:46:19.211191",
     "status": "completed"
    },
    "tags": []
   },
   "outputs": [],
   "source": [
    "probablity_EC11=final_model_EC11.predict(x_df_test_EC11)\n",
    "probablity_EC22=final_model_EC22.predict(x_df_test_EC22)"
   ]
  },
  {
   "cell_type": "code",
   "execution_count": 25,
   "id": "33a253f3",
   "metadata": {
    "execution": {
     "iopub.execute_input": "2023-07-08T18:46:19.281167Z",
     "iopub.status.busy": "2023-07-08T18:46:19.280818Z",
     "iopub.status.idle": "2023-07-08T18:46:19.291116Z",
     "shell.execute_reply": "2023-07-08T18:46:19.290247Z"
    },
    "papermill": {
     "duration": 0.023708,
     "end_time": "2023-07-08T18:46:19.292966",
     "exception": false,
     "start_time": "2023-07-08T18:46:19.269258",
     "status": "completed"
    },
    "tags": []
   },
   "outputs": [
    {
     "data": {
      "text/html": [
       "<div>\n",
       "<style scoped>\n",
       "    .dataframe tbody tr th:only-of-type {\n",
       "        vertical-align: middle;\n",
       "    }\n",
       "\n",
       "    .dataframe tbody tr th {\n",
       "        vertical-align: top;\n",
       "    }\n",
       "\n",
       "    .dataframe thead th {\n",
       "        text-align: right;\n",
       "    }\n",
       "</style>\n",
       "<table border=\"1\" class=\"dataframe\">\n",
       "  <thead>\n",
       "    <tr style=\"text-align: right;\">\n",
       "      <th></th>\n",
       "      <th>id</th>\n",
       "      <th>EC1</th>\n",
       "      <th>EC2</th>\n",
       "    </tr>\n",
       "  </thead>\n",
       "  <tbody>\n",
       "    <tr>\n",
       "      <th>0</th>\n",
       "      <td>14838</td>\n",
       "      <td>0.491012</td>\n",
       "      <td>0.780473</td>\n",
       "    </tr>\n",
       "    <tr>\n",
       "      <th>1</th>\n",
       "      <td>14839</td>\n",
       "      <td>0.780427</td>\n",
       "      <td>0.833498</td>\n",
       "    </tr>\n",
       "    <tr>\n",
       "      <th>2</th>\n",
       "      <td>14840</td>\n",
       "      <td>0.845874</td>\n",
       "      <td>0.707203</td>\n",
       "    </tr>\n",
       "    <tr>\n",
       "      <th>3</th>\n",
       "      <td>14841</td>\n",
       "      <td>0.712117</td>\n",
       "      <td>0.841624</td>\n",
       "    </tr>\n",
       "    <tr>\n",
       "      <th>4</th>\n",
       "      <td>14842</td>\n",
       "      <td>0.863009</td>\n",
       "      <td>0.803509</td>\n",
       "    </tr>\n",
       "  </tbody>\n",
       "</table>\n",
       "</div>"
      ],
      "text/plain": [
       "      id       EC1       EC2\n",
       "0  14838  0.491012  0.780473\n",
       "1  14839  0.780427  0.833498\n",
       "2  14840  0.845874  0.707203\n",
       "3  14841  0.712117  0.841624\n",
       "4  14842  0.863009  0.803509"
      ]
     },
     "execution_count": 25,
     "metadata": {},
     "output_type": "execute_result"
    }
   ],
   "source": [
    "pred=pd.DataFrame({'id':df_test['id'],'EC1':probablity_EC11,'EC2':probablity_EC22})\n",
    "pred.head()"
   ]
  },
  {
   "cell_type": "code",
   "execution_count": 26,
   "id": "7d5a4d1a",
   "metadata": {
    "execution": {
     "iopub.execute_input": "2023-07-08T18:46:19.315395Z",
     "iopub.status.busy": "2023-07-08T18:46:19.315000Z",
     "iopub.status.idle": "2023-07-08T18:46:19.344466Z",
     "shell.execute_reply": "2023-07-08T18:46:19.343341Z"
    },
    "papermill": {
     "duration": 0.04367,
     "end_time": "2023-07-08T18:46:19.346956",
     "exception": false,
     "start_time": "2023-07-08T18:46:19.303286",
     "status": "completed"
    },
    "tags": []
   },
   "outputs": [],
   "source": [
    "pred.to_csv(\"submission.csv\",index=False)"
   ]
  },
  {
   "cell_type": "code",
   "execution_count": 27,
   "id": "b5a4d2f5",
   "metadata": {
    "execution": {
     "iopub.execute_input": "2023-07-08T18:46:19.368627Z",
     "iopub.status.busy": "2023-07-08T18:46:19.368267Z",
     "iopub.status.idle": "2023-07-08T18:46:19.673072Z",
     "shell.execute_reply": "2023-07-08T18:46:19.672313Z"
    },
    "papermill": {
     "duration": 0.318497,
     "end_time": "2023-07-08T18:46:19.675610",
     "exception": false,
     "start_time": "2023-07-08T18:46:19.357113",
     "status": "completed"
    },
    "tags": []
   },
   "outputs": [
    {
     "name": "stdout",
     "output_type": "stream",
     "text": [
      "id,EC1,EC2\r\n",
      "14838,0.49101186,0.7804728\r\n",
      "14839,0.7804274,0.83349776\r\n",
      "14840,0.8458737,0.7072032\r\n",
      "14841,0.71211666,0.8416238\r\n",
      "14842,0.86300933,0.80350935\r\n",
      "14843,0.5265552,0.7641775\r\n",
      "14844,0.64112496,0.864455\r\n",
      "14845,0.5733046,0.79665244\r\n",
      "14846,0.6395086,0.7796072\r\n"
     ]
    }
   ],
   "source": [
    "!head submission.csv"
   ]
  },
  {
   "cell_type": "markdown",
   "id": "4513f6b1",
   "metadata": {
    "papermill": {
     "duration": 0.010869,
     "end_time": "2023-07-08T18:46:19.697745",
     "exception": false,
     "start_time": "2023-07-08T18:46:19.686876",
     "status": "completed"
    },
    "tags": []
   },
   "source": [
    "<a id='conclusions'></a>\n",
    "## Conclusion\n",
    "\n",
    "* We try to get the best result using an appropriate model and the final result appeared that the best model we can use in this case is XGBRegressor after applying many hyperparameters we find out the best result in the test data are :\n",
    "* around 69 % for EC1\n",
    "* around 57 % for EC2"
   ]
  }
 ],
 "metadata": {
  "kernelspec": {
   "display_name": "Python 3",
   "language": "python",
   "name": "python3"
  },
  "language_info": {
   "codemirror_mode": {
    "name": "ipython",
    "version": 3
   },
   "file_extension": ".py",
   "mimetype": "text/x-python",
   "name": "python",
   "nbconvert_exporter": "python",
   "pygments_lexer": "ipython3",
   "version": "3.10.10"
  },
  "papermill": {
   "default_parameters": {},
   "duration": 37.500188,
   "end_time": "2023-07-08T18:46:20.935508",
   "environment_variables": {},
   "exception": null,
   "input_path": "__notebook__.ipynb",
   "output_path": "__notebook__.ipynb",
   "parameters": {},
   "start_time": "2023-07-08T18:45:43.435320",
   "version": "2.4.0"
  }
 },
 "nbformat": 4,
 "nbformat_minor": 5
}
