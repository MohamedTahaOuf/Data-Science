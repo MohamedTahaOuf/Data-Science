{
 "cells": [
  {
   "cell_type": "code",
   "execution_count": 1,
   "id": "4a65cbe0",
   "metadata": {
    "execution": {
     "iopub.execute_input": "2023-02-26T22:50:03.866269Z",
     "iopub.status.busy": "2023-02-26T22:50:03.865836Z",
     "iopub.status.idle": "2023-02-26T22:50:03.875928Z",
     "shell.execute_reply": "2023-02-26T22:50:03.874788Z"
    },
    "papermill": {
     "duration": 0.022103,
     "end_time": "2023-02-26T22:50:03.878696",
     "exception": false,
     "start_time": "2023-02-26T22:50:03.856593",
     "status": "completed"
    },
    "tags": []
   },
   "outputs": [],
   "source": [
    "import pandas as pd\n",
    "import numpy as np"
   ]
  },
  {
   "cell_type": "code",
   "execution_count": 2,
   "id": "577b971b",
   "metadata": {
    "execution": {
     "iopub.execute_input": "2023-02-26T22:50:03.893314Z",
     "iopub.status.busy": "2023-02-26T22:50:03.892872Z",
     "iopub.status.idle": "2023-02-26T22:50:04.027606Z",
     "shell.execute_reply": "2023-02-26T22:50:04.026314Z"
    },
    "papermill": {
     "duration": 0.145447,
     "end_time": "2023-02-26T22:50:04.030466",
     "exception": false,
     "start_time": "2023-02-26T22:50:03.885019",
     "status": "completed"
    },
    "tags": []
   },
   "outputs": [],
   "source": [
    "melb= pd.read_csv(\"/kaggle/input/melb-data/melb_data.csv\")"
   ]
  },
  {
   "cell_type": "code",
   "execution_count": 3,
   "id": "d4f10bac",
   "metadata": {
    "execution": {
     "iopub.execute_input": "2023-02-26T22:50:04.045278Z",
     "iopub.status.busy": "2023-02-26T22:50:04.044034Z",
     "iopub.status.idle": "2023-02-26T22:50:04.083855Z",
     "shell.execute_reply": "2023-02-26T22:50:04.082532Z"
    },
    "papermill": {
     "duration": 0.050352,
     "end_time": "2023-02-26T22:50:04.086981",
     "exception": false,
     "start_time": "2023-02-26T22:50:04.036629",
     "status": "completed"
    },
    "tags": []
   },
   "outputs": [
    {
     "name": "stdout",
     "output_type": "stream",
     "text": [
      "<class 'pandas.core.frame.DataFrame'>\n",
      "RangeIndex: 18396 entries, 0 to 18395\n",
      "Data columns (total 22 columns):\n",
      " #   Column         Non-Null Count  Dtype  \n",
      "---  ------         --------------  -----  \n",
      " 0   Unnamed: 0     18396 non-null  int64  \n",
      " 1   Suburb         18396 non-null  object \n",
      " 2   Address        18396 non-null  object \n",
      " 3   Rooms          18396 non-null  int64  \n",
      " 4   Type           18396 non-null  object \n",
      " 5   Price          18396 non-null  float64\n",
      " 6   Method         18396 non-null  object \n",
      " 7   SellerG        18396 non-null  object \n",
      " 8   Date           18396 non-null  object \n",
      " 9   Distance       18395 non-null  float64\n",
      " 10  Postcode       18395 non-null  float64\n",
      " 11  Bedroom2       14927 non-null  float64\n",
      " 12  Bathroom       14925 non-null  float64\n",
      " 13  Car            14820 non-null  float64\n",
      " 14  Landsize       13603 non-null  float64\n",
      " 15  BuildingArea   7762 non-null   float64\n",
      " 16  YearBuilt      8958 non-null   float64\n",
      " 17  CouncilArea    12233 non-null  object \n",
      " 18  Lattitude      15064 non-null  float64\n",
      " 19  Longtitude     15064 non-null  float64\n",
      " 20  Regionname     18395 non-null  object \n",
      " 21  Propertycount  18395 non-null  float64\n",
      "dtypes: float64(12), int64(2), object(8)\n",
      "memory usage: 3.1+ MB\n"
     ]
    }
   ],
   "source": [
    "melb.info()"
   ]
  },
  {
   "cell_type": "code",
   "execution_count": 4,
   "id": "3ee94dfc",
   "metadata": {
    "execution": {
     "iopub.execute_input": "2023-02-26T22:50:04.101216Z",
     "iopub.status.busy": "2023-02-26T22:50:04.100771Z",
     "iopub.status.idle": "2023-02-26T22:50:04.111886Z",
     "shell.execute_reply": "2023-02-26T22:50:04.110461Z"
    },
    "papermill": {
     "duration": 0.021371,
     "end_time": "2023-02-26T22:50:04.114633",
     "exception": false,
     "start_time": "2023-02-26T22:50:04.093262",
     "status": "completed"
    },
    "tags": []
   },
   "outputs": [],
   "source": [
    "melb.drop([\"Suburb\",\"Address\",\"SellerG\",\"Date\",\"CouncilArea\",\"BuildingArea\",\"YearBuilt\"],axis=1,inplace=True)"
   ]
  },
  {
   "cell_type": "code",
   "execution_count": 5,
   "id": "cd75b2b3",
   "metadata": {
    "execution": {
     "iopub.execute_input": "2023-02-26T22:50:04.129935Z",
     "iopub.status.busy": "2023-02-26T22:50:04.129026Z",
     "iopub.status.idle": "2023-02-26T22:50:04.152140Z",
     "shell.execute_reply": "2023-02-26T22:50:04.151004Z"
    },
    "papermill": {
     "duration": 0.033967,
     "end_time": "2023-02-26T22:50:04.154887",
     "exception": false,
     "start_time": "2023-02-26T22:50:04.120920",
     "status": "completed"
    },
    "tags": []
   },
   "outputs": [],
   "source": [
    "melb=pd.get_dummies(melb,[\"Type\",\"Method\",\"Regionname\"])"
   ]
  },
  {
   "cell_type": "code",
   "execution_count": 6,
   "id": "5a8628c5",
   "metadata": {
    "execution": {
     "iopub.execute_input": "2023-02-26T22:50:04.171056Z",
     "iopub.status.busy": "2023-02-26T22:50:04.169679Z",
     "iopub.status.idle": "2023-02-26T22:50:04.183350Z",
     "shell.execute_reply": "2023-02-26T22:50:04.181979Z"
    },
    "papermill": {
     "duration": 0.024425,
     "end_time": "2023-02-26T22:50:04.186165",
     "exception": false,
     "start_time": "2023-02-26T22:50:04.161740",
     "status": "completed"
    },
    "tags": []
   },
   "outputs": [],
   "source": [
    "melb=melb.dropna()"
   ]
  },
  {
   "cell_type": "code",
   "execution_count": 7,
   "id": "8e3792b1",
   "metadata": {
    "execution": {
     "iopub.execute_input": "2023-02-26T22:50:04.201780Z",
     "iopub.status.busy": "2023-02-26T22:50:04.200872Z",
     "iopub.status.idle": "2023-02-26T22:50:04.221447Z",
     "shell.execute_reply": "2023-02-26T22:50:04.219044Z"
    },
    "papermill": {
     "duration": 0.031923,
     "end_time": "2023-02-26T22:50:04.224667",
     "exception": false,
     "start_time": "2023-02-26T22:50:04.192744",
     "status": "completed"
    },
    "tags": []
   },
   "outputs": [
    {
     "name": "stdout",
     "output_type": "stream",
     "text": [
      "<class 'pandas.core.frame.DataFrame'>\n",
      "Int64Index: 13518 entries, 0 to 18394\n",
      "Data columns (total 28 columns):\n",
      " #   Column                                 Non-Null Count  Dtype  \n",
      "---  ------                                 --------------  -----  \n",
      " 0   Unnamed: 0                             13518 non-null  int64  \n",
      " 1   Rooms                                  13518 non-null  int64  \n",
      " 2   Price                                  13518 non-null  float64\n",
      " 3   Distance                               13518 non-null  float64\n",
      " 4   Postcode                               13518 non-null  float64\n",
      " 5   Bedroom2                               13518 non-null  float64\n",
      " 6   Bathroom                               13518 non-null  float64\n",
      " 7   Car                                    13518 non-null  float64\n",
      " 8   Landsize                               13518 non-null  float64\n",
      " 9   Lattitude                              13518 non-null  float64\n",
      " 10  Longtitude                             13518 non-null  float64\n",
      " 11  Propertycount                          13518 non-null  float64\n",
      " 12  Type_h                                 13518 non-null  uint8  \n",
      " 13  Type_t                                 13518 non-null  uint8  \n",
      " 14  Type_u                                 13518 non-null  uint8  \n",
      " 15  Method_PI                              13518 non-null  uint8  \n",
      " 16  Method_S                               13518 non-null  uint8  \n",
      " 17  Method_SA                              13518 non-null  uint8  \n",
      " 18  Method_SP                              13518 non-null  uint8  \n",
      " 19  Method_VB                              13518 non-null  uint8  \n",
      " 20  Regionname_Eastern Metropolitan        13518 non-null  uint8  \n",
      " 21  Regionname_Eastern Victoria            13518 non-null  uint8  \n",
      " 22  Regionname_Northern Metropolitan       13518 non-null  uint8  \n",
      " 23  Regionname_Northern Victoria           13518 non-null  uint8  \n",
      " 24  Regionname_South-Eastern Metropolitan  13518 non-null  uint8  \n",
      " 25  Regionname_Southern Metropolitan       13518 non-null  uint8  \n",
      " 26  Regionname_Western Metropolitan        13518 non-null  uint8  \n",
      " 27  Regionname_Western Victoria            13518 non-null  uint8  \n",
      "dtypes: float64(10), int64(2), uint8(16)\n",
      "memory usage: 1.5 MB\n"
     ]
    }
   ],
   "source": [
    "melb.info()"
   ]
  },
  {
   "cell_type": "code",
   "execution_count": 8,
   "id": "55776760",
   "metadata": {
    "execution": {
     "iopub.execute_input": "2023-02-26T22:50:04.240353Z",
     "iopub.status.busy": "2023-02-26T22:50:04.239600Z",
     "iopub.status.idle": "2023-02-26T22:50:05.714508Z",
     "shell.execute_reply": "2023-02-26T22:50:05.713346Z"
    },
    "papermill": {
     "duration": 1.486318,
     "end_time": "2023-02-26T22:50:05.717469",
     "exception": false,
     "start_time": "2023-02-26T22:50:04.231151",
     "status": "completed"
    },
    "tags": []
   },
   "outputs": [],
   "source": [
    "# Import Sklearn\n",
    "from sklearn.model_selection import train_test_split\n",
    "from sklearn.linear_model import LinearRegression\n",
    "from sklearn.tree import DecisionTreeRegressor\n",
    "from sklearn.neighbors import KNeighborsRegressor\n",
    "from sklearn.ensemble import RandomForestRegressor\n",
    "from sklearn.model_selection import GridSearchCV\n",
    "from sklearn.metrics import mean_absolute_error,mean_squared_error"
   ]
  },
  {
   "cell_type": "code",
   "execution_count": 9,
   "id": "b88addb3",
   "metadata": {
    "execution": {
     "iopub.execute_input": "2023-02-26T22:50:05.732246Z",
     "iopub.status.busy": "2023-02-26T22:50:05.731778Z",
     "iopub.status.idle": "2023-02-26T22:50:05.743966Z",
     "shell.execute_reply": "2023-02-26T22:50:05.742600Z"
    },
    "papermill": {
     "duration": 0.022809,
     "end_time": "2023-02-26T22:50:05.746739",
     "exception": false,
     "start_time": "2023-02-26T22:50:05.723930",
     "status": "completed"
    },
    "tags": []
   },
   "outputs": [],
   "source": [
    "# generate x and y\n",
    "X=melb.drop(\"Price\",axis=1).values\n",
    "y=melb[\"Price\"].values"
   ]
  },
  {
   "cell_type": "markdown",
   "id": "b632e4b6",
   "metadata": {
    "papermill": {
     "duration": 0.005919,
     "end_time": "2023-02-26T22:50:05.759003",
     "exception": false,
     "start_time": "2023-02-26T22:50:05.753084",
     "status": "completed"
    },
    "tags": []
   },
   "source": [
    "## Train & test split"
   ]
  },
  {
   "cell_type": "markdown",
   "id": "6bbc4b94",
   "metadata": {
    "papermill": {
     "duration": 0.005811,
     "end_time": "2023-02-26T22:50:05.770985",
     "exception": false,
     "start_time": "2023-02-26T22:50:05.765174",
     "status": "completed"
    },
    "tags": []
   },
   "source": [
    "Train & test split is used to split the data into train and test to make sure that the model is not just save the result."
   ]
  },
  {
   "cell_type": "code",
   "execution_count": 10,
   "id": "4d8afb1f",
   "metadata": {
    "execution": {
     "iopub.execute_input": "2023-02-26T22:50:05.786597Z",
     "iopub.status.busy": "2023-02-26T22:50:05.785855Z",
     "iopub.status.idle": "2023-02-26T22:50:05.796714Z",
     "shell.execute_reply": "2023-02-26T22:50:05.795387Z"
    },
    "papermill": {
     "duration": 0.021389,
     "end_time": "2023-02-26T22:50:05.799663",
     "exception": false,
     "start_time": "2023-02-26T22:50:05.778274",
     "status": "completed"
    },
    "tags": []
   },
   "outputs": [],
   "source": [
    "x_train , x_test , y_train , y_test = train_test_split(X,y,test_size=.3,random_state=1)"
   ]
  },
  {
   "cell_type": "markdown",
   "id": "c569e760",
   "metadata": {
    "papermill": {
     "duration": 0.005932,
     "end_time": "2023-02-26T22:50:05.811842",
     "exception": false,
     "start_time": "2023-02-26T22:50:05.805910",
     "status": "completed"
    },
    "tags": []
   },
   "source": [
    "## LinearRegression"
   ]
  },
  {
   "cell_type": "markdown",
   "id": "ebf8c491",
   "metadata": {
    "papermill": {
     "duration": 0.006019,
     "end_time": "2023-02-26T22:50:05.824021",
     "exception": false,
     "start_time": "2023-02-26T22:50:05.818002",
     "status": "completed"
    },
    "tags": []
   },
   "source": [
    "Using the linear equation to check if the data is linear or not"
   ]
  },
  {
   "cell_type": "code",
   "execution_count": 11,
   "id": "cdcc153b",
   "metadata": {
    "execution": {
     "iopub.execute_input": "2023-02-26T22:50:05.839340Z",
     "iopub.status.busy": "2023-02-26T22:50:05.837992Z",
     "iopub.status.idle": "2023-02-26T22:50:05.881318Z",
     "shell.execute_reply": "2023-02-26T22:50:05.878954Z"
    },
    "papermill": {
     "duration": 0.055685,
     "end_time": "2023-02-26T22:50:05.885924",
     "exception": false,
     "start_time": "2023-02-26T22:50:05.830239",
     "status": "completed"
    },
    "tags": []
   },
   "outputs": [
    {
     "name": "stdout",
     "output_type": "stream",
     "text": [
      "linear MAE for training :  273909.15\n",
      "linear MAE for testing :  272400.07\n"
     ]
    }
   ],
   "source": [
    "linear=LinearRegression()\n",
    "linear.fit(x_train,y_train)\n",
    "\n",
    "y_train_pred=linear.predict(x_train)\n",
    "print(\"linear MAE for training : \",round(mean_absolute_error(y_train,y_train_pred),2))\n",
    "\n",
    "y_test_pred=linear.predict(x_test)\n",
    "print(\"linear MAE for testing : \",round(mean_absolute_error(y_test,y_test_pred),2))"
   ]
  },
  {
   "cell_type": "markdown",
   "id": "0a01c573",
   "metadata": {
    "papermill": {
     "duration": 0.010066,
     "end_time": "2023-02-26T22:50:05.907459",
     "exception": false,
     "start_time": "2023-02-26T22:50:05.897393",
     "status": "completed"
    },
    "tags": []
   },
   "source": [
    "## DecisionTreeRegressor & GridSearchCV"
   ]
  },
  {
   "cell_type": "markdown",
   "id": "1f124f84",
   "metadata": {
    "papermill": {
     "duration": 0.009811,
     "end_time": "2023-02-26T22:50:05.927681",
     "exception": false,
     "start_time": "2023-02-26T22:50:05.917870",
     "status": "completed"
    },
    "tags": []
   },
   "source": [
    "Using the decision tree is learn from the data till get the leaf all most be overfit in traing so we use the parameters & GridSearch to choose the best parameters"
   ]
  },
  {
   "cell_type": "code",
   "execution_count": 12,
   "id": "d6a6eee4",
   "metadata": {
    "execution": {
     "iopub.execute_input": "2023-02-26T22:50:05.951256Z",
     "iopub.status.busy": "2023-02-26T22:50:05.950434Z",
     "iopub.status.idle": "2023-02-26T22:50:21.333481Z",
     "shell.execute_reply": "2023-02-26T22:50:21.332158Z"
    },
    "papermill": {
     "duration": 15.398365,
     "end_time": "2023-02-26T22:50:21.336438",
     "exception": false,
     "start_time": "2023-02-26T22:50:05.938073",
     "status": "completed"
    },
    "tags": []
   },
   "outputs": [
    {
     "data": {
      "text/plain": [
       "GridSearchCV(estimator=DecisionTreeRegressor(),\n",
       "             param_grid={'max_depth': range(5, 18), 'max_features': [26],\n",
       "                         'max_leaf_nodes': [600, 650, 700, 750, 800]})"
      ]
     },
     "execution_count": 12,
     "metadata": {},
     "output_type": "execute_result"
    }
   ],
   "source": [
    "GS=GridSearchCV(estimator=DecisionTreeRegressor(),param_grid={\n",
    "    \"max_depth\":range(5,18),\n",
    "    \"max_features\":[26],\n",
    "    \"max_leaf_nodes\":[600,650,700,750,800]\n",
    "})\n",
    "GS.fit(x_train,y_train)"
   ]
  },
  {
   "cell_type": "code",
   "execution_count": 13,
   "id": "a8eb33e6",
   "metadata": {
    "execution": {
     "iopub.execute_input": "2023-02-26T22:50:21.352462Z",
     "iopub.status.busy": "2023-02-26T22:50:21.351508Z",
     "iopub.status.idle": "2023-02-26T22:50:21.395247Z",
     "shell.execute_reply": "2023-02-26T22:50:21.393807Z"
    },
    "papermill": {
     "duration": 0.055259,
     "end_time": "2023-02-26T22:50:21.398725",
     "exception": false,
     "start_time": "2023-02-26T22:50:21.343466",
     "status": "completed"
    },
    "scrolled": true,
    "tags": []
   },
   "outputs": [
    {
     "data": {
      "text/html": [
       "<div>\n",
       "<style scoped>\n",
       "    .dataframe tbody tr th:only-of-type {\n",
       "        vertical-align: middle;\n",
       "    }\n",
       "\n",
       "    .dataframe tbody tr th {\n",
       "        vertical-align: top;\n",
       "    }\n",
       "\n",
       "    .dataframe thead th {\n",
       "        text-align: right;\n",
       "    }\n",
       "</style>\n",
       "<table border=\"1\" class=\"dataframe\">\n",
       "  <thead>\n",
       "    <tr style=\"text-align: right;\">\n",
       "      <th></th>\n",
       "      <th>mean_fit_time</th>\n",
       "      <th>std_fit_time</th>\n",
       "      <th>mean_score_time</th>\n",
       "      <th>std_score_time</th>\n",
       "      <th>param_max_depth</th>\n",
       "      <th>param_max_features</th>\n",
       "      <th>param_max_leaf_nodes</th>\n",
       "      <th>params</th>\n",
       "      <th>split0_test_score</th>\n",
       "      <th>split1_test_score</th>\n",
       "      <th>split2_test_score</th>\n",
       "      <th>split3_test_score</th>\n",
       "      <th>split4_test_score</th>\n",
       "      <th>mean_test_score</th>\n",
       "      <th>std_test_score</th>\n",
       "      <th>rank_test_score</th>\n",
       "    </tr>\n",
       "  </thead>\n",
       "  <tbody>\n",
       "    <tr>\n",
       "      <th>0</th>\n",
       "      <td>0.029399</td>\n",
       "      <td>0.006524</td>\n",
       "      <td>0.000897</td>\n",
       "      <td>0.000101</td>\n",
       "      <td>5</td>\n",
       "      <td>26</td>\n",
       "      <td>600</td>\n",
       "      <td>{'max_depth': 5, 'max_features': 26, 'max_leaf...</td>\n",
       "      <td>0.628505</td>\n",
       "      <td>0.635772</td>\n",
       "      <td>0.543363</td>\n",
       "      <td>0.596280</td>\n",
       "      <td>0.548744</td>\n",
       "      <td>0.590533</td>\n",
       "      <td>0.038711</td>\n",
       "      <td>45</td>\n",
       "    </tr>\n",
       "    <tr>\n",
       "      <th>1</th>\n",
       "      <td>0.025964</td>\n",
       "      <td>0.000674</td>\n",
       "      <td>0.000870</td>\n",
       "      <td>0.000034</td>\n",
       "      <td>5</td>\n",
       "      <td>26</td>\n",
       "      <td>650</td>\n",
       "      <td>{'max_depth': 5, 'max_features': 26, 'max_leaf...</td>\n",
       "      <td>0.632455</td>\n",
       "      <td>0.630398</td>\n",
       "      <td>0.537435</td>\n",
       "      <td>0.588748</td>\n",
       "      <td>0.562411</td>\n",
       "      <td>0.590289</td>\n",
       "      <td>0.037309</td>\n",
       "      <td>46</td>\n",
       "    </tr>\n",
       "    <tr>\n",
       "      <th>2</th>\n",
       "      <td>0.026454</td>\n",
       "      <td>0.000418</td>\n",
       "      <td>0.000856</td>\n",
       "      <td>0.000013</td>\n",
       "      <td>5</td>\n",
       "      <td>26</td>\n",
       "      <td>700</td>\n",
       "      <td>{'max_depth': 5, 'max_features': 26, 'max_leaf...</td>\n",
       "      <td>0.632490</td>\n",
       "      <td>0.624235</td>\n",
       "      <td>0.551845</td>\n",
       "      <td>0.596661</td>\n",
       "      <td>0.554169</td>\n",
       "      <td>0.591880</td>\n",
       "      <td>0.033893</td>\n",
       "      <td>42</td>\n",
       "    </tr>\n",
       "    <tr>\n",
       "      <th>3</th>\n",
       "      <td>0.025713</td>\n",
       "      <td>0.000491</td>\n",
       "      <td>0.000853</td>\n",
       "      <td>0.000019</td>\n",
       "      <td>5</td>\n",
       "      <td>26</td>\n",
       "      <td>750</td>\n",
       "      <td>{'max_depth': 5, 'max_features': 26, 'max_leaf...</td>\n",
       "      <td>0.632490</td>\n",
       "      <td>0.635948</td>\n",
       "      <td>0.549128</td>\n",
       "      <td>0.586945</td>\n",
       "      <td>0.562265</td>\n",
       "      <td>0.593355</td>\n",
       "      <td>0.035523</td>\n",
       "      <td>40</td>\n",
       "    </tr>\n",
       "    <tr>\n",
       "      <th>4</th>\n",
       "      <td>0.025869</td>\n",
       "      <td>0.000165</td>\n",
       "      <td>0.000836</td>\n",
       "      <td>0.000010</td>\n",
       "      <td>5</td>\n",
       "      <td>26</td>\n",
       "      <td>800</td>\n",
       "      <td>{'max_depth': 5, 'max_features': 26, 'max_leaf...</td>\n",
       "      <td>0.632490</td>\n",
       "      <td>0.635948</td>\n",
       "      <td>0.546209</td>\n",
       "      <td>0.590009</td>\n",
       "      <td>0.562384</td>\n",
       "      <td>0.593408</td>\n",
       "      <td>0.036163</td>\n",
       "      <td>39</td>\n",
       "    </tr>\n",
       "    <tr>\n",
       "      <th>...</th>\n",
       "      <td>...</td>\n",
       "      <td>...</td>\n",
       "      <td>...</td>\n",
       "      <td>...</td>\n",
       "      <td>...</td>\n",
       "      <td>...</td>\n",
       "      <td>...</td>\n",
       "      <td>...</td>\n",
       "      <td>...</td>\n",
       "      <td>...</td>\n",
       "      <td>...</td>\n",
       "      <td>...</td>\n",
       "      <td>...</td>\n",
       "      <td>...</td>\n",
       "      <td>...</td>\n",
       "      <td>...</td>\n",
       "    </tr>\n",
       "    <tr>\n",
       "      <th>60</th>\n",
       "      <td>0.053225</td>\n",
       "      <td>0.000486</td>\n",
       "      <td>0.000984</td>\n",
       "      <td>0.000021</td>\n",
       "      <td>17</td>\n",
       "      <td>26</td>\n",
       "      <td>600</td>\n",
       "      <td>{'max_depth': 17, 'max_features': 26, 'max_lea...</td>\n",
       "      <td>0.641276</td>\n",
       "      <td>0.678023</td>\n",
       "      <td>0.602536</td>\n",
       "      <td>0.613732</td>\n",
       "      <td>0.467915</td>\n",
       "      <td>0.600696</td>\n",
       "      <td>0.071317</td>\n",
       "      <td>32</td>\n",
       "    </tr>\n",
       "    <tr>\n",
       "      <th>61</th>\n",
       "      <td>0.053105</td>\n",
       "      <td>0.000728</td>\n",
       "      <td>0.000995</td>\n",
       "      <td>0.000026</td>\n",
       "      <td>17</td>\n",
       "      <td>26</td>\n",
       "      <td>650</td>\n",
       "      <td>{'max_depth': 17, 'max_features': 26, 'max_lea...</td>\n",
       "      <td>0.631878</td>\n",
       "      <td>0.662713</td>\n",
       "      <td>0.622068</td>\n",
       "      <td>0.615357</td>\n",
       "      <td>0.481907</td>\n",
       "      <td>0.602785</td>\n",
       "      <td>0.062577</td>\n",
       "      <td>30</td>\n",
       "    </tr>\n",
       "    <tr>\n",
       "      <th>62</th>\n",
       "      <td>0.054869</td>\n",
       "      <td>0.000791</td>\n",
       "      <td>0.001003</td>\n",
       "      <td>0.000012</td>\n",
       "      <td>17</td>\n",
       "      <td>26</td>\n",
       "      <td>700</td>\n",
       "      <td>{'max_depth': 17, 'max_features': 26, 'max_lea...</td>\n",
       "      <td>0.545834</td>\n",
       "      <td>0.686961</td>\n",
       "      <td>0.599426</td>\n",
       "      <td>0.443014</td>\n",
       "      <td>0.464615</td>\n",
       "      <td>0.547970</td>\n",
       "      <td>0.089370</td>\n",
       "      <td>64</td>\n",
       "    </tr>\n",
       "    <tr>\n",
       "      <th>63</th>\n",
       "      <td>0.054656</td>\n",
       "      <td>0.000519</td>\n",
       "      <td>0.001023</td>\n",
       "      <td>0.000052</td>\n",
       "      <td>17</td>\n",
       "      <td>26</td>\n",
       "      <td>750</td>\n",
       "      <td>{'max_depth': 17, 'max_features': 26, 'max_lea...</td>\n",
       "      <td>0.603669</td>\n",
       "      <td>0.656701</td>\n",
       "      <td>0.607169</td>\n",
       "      <td>0.650931</td>\n",
       "      <td>0.474223</td>\n",
       "      <td>0.598539</td>\n",
       "      <td>0.065853</td>\n",
       "      <td>35</td>\n",
       "    </tr>\n",
       "    <tr>\n",
       "      <th>64</th>\n",
       "      <td>0.056179</td>\n",
       "      <td>0.001443</td>\n",
       "      <td>0.001037</td>\n",
       "      <td>0.000034</td>\n",
       "      <td>17</td>\n",
       "      <td>26</td>\n",
       "      <td>800</td>\n",
       "      <td>{'max_depth': 17, 'max_features': 26, 'max_lea...</td>\n",
       "      <td>0.627065</td>\n",
       "      <td>0.644971</td>\n",
       "      <td>0.582792</td>\n",
       "      <td>0.652912</td>\n",
       "      <td>0.447611</td>\n",
       "      <td>0.591070</td>\n",
       "      <td>0.075729</td>\n",
       "      <td>44</td>\n",
       "    </tr>\n",
       "  </tbody>\n",
       "</table>\n",
       "<p>65 rows × 16 columns</p>\n",
       "</div>"
      ],
      "text/plain": [
       "    mean_fit_time  std_fit_time  mean_score_time  std_score_time  \\\n",
       "0        0.029399      0.006524         0.000897        0.000101   \n",
       "1        0.025964      0.000674         0.000870        0.000034   \n",
       "2        0.026454      0.000418         0.000856        0.000013   \n",
       "3        0.025713      0.000491         0.000853        0.000019   \n",
       "4        0.025869      0.000165         0.000836        0.000010   \n",
       "..            ...           ...              ...             ...   \n",
       "60       0.053225      0.000486         0.000984        0.000021   \n",
       "61       0.053105      0.000728         0.000995        0.000026   \n",
       "62       0.054869      0.000791         0.001003        0.000012   \n",
       "63       0.054656      0.000519         0.001023        0.000052   \n",
       "64       0.056179      0.001443         0.001037        0.000034   \n",
       "\n",
       "   param_max_depth param_max_features param_max_leaf_nodes  \\\n",
       "0                5                 26                  600   \n",
       "1                5                 26                  650   \n",
       "2                5                 26                  700   \n",
       "3                5                 26                  750   \n",
       "4                5                 26                  800   \n",
       "..             ...                ...                  ...   \n",
       "60              17                 26                  600   \n",
       "61              17                 26                  650   \n",
       "62              17                 26                  700   \n",
       "63              17                 26                  750   \n",
       "64              17                 26                  800   \n",
       "\n",
       "                                               params  split0_test_score  \\\n",
       "0   {'max_depth': 5, 'max_features': 26, 'max_leaf...           0.628505   \n",
       "1   {'max_depth': 5, 'max_features': 26, 'max_leaf...           0.632455   \n",
       "2   {'max_depth': 5, 'max_features': 26, 'max_leaf...           0.632490   \n",
       "3   {'max_depth': 5, 'max_features': 26, 'max_leaf...           0.632490   \n",
       "4   {'max_depth': 5, 'max_features': 26, 'max_leaf...           0.632490   \n",
       "..                                                ...                ...   \n",
       "60  {'max_depth': 17, 'max_features': 26, 'max_lea...           0.641276   \n",
       "61  {'max_depth': 17, 'max_features': 26, 'max_lea...           0.631878   \n",
       "62  {'max_depth': 17, 'max_features': 26, 'max_lea...           0.545834   \n",
       "63  {'max_depth': 17, 'max_features': 26, 'max_lea...           0.603669   \n",
       "64  {'max_depth': 17, 'max_features': 26, 'max_lea...           0.627065   \n",
       "\n",
       "    split1_test_score  split2_test_score  split3_test_score  \\\n",
       "0            0.635772           0.543363           0.596280   \n",
       "1            0.630398           0.537435           0.588748   \n",
       "2            0.624235           0.551845           0.596661   \n",
       "3            0.635948           0.549128           0.586945   \n",
       "4            0.635948           0.546209           0.590009   \n",
       "..                ...                ...                ...   \n",
       "60           0.678023           0.602536           0.613732   \n",
       "61           0.662713           0.622068           0.615357   \n",
       "62           0.686961           0.599426           0.443014   \n",
       "63           0.656701           0.607169           0.650931   \n",
       "64           0.644971           0.582792           0.652912   \n",
       "\n",
       "    split4_test_score  mean_test_score  std_test_score  rank_test_score  \n",
       "0            0.548744         0.590533        0.038711               45  \n",
       "1            0.562411         0.590289        0.037309               46  \n",
       "2            0.554169         0.591880        0.033893               42  \n",
       "3            0.562265         0.593355        0.035523               40  \n",
       "4            0.562384         0.593408        0.036163               39  \n",
       "..                ...              ...             ...              ...  \n",
       "60           0.467915         0.600696        0.071317               32  \n",
       "61           0.481907         0.602785        0.062577               30  \n",
       "62           0.464615         0.547970        0.089370               64  \n",
       "63           0.474223         0.598539        0.065853               35  \n",
       "64           0.447611         0.591070        0.075729               44  \n",
       "\n",
       "[65 rows x 16 columns]"
      ]
     },
     "execution_count": 13,
     "metadata": {},
     "output_type": "execute_result"
    }
   ],
   "source": [
    "pd.DataFrame(GS.cv_results_)"
   ]
  },
  {
   "cell_type": "code",
   "execution_count": 14,
   "id": "d13932da",
   "metadata": {
    "execution": {
     "iopub.execute_input": "2023-02-26T22:50:21.415056Z",
     "iopub.status.busy": "2023-02-26T22:50:21.413891Z",
     "iopub.status.idle": "2023-02-26T22:50:21.423570Z",
     "shell.execute_reply": "2023-02-26T22:50:21.422350Z"
    },
    "papermill": {
     "duration": 0.020559,
     "end_time": "2023-02-26T22:50:21.426238",
     "exception": false,
     "start_time": "2023-02-26T22:50:21.405679",
     "status": "completed"
    },
    "scrolled": true,
    "tags": []
   },
   "outputs": [
    {
     "data": {
      "text/plain": [
       "{'max_depth': 7, 'max_features': 26, 'max_leaf_nodes': 600}"
      ]
     },
     "execution_count": 14,
     "metadata": {},
     "output_type": "execute_result"
    }
   ],
   "source": [
    "best=GS.best_params_\n",
    "best"
   ]
  },
  {
   "cell_type": "code",
   "execution_count": 15,
   "id": "bd8f15d5",
   "metadata": {
    "execution": {
     "iopub.execute_input": "2023-02-26T22:50:21.443331Z",
     "iopub.status.busy": "2023-02-26T22:50:21.442595Z",
     "iopub.status.idle": "2023-02-26T22:50:21.497870Z",
     "shell.execute_reply": "2023-02-26T22:50:21.496307Z"
    },
    "papermill": {
     "duration": 0.067095,
     "end_time": "2023-02-26T22:50:21.500680",
     "exception": false,
     "start_time": "2023-02-26T22:50:21.433585",
     "status": "completed"
    },
    "tags": []
   },
   "outputs": [
    {
     "name": "stdout",
     "output_type": "stream",
     "text": [
      "DecisionTree MAE for training :  208864.35\n",
      "DecisionTree MAE for testing :  229973.75\n"
     ]
    }
   ],
   "source": [
    "best_DT=DecisionTreeRegressor(max_depth=7,max_features=26,max_leaf_nodes=650)\n",
    "best_DT.fit(x_train,y_train)\n",
    "\n",
    "y_train_pred=best_DT.predict(x_train)\n",
    "print(\"DecisionTree MAE for training : \",round(mean_absolute_error(y_train,y_train_pred),2))\n",
    "\n",
    "y_test_pred=best_DT.predict(x_test)\n",
    "print(\"DecisionTree MAE for testing : \",round(mean_absolute_error(y_test,y_test_pred),2))"
   ]
  },
  {
   "cell_type": "markdown",
   "id": "19a81020",
   "metadata": {
    "papermill": {
     "duration": 0.006694,
     "end_time": "2023-02-26T22:50:21.514591",
     "exception": false,
     "start_time": "2023-02-26T22:50:21.507897",
     "status": "completed"
    },
    "tags": []
   },
   "source": [
    "As we see above the best estimator in DT with get 21K MAE in testing"
   ]
  },
  {
   "cell_type": "code",
   "execution_count": 16,
   "id": "c589e24d",
   "metadata": {
    "execution": {
     "iopub.execute_input": "2023-02-26T22:50:21.530778Z",
     "iopub.status.busy": "2023-02-26T22:50:21.530365Z",
     "iopub.status.idle": "2023-02-26T22:50:24.359012Z",
     "shell.execute_reply": "2023-02-26T22:50:24.357686Z"
    },
    "papermill": {
     "duration": 2.840344,
     "end_time": "2023-02-26T22:50:24.361993",
     "exception": false,
     "start_time": "2023-02-26T22:50:21.521649",
     "status": "completed"
    },
    "tags": []
   },
   "outputs": [
    {
     "name": "stdout",
     "output_type": "stream",
     "text": [
      "DecisionTree MAE for training :  267915.26\n",
      "DecisionTree MAE for testing :  326456.66\n"
     ]
    }
   ],
   "source": [
    "KNN=KNeighborsRegressor()\n",
    "KNN.fit(x_train,y_train)\n",
    "\n",
    "y_train_pred=KNN.predict(x_train)\n",
    "print(\"DecisionTree MAE for training : \",round(mean_absolute_error(y_train,y_train_pred),2))\n",
    "\n",
    "y_test_pred=KNN.predict(x_test)\n",
    "print(\"DecisionTree MAE for testing : \",round(mean_absolute_error(y_test,y_test_pred),2))"
   ]
  },
  {
   "cell_type": "code",
   "execution_count": 17,
   "id": "41b3de6c",
   "metadata": {
    "execution": {
     "iopub.execute_input": "2023-02-26T22:50:24.378599Z",
     "iopub.status.busy": "2023-02-26T22:50:24.378156Z",
     "iopub.status.idle": "2023-02-26T22:50:54.077571Z",
     "shell.execute_reply": "2023-02-26T22:50:54.076146Z"
    },
    "papermill": {
     "duration": 29.710788,
     "end_time": "2023-02-26T22:50:54.080306",
     "exception": false,
     "start_time": "2023-02-26T22:50:24.369518",
     "status": "completed"
    },
    "scrolled": true,
    "tags": []
   },
   "outputs": [
    {
     "name": "stdout",
     "output_type": "stream",
     "text": [
      "RandomForest MAE for training when n_estimators={100} & max_depth={40} :  64636.06\n",
      "RandomForest MAE for testing when n_estimators={100} & max_depth={40} :  167390.58\n",
      "RandomForest MAE for training when n_estimators={150} & max_depth={45} :  64267.18\n",
      "RandomForest MAE for testing when n_estimators={150} & max_depth={45} :  166984.26\n",
      "RandomForest MAE for training when n_estimators={200} & max_depth={50} :  63810.52\n",
      "RandomForest MAE for testing when n_estimators={200} & max_depth={50} :  167458.15\n"
     ]
    }
   ],
   "source": [
    "for i,x in zip([100,150,200],[40,45,50]):\n",
    "    RF=RandomForestRegressor(n_estimators=i,max_depth=x)\n",
    "    RF.fit(x_train,y_train)\n",
    "    y_train_pred=RF.predict(x_train)\n",
    "    print(\"RandomForest MAE for training when n_estimators={} & max_depth={} : \".format({i},{x}),round(mean_absolute_error(y_train,y_train_pred),2))\n",
    "    y_test_pred=RF.predict(x_test)\n",
    "    print(\"RandomForest MAE for testing when n_estimators={} & max_depth={} : \".format({i},{x}),round(mean_absolute_error(y_test,y_test_pred),2))"
   ]
  },
  {
   "cell_type": "markdown",
   "id": "0b4b434a",
   "metadata": {
    "papermill": {
     "duration": 0.007223,
     "end_time": "2023-02-26T22:50:54.095419",
     "exception": false,
     "start_time": "2023-02-26T22:50:54.088196",
     "status": "completed"
    },
    "tags": []
   },
   "source": [
    "Conclusion:\n",
    "\n",
    "    * The best model we can use is RandomForest with a mean_absolute_error in testing 166K"
   ]
  }
 ],
 "metadata": {
  "kernelspec": {
   "display_name": "Python 3",
   "language": "python",
   "name": "python3"
  },
  "language_info": {
   "codemirror_mode": {
    "name": "ipython",
    "version": 3
   },
   "file_extension": ".py",
   "mimetype": "text/x-python",
   "name": "python",
   "nbconvert_exporter": "python",
   "pygments_lexer": "ipython3",
   "version": "3.7.12"
  },
  "papermill": {
   "default_parameters": {},
   "duration": 61.482781,
   "end_time": "2023-02-26T22:50:54.826190",
   "environment_variables": {},
   "exception": null,
   "input_path": "__notebook__.ipynb",
   "output_path": "__notebook__.ipynb",
   "parameters": {},
   "start_time": "2023-02-26T22:49:53.343409",
   "version": "2.4.0"
  }
 },
 "nbformat": 4,
 "nbformat_minor": 5
}
